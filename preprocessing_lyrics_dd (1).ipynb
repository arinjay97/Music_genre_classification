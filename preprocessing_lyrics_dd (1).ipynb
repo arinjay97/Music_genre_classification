{
  "nbformat": 4,
  "nbformat_minor": 0,
  "metadata": {
    "colab": {
      "provenance": []
    },
    "kernelspec": {
      "name": "python3",
      "display_name": "Python 3"
    },
    "language_info": {
      "name": "python"
    }
  },
  "cells": [
    {
      "cell_type": "code",
      "execution_count": null,
      "metadata": {
        "id": "BHUh5uoYN4YT"
      },
      "outputs": [],
      "source": [
        "# This is a sample Python script.\n",
        "\n",
        "# Press ⌃R to execute it or replace it with your code.\n",
        "# Press Double ⇧ to search everywhere for classes, files, tool windows, actions, and settings.\n",
        "\n",
        "\n",
        "\n",
        "import requests\n",
        "import pandas as pd\n",
        "import numpy as np\n",
        "\n",
        "def get_track_info(artist, track, api_key=\"97662dee81ea9750fd40e9e3f9b24053\"):\n",
        "\n",
        "    url = 'http://ws.audioscrobbler.com/2.0/'\n",
        "\n",
        "    params = {\n",
        "\n",
        "    'method': 'track.getInfo',\n",
        "\n",
        "    'artist': artist,\n",
        "\n",
        "    'track': track,\n",
        "\n",
        "    'api_key': api_key,\n",
        "\n",
        "    'format': 'json'\n",
        "\n",
        "    }\n",
        "\n",
        "    try:\n",
        "        response = requests.get(url, params=params)\n",
        "\n",
        "        data = response.json()\n",
        "    except:\n",
        "        return None\n",
        "\n",
        "\n",
        "\n",
        "    try:\n",
        "\n",
        "        genre = data['track']['toptags']['tag'][0]['name']\n",
        "\n",
        "    except:\n",
        "        return None\n",
        "\n",
        "    return genre\n",
        "\n",
        "\n",
        "\n",
        "\n"
      ]
    },
    {
      "cell_type": "code",
      "source": [
        "# started at 5:50 PM Wed\n",
        "df = pd.read_csv('songs.csv')\n",
        "a, b, dfc = np.array_split(df, 3)\n",
        "\n",
        "c1,c2,c3,c4,c5,c6,c7,c8,c9,c10 = np.array_split(dfc, 10)\n",
        "\n"
      ],
      "metadata": {
        "id": "IUlWwu-CODnB"
      },
      "execution_count": null,
      "outputs": []
    },
    {
      "cell_type": "code",
      "source": [
        "c1['Genre'] = c1.apply(lambda x: get_track_info(x[\"Artist\"], x[\"SName\"]), axis=1)\n",
        "\n",
        "c1.to_csv('c1_with_genre.csv')\n",
        "\n",
        "print(\"C1 SAVING COMPLETE!\")"
      ],
      "metadata": {
        "colab": {
          "base_uri": "https://localhost:8080/"
        },
        "id": "xsN-vp3hRTYs",
        "outputId": "97698901-33f7-4a46-d456-aa89d21d6c63"
      },
      "execution_count": null,
      "outputs": [
        {
          "output_type": "stream",
          "name": "stdout",
          "text": [
            "C1 SAVING COMPLETE!\n"
          ]
        }
      ]
    },
    {
      "cell_type": "code",
      "source": [
        "c2['Genre'] = c2.apply(lambda x: get_track_info(x[\"Artist\"], x[\"SName\"]), axis=1)\n",
        "\n",
        "c2.to_csv('c2_with_genre.csv')\n",
        "\n",
        "print(\"C2 SAVING COMPLETE!\")"
      ],
      "metadata": {
        "colab": {
          "base_uri": "https://localhost:8080/"
        },
        "id": "G3_NpjZMPCRT",
        "outputId": "0b503e0f-f933-4c93-f435-bd571fb3ea59"
      },
      "execution_count": null,
      "outputs": [
        {
          "output_type": "stream",
          "name": "stdout",
          "text": [
            "C2 SAVING COMPLETE!\n"
          ]
        }
      ]
    },
    {
      "cell_type": "code",
      "source": [
        "c3['Genre'] = c3.apply(lambda x: get_track_info(x[\"Artist\"], x[\"SName\"]), axis=1)\n",
        "\n",
        "c3.to_csv('c3_with_genre.csv')\n",
        "\n",
        "print(\"C3 SAVING COMPLETE!\")"
      ],
      "metadata": {
        "colab": {
          "base_uri": "https://localhost:8080/"
        },
        "id": "nzytk_oOPCOp",
        "outputId": "85013db0-658c-4fed-e955-d121d4e5c9ce"
      },
      "execution_count": null,
      "outputs": [
        {
          "output_type": "stream",
          "name": "stdout",
          "text": [
            "C3 SAVING COMPLETE!\n"
          ]
        }
      ]
    },
    {
      "cell_type": "code",
      "source": [
        "c4['Genre'] = c4.apply(lambda x: get_track_info(x[\"Artist\"], x[\"SName\"]), axis=1)\n",
        "\n",
        "c4.to_csv('c4_with_genre.csv')\n",
        "\n",
        "print(\"C4 SAVING COMPLETE!\")"
      ],
      "metadata": {
        "colab": {
          "base_uri": "https://localhost:8080/"
        },
        "id": "OGStPJaLPCL0",
        "outputId": "d0f2e771-b3b4-4bd4-eb43-3e6d33611c03"
      },
      "execution_count": null,
      "outputs": [
        {
          "output_type": "stream",
          "name": "stdout",
          "text": [
            "C4 SAVING COMPLETE!\n"
          ]
        }
      ]
    },
    {
      "cell_type": "code",
      "source": [
        "c5['Genre'] = c5.apply(lambda x: get_track_info(x[\"Artist\"], x[\"SName\"]), axis=1)\n",
        "\n",
        "c5.to_csv('c5_with_genre.csv')\n",
        "\n",
        "print(\"C5 SAVING COMPLETE!\")"
      ],
      "metadata": {
        "colab": {
          "base_uri": "https://localhost:8080/"
        },
        "id": "b_O7vHJ_PCJe",
        "outputId": "4a67b35f-b151-4439-987a-57524058ddbd"
      },
      "execution_count": null,
      "outputs": [
        {
          "output_type": "stream",
          "name": "stdout",
          "text": [
            "C5 SAVING COMPLETE!\n"
          ]
        }
      ]
    },
    {
      "cell_type": "code",
      "source": [
        "c6['Genre'] = c6.apply(lambda x: get_track_info(x[\"Artist\"], x[\"SName\"]), axis=1)\n",
        "\n",
        "c6.to_csv('c6_with_genre.csv')\n",
        "\n",
        "print(\"C6 SAVING COMPLETE!\")"
      ],
      "metadata": {
        "colab": {
          "base_uri": "https://localhost:8080/"
        },
        "id": "-qTqAENkPCGy",
        "outputId": "eaa96c35-f3a6-411f-d01a-1f05c1126753"
      },
      "execution_count": null,
      "outputs": [
        {
          "output_type": "stream",
          "name": "stdout",
          "text": [
            "C6 SAVING COMPLETE!\n"
          ]
        }
      ]
    },
    {
      "cell_type": "code",
      "source": [
        "c7['Genre'] = c7.apply(lambda x: get_track_info(x[\"Artist\"], x[\"SName\"]), axis=1)\n",
        "\n",
        "c7.to_csv('c7_with_genre.csv')\n",
        "\n",
        "print(\"C7 SAVING COMPLETE!\")"
      ],
      "metadata": {
        "colab": {
          "base_uri": "https://localhost:8080/"
        },
        "id": "Va07YThhPCEH",
        "outputId": "7a83063d-cc82-412b-9007-71353c3b1ea6"
      },
      "execution_count": null,
      "outputs": [
        {
          "output_type": "stream",
          "name": "stdout",
          "text": [
            "C7 SAVING COMPLETE!\n"
          ]
        }
      ]
    },
    {
      "cell_type": "code",
      "source": [
        "c8['Genre'] = c8.apply(lambda x: get_track_info(x[\"Artist\"], x[\"SName\"]), axis=1)\n",
        "\n",
        "c8.to_csv('c8_with_genre.csv')\n",
        "\n",
        "print(\"C8 SAVING COMPLETE!\")"
      ],
      "metadata": {
        "colab": {
          "base_uri": "https://localhost:8080/"
        },
        "id": "4n3GMtoHPCBk",
        "outputId": "5bf04e91-0b81-4183-d3e3-70f0eb73d82d"
      },
      "execution_count": null,
      "outputs": [
        {
          "output_type": "stream",
          "name": "stdout",
          "text": [
            "C8 SAVING COMPLETE!\n"
          ]
        }
      ]
    },
    {
      "cell_type": "code",
      "source": [
        "c9['Genre'] = c9.apply(lambda x: get_track_info(x[\"Artist\"], x[\"SName\"]), axis=1)\n",
        "\n",
        "c9.to_csv('c9_with_genre.csv')\n",
        "\n",
        "print(\"C9 SAVING COMPLETE!\")"
      ],
      "metadata": {
        "colab": {
          "base_uri": "https://localhost:8080/"
        },
        "id": "-HvIHX3fRe5_",
        "outputId": "21a52983-9cc1-46ab-ecc8-e457d6803f22"
      },
      "execution_count": null,
      "outputs": [
        {
          "output_type": "stream",
          "name": "stdout",
          "text": [
            "C9 SAVING COMPLETE!\n"
          ]
        }
      ]
    },
    {
      "cell_type": "code",
      "source": [
        "c10['Genre'] = c10.apply(lambda x: get_track_info(x[\"Artist\"], x[\"SName\"]), axis=1)\n",
        "\n",
        "c10.to_csv('c10_with_genre.csv')\n",
        "\n",
        "print(\"C10 SAVING COMPLETE!\")"
      ],
      "metadata": {
        "colab": {
          "base_uri": "https://localhost:8080/"
        },
        "id": "9VUN6UDtRfXU",
        "outputId": "9e55e3f1-6a4b-420a-b373-eaf6bbf68a95"
      },
      "execution_count": null,
      "outputs": [
        {
          "output_type": "stream",
          "name": "stdout",
          "text": [
            "C10 SAVING COMPLETE!\n"
          ]
        }
      ]
    },
    {
      "cell_type": "code",
      "source": [],
      "metadata": {
        "id": "0e2vAW-WTXUk"
      },
      "execution_count": null,
      "outputs": []
    },
    {
      "cell_type": "code",
      "source": [
        "# import libraries\n",
        "import pandas as pd\n",
        "import numpy as np\n",
        "import nltk\n",
        "import re\n",
        "from nltk.stem import WordNetLemmatizer\n",
        "from nltk.tokenize import sent_tokenize\n",
        "from nltk.tokenize import word_tokenize\n",
        "from nltk.corpus import wordnet\n",
        "from nltk.corpus import stopwords\n",
        "nltk.download('wordnet')\n",
        "nltk.download('punkt')\n",
        "nltk.download('averaged_perceptron_tagger')\n",
        "nltk.download('stopwords')"
      ],
      "metadata": {
        "colab": {
          "base_uri": "https://localhost:8080/"
        },
        "id": "55j_9L8bs3zY",
        "outputId": "d8d04771-aa89-4e18-f23f-92b6d5ba9652"
      },
      "execution_count": 1,
      "outputs": [
        {
          "output_type": "stream",
          "name": "stderr",
          "text": [
            "[nltk_data] Downloading package wordnet to /root/nltk_data...\n",
            "[nltk_data] Downloading package punkt to /root/nltk_data...\n",
            "[nltk_data]   Unzipping tokenizers/punkt.zip.\n",
            "[nltk_data] Downloading package averaged_perceptron_tagger to\n",
            "[nltk_data]     /root/nltk_data...\n",
            "[nltk_data]   Unzipping taggers/averaged_perceptron_tagger.zip.\n",
            "[nltk_data] Downloading package stopwords to /root/nltk_data...\n",
            "[nltk_data]   Unzipping corpora/stopwords.zip.\n"
          ]
        },
        {
          "output_type": "execute_result",
          "data": {
            "text/plain": [
              "True"
            ]
          },
          "metadata": {},
          "execution_count": 1
        }
      ]
    },
    {
      "cell_type": "code",
      "source": [
        "# read csv file\n",
        "df = pd.read_csv('training_data.csv')"
      ],
      "metadata": {
        "id": "zuv3JXfutKsh"
      },
      "execution_count": 13,
      "outputs": []
    },
    {
      "cell_type": "code",
      "source": [],
      "metadata": {
        "id": "IDE8R20dv7fg"
      },
      "execution_count": 13,
      "outputs": []
    },
    {
      "cell_type": "code",
      "source": [
        "# convert all lyrics to lower text\n",
        "\n",
        "def convert_to_lowercase(song_lyrics):\n",
        "    return str(song_lyrics.str.lower())"
      ],
      "metadata": {
        "id": "xADBwK7jtnjM"
      },
      "execution_count": 14,
      "outputs": []
    },
    {
      "cell_type": "code",
      "source": [
        "# convert all lyrics to lower text\n",
        "\n",
        "def convert_to_lowercase(song_lyrics):\n",
        "    return song_lyrics.lower()"
      ],
      "metadata": {
        "id": "RH-kqdLgGlFY"
      },
      "execution_count": 15,
      "outputs": []
    },
    {
      "cell_type": "code",
      "source": [
        "# lemmatization \n",
        "def lemmatize(song_lyrics):\n",
        "    def get_wordnet_pos(word):\n",
        "    \n",
        "      tag = nltk.pos_tag([word])[0][1][0].upper()\n",
        "      tag_dict = {\"J\": wordnet.ADJ,\n",
        "                  \"N\": wordnet.NOUN,\n",
        "                  \"V\": wordnet.VERB,\n",
        "                  \"R\": wordnet.ADV}\n",
        "\n",
        "      return tag_dict.get(tag, wordnet.NOUN)\n",
        "\n",
        "    res = []\n",
        "    lemmatizer = WordNetLemmatizer()\n",
        "    for sent in song_lyrics:\n",
        "      res.append([lemmatizer.lemmatize(w, get_wordnet_pos(w)) for w in nltk.word_tokenize(sent)])\n",
        "\n",
        "    return res"
      ],
      "metadata": {
        "id": "on2ovdbKtsuF"
      },
      "execution_count": 16,
      "outputs": []
    },
    {
      "cell_type": "code",
      "source": [
        "stop_words = set(stopwords.words('english'))\n",
        "stop_words_without_punct = set()\n",
        "for word in stop_words:\n",
        "  stop_words_without_punct.add(word)\n",
        "  stop_words_without_punct.add(remove_end_of_line(word))"
      ],
      "metadata": {
        "id": "Px_9sBfgx3kt"
      },
      "execution_count": 17,
      "outputs": []
    },
    {
      "cell_type": "code",
      "source": [
        "def remove_stop_words_and_lemmatize(song_lyrics):\n",
        "  def get_wordnet_pos(word):\n",
        "    \n",
        "      tag = nltk.pos_tag([word])[0][1][0].upper()\n",
        "      tag_dict = {\"J\": wordnet.ADJ,\n",
        "                  \"N\": wordnet.NOUN,\n",
        "                  \"V\": wordnet.VERB,\n",
        "                  \"R\": wordnet.ADV}\n",
        "\n",
        "      return tag_dict.get(tag, wordnet.NOUN)\n",
        "  stop_words = set(stopwords.words('english'))\n",
        "  lemmatizer = WordNetLemmatizer()\n",
        "  res = []\n",
        "  for sent in song_lyrics:\n",
        "    new_sent = []\n",
        "    for word in sent.split():\n",
        "      if word not in stop_words_without_punct:\n",
        "        new_sent.append(lemmatizer.lemmatize(word, get_wordnet_pos(word)))\n",
        "    res.append(new_sent)\n",
        "  return res"
      ],
      "metadata": {
        "id": "oAE_BDIc3CEb"
      },
      "execution_count": 18,
      "outputs": []
    },
    {
      "cell_type": "code",
      "source": [
        "def remove_end_of_line(song_lyrics):\n",
        "  song_lyrics = song_lyrics.replace('\\n\\n','. ')\n",
        "  song_lyrics = re.sub(r'[^\\w\\s\\.]', '', song_lyrics)\n",
        "  return song_lyrics.replace('\\n','. ')"
      ],
      "metadata": {
        "id": "y0Kg6lk_xD8n"
      },
      "execution_count": 21,
      "outputs": []
    },
    {
      "cell_type": "code",
      "source": [
        "def tokenize_each_sent(song_lyrics):\n",
        "  res = []\n",
        "  for sent in song_lyrics:\n",
        "    tokenized_sent = word_tokenize(sent)\n",
        "    res.append(tokenized_sent)\n",
        "  return res"
      ],
      "metadata": {
        "id": "PLgqD8nGzUZO"
      },
      "execution_count": 22,
      "outputs": []
    },
    {
      "cell_type": "code",
      "source": [
        "def remove_square_brackets(song_lyrics):\n",
        "  pattern = r'\\[.*?\\]'\n",
        "  return re.sub(pattern, '', song_lyrics)"
      ],
      "metadata": {
        "id": "PgJ-lI1_5n6y"
      },
      "execution_count": 23,
      "outputs": []
    },
    {
      "cell_type": "code",
      "source": [
        "def remove_period_at_end(song_lyrics):\n",
        "  res = []\n",
        "  for sent in song_lyrics:\n",
        "    res.append(sent[:-1])\n",
        "  return res"
      ],
      "metadata": {
        "id": "QPPGSXK4ALXL"
      },
      "execution_count": 24,
      "outputs": []
    },
    {
      "cell_type": "code",
      "source": [
        "s = \"This is a [sample] string [with brackets].\"\n",
        "temp = remove_square_brackets(s)"
      ],
      "metadata": {
        "id": "rXk2xbbH6QxP"
      },
      "execution_count": 25,
      "outputs": []
    },
    {
      "cell_type": "code",
      "source": [
        "temp = df[\"Lyric\"][403]\n",
        "temp"
      ],
      "metadata": {
        "colab": {
          "base_uri": "https://localhost:8080/",
          "height": 157
        },
        "id": "5sQ7k0m21okR",
        "outputId": "3117da02-449e-4a8a-bc97-8a42ffcdde1f"
      },
      "execution_count": 26,
      "outputs": [
        {
          "output_type": "execute_result",
          "data": {
            "text/plain": [
              "'Fly, fly, fly\\nIt\\'s Gucci (it\\'s Gucci)\\nHuh? Fly (woo)\\n\\nI drink \\'til I\\'m drunk (yeah) , smoke til I\\'m high (yeah)\\nCastle on the hill (well damn) , wake up in the sky\\nYou can\\'t tell me I ain\\'t fly\\n(you can\\'t tell me I ain\\'t fly)\\nI know I\\'m super fly (I know) , I know I\\'m super fly\\nThe ladies love the luxury (yeah)\\nThat\\'s why they all fuck with me (woo)\\nOut here with the moves (yeesh) like I invented smooth\\nYou can\\'t tell me I ain\\'t fly\\n(you can\\'t tell me I ain\\'t fly)\\nI know I\\'m super fly (I know) , I know I\\'m super fly\\n\\nHuh, huh, huh\\nI stay fresh as hell, take a pic, I might as well, hell\\nDrop the top and take a selfie, my car drives itself\\nI got white girls blushin\\', homie\\ncollege girls rushin\\' on me (woo)\\nAll my diamonds custom so they clutchin\\'\\nand they touchin\\' on me\\nOoh, pick his vegetables\\nOoh, that kid\\'s edible\\nOoh, it\\'s incredible\\nOoh, ooh, ooh\\nI smell like Bond Number 9, nine\\nSection full of foreign dimes\\nBitch is starin\\' at me sayin\\', \"Wow\"\\nUnforgettable like Nat King Cole\\nGucci Barry White, don\\'t sneak and tell your ho (well damn)\\nHer one night show, a human bank roll (whoa)\\nShe lost in the sauce \\'cause Gucci got the glow (huh)\\n\\nI drink \\'til I\\'m drunk (brra) , smoke \\'til I\\'m high (it\\'s Guc\\')\\nCastle on the hill (heh) , wake up in the sky (you won\\'t)\\nYou can\\'t tell me I ain\\'t fly\\n(you can\\'t tell me I ain\\'t fly)\\nI know I\\'m super fly (I know) , I know I\\'m super fly\\nThe ladies love the luxury\\nthat\\'s why they all fuck with me\\nOut here with the moves like I invented smooth\\nYou can\\'t tell me I ain\\'t fly\\n(you can\\'t tell me I ain\\'t fly)\\nI know I\\'m super fly (I know) , I know I\\'m super fly\\n\\nNow watch me fly, fly\\nNow watch me fly, fly\\nYou can\\'t tell me I ain\\'t fly\\nYou can\\'t tell me I ain\\'t fly\\nI know I\\'m super fly, I know I\\'m super fly\\n\\nKodak, Kodak\\nMine so fly, don\\'t need no flight attendant\\nBig Cuban link, don\\'t need no pendant\\nI ain\\'t never had no pot to piss in, yeah\\nNow all my records trendin\\'\\nOh my, I came from stealing bikes to flying on a G5\\nI don\\'t know why I been smokin\\' this Cherry Pie so much\\nBut this my life\\nI\\'m on adderall, I be smellin\\' Hi-Tec when I piss\\nLike it\\'s basketball, I drop 50-pointer on my wrist\\nIt\\'s Lil Kodak take a pic\\nI came home to drop the heat\\nAll these diamonds got me sick, I\\'m actin\\' spoiled\\nCutlass sittin\\' high, I feel like I can fly\\nSo fresh to death it\\'s crazy, I feel like I can die\\nI done finally got my wings\\nthey make me wanna sing (glee)\\n\\nI drink \\'til I\\'m drunk (\\'til I\\'m drunk)\\nSmoke \\'til I\\'m high (\\'til I\\'m high)\\nCastle on the hill (ayy) , wake up in the sky\\nYou can\\'t tell me I ain\\'t fly\\n(you can\\'t tell me I ain\\'t fly, baby)\\nI know I\\'m super fly (I know it)\\nI know I\\'m super fly (I know it)\\nThe ladies love in luxury, that\\'s why they all fuck with me (ayy)\\nOut here with the moves like I invented smooth\\nYou can\\'t tell me I ain\\'t fly\\n(you can\\'t tell me I don\\'t fly, baby)\\nI know I\\'m super fly (I know it)\\nI know I\\'m super fly (I know it)\\n\\nNow, now watch me fly, fly\\nNow watch me fly, fly\\nYou can\\'t tell me I ain\\'t fly\\nI know I\\'m super fly, I know I\\'m super fly'"
            ],
            "application/vnd.google.colaboratory.intrinsic+json": {
              "type": "string"
            }
          },
          "metadata": {},
          "execution_count": 26
        }
      ]
    },
    {
      "cell_type": "code",
      "source": [
        "temp = df[\"Lyric\"][0]\n",
        "temp"
      ],
      "metadata": {
        "colab": {
          "base_uri": "https://localhost:8080/",
          "height": 157
        },
        "id": "vfpeygU6_W95",
        "outputId": "86d7d471-67b5-41e2-f34a-872e4c0bd5a1"
      },
      "execution_count": 27,
      "outputs": [
        {
          "output_type": "execute_result",
          "data": {
            "text/plain": [
              "\"I feel so unsure\\nAs I take your hand and lead you to the dance floor\\nAs the music dies, something in your eyes\\nCalls to mind a silver screen\\nAnd all those sad goodbyes\\n\\nI'm never gonna dance again\\nGuilty feet have got no rhythm\\nThough it's easy to pretend\\nI know you're not a fool\\n\\nShould've known better than to cheat a friend\\nAnd waste the chance that I've been given\\nSo I'm never gonna dance again\\nThe way I danced with you\\n\\nTime can never mend\\nThe careless whispers of a good friend\\nTo the heart and mind\\nIgnorance is kind\\nThere's no comfort in the truth\\nPain is all you'll find\\n\\nI'm never gonna dance again\\nGuilty feet have got no rhythm\\nThough it's easy to pretend\\nI know you're not a fool\\n\\nShould've known better than to cheat a friend\\nAnd waste this chance that I've been given\\nSo I'm never gonna dance again\\nThe way I danced with you\\n\\nNever without your love\\n\\nTonight the music seems so loud\\nI wish that we could lose this crowd\\nMaybe it's better this way\\nWe'd hurt each other with the things we'd want to say\\n\\nWe could have been so good together\\nWe could have lived this dance forever\\nBut now who's gonna dance with me?\\nPlease stay\\n\\nAnd I'm never gonna dance again\\nGuilty feet have got no rhythm\\nThough it's easy to pretend\\nI know you're not a fool\\n\\nShould've known better than to cheat a friend\\nAnd waste the chance that I've been given\\nSo I'm never gonna dance again\\nThe way I danced with you\\n\\n(Now that you're gone) Now that you're gone\\n(Now that you're gone) What I did's so wrong, so wrong\\nThat you had to leave me alone?\""
            ],
            "application/vnd.google.colaboratory.intrinsic+json": {
              "type": "string"
            }
          },
          "metadata": {},
          "execution_count": 27
        }
      ]
    },
    {
      "cell_type": "code",
      "source": [
        "temp = convert_to_lowercase(temp)\n",
        "temp"
      ],
      "metadata": {
        "id": "k7PDeDeeuRWn",
        "colab": {
          "base_uri": "https://localhost:8080/",
          "height": 157
        },
        "outputId": "5dc813a8-13fd-463c-adf7-0e1f82a0526b"
      },
      "execution_count": 28,
      "outputs": [
        {
          "output_type": "execute_result",
          "data": {
            "text/plain": [
              "\"i feel so unsure\\nas i take your hand and lead you to the dance floor\\nas the music dies, something in your eyes\\ncalls to mind a silver screen\\nand all those sad goodbyes\\n\\ni'm never gonna dance again\\nguilty feet have got no rhythm\\nthough it's easy to pretend\\ni know you're not a fool\\n\\nshould've known better than to cheat a friend\\nand waste the chance that i've been given\\nso i'm never gonna dance again\\nthe way i danced with you\\n\\ntime can never mend\\nthe careless whispers of a good friend\\nto the heart and mind\\nignorance is kind\\nthere's no comfort in the truth\\npain is all you'll find\\n\\ni'm never gonna dance again\\nguilty feet have got no rhythm\\nthough it's easy to pretend\\ni know you're not a fool\\n\\nshould've known better than to cheat a friend\\nand waste this chance that i've been given\\nso i'm never gonna dance again\\nthe way i danced with you\\n\\nnever without your love\\n\\ntonight the music seems so loud\\ni wish that we could lose this crowd\\nmaybe it's better this way\\nwe'd hurt each other with the things we'd want to say\\n\\nwe could have been so good together\\nwe could have lived this dance forever\\nbut now who's gonna dance with me?\\nplease stay\\n\\nand i'm never gonna dance again\\nguilty feet have got no rhythm\\nthough it's easy to pretend\\ni know you're not a fool\\n\\nshould've known better than to cheat a friend\\nand waste the chance that i've been given\\nso i'm never gonna dance again\\nthe way i danced with you\\n\\n(now that you're gone) now that you're gone\\n(now that you're gone) what i did's so wrong, so wrong\\nthat you had to leave me alone?\""
            ],
            "application/vnd.google.colaboratory.intrinsic+json": {
              "type": "string"
            }
          },
          "metadata": {},
          "execution_count": 28
        }
      ]
    },
    {
      "cell_type": "code",
      "source": [
        "temp = remove_end_of_line(temp)\n",
        "temp"
      ],
      "metadata": {
        "colab": {
          "base_uri": "https://localhost:8080/",
          "height": 157
        },
        "id": "h3FluCn1zHbM",
        "outputId": "106f6134-1c46-40f9-f1f4-985fb0a2de84"
      },
      "execution_count": 29,
      "outputs": [
        {
          "output_type": "execute_result",
          "data": {
            "text/plain": [
              "'i feel so unsure. as i take your hand and lead you to the dance floor. as the music dies something in your eyes. calls to mind a silver screen. and all those sad goodbyes. im never gonna dance again. guilty feet have got no rhythm. though its easy to pretend. i know youre not a fool. shouldve known better than to cheat a friend. and waste the chance that ive been given. so im never gonna dance again. the way i danced with you. time can never mend. the careless whispers of a good friend. to the heart and mind. ignorance is kind. theres no comfort in the truth. pain is all youll find. im never gonna dance again. guilty feet have got no rhythm. though its easy to pretend. i know youre not a fool. shouldve known better than to cheat a friend. and waste this chance that ive been given. so im never gonna dance again. the way i danced with you. never without your love. tonight the music seems so loud. i wish that we could lose this crowd. maybe its better this way. wed hurt each other with the things wed want to say. we could have been so good together. we could have lived this dance forever. but now whos gonna dance with me. please stay. and im never gonna dance again. guilty feet have got no rhythm. though its easy to pretend. i know youre not a fool. shouldve known better than to cheat a friend. and waste the chance that ive been given. so im never gonna dance again. the way i danced with you. now that youre gone now that youre gone. now that youre gone what i dids so wrong so wrong. that you had to leave me alone'"
            ],
            "application/vnd.google.colaboratory.intrinsic+json": {
              "type": "string"
            }
          },
          "metadata": {},
          "execution_count": 29
        }
      ]
    },
    {
      "cell_type": "code",
      "source": [
        "temp = remove_square_brackets(temp)\n",
        "temp"
      ],
      "metadata": {
        "colab": {
          "base_uri": "https://localhost:8080/",
          "height": 157
        },
        "id": "VrdWgFMr_1Nu",
        "outputId": "ed3718e3-c62b-4933-e567-c7cc5509cb31"
      },
      "execution_count": 30,
      "outputs": [
        {
          "output_type": "execute_result",
          "data": {
            "text/plain": [
              "'i feel so unsure. as i take your hand and lead you to the dance floor. as the music dies something in your eyes. calls to mind a silver screen. and all those sad goodbyes. im never gonna dance again. guilty feet have got no rhythm. though its easy to pretend. i know youre not a fool. shouldve known better than to cheat a friend. and waste the chance that ive been given. so im never gonna dance again. the way i danced with you. time can never mend. the careless whispers of a good friend. to the heart and mind. ignorance is kind. theres no comfort in the truth. pain is all youll find. im never gonna dance again. guilty feet have got no rhythm. though its easy to pretend. i know youre not a fool. shouldve known better than to cheat a friend. and waste this chance that ive been given. so im never gonna dance again. the way i danced with you. never without your love. tonight the music seems so loud. i wish that we could lose this crowd. maybe its better this way. wed hurt each other with the things wed want to say. we could have been so good together. we could have lived this dance forever. but now whos gonna dance with me. please stay. and im never gonna dance again. guilty feet have got no rhythm. though its easy to pretend. i know youre not a fool. shouldve known better than to cheat a friend. and waste the chance that ive been given. so im never gonna dance again. the way i danced with you. now that youre gone now that youre gone. now that youre gone what i dids so wrong so wrong. that you had to leave me alone'"
            ],
            "application/vnd.google.colaboratory.intrinsic+json": {
              "type": "string"
            }
          },
          "metadata": {},
          "execution_count": 30
        }
      ]
    },
    {
      "cell_type": "code",
      "source": [
        "temp = sent_tokenize(temp)\n",
        "temp"
      ],
      "metadata": {
        "colab": {
          "base_uri": "https://localhost:8080/"
        },
        "id": "F2jhKFTix2Zo",
        "outputId": "99104103-43b4-489f-9d4c-620e5ba430ab"
      },
      "execution_count": 31,
      "outputs": [
        {
          "output_type": "execute_result",
          "data": {
            "text/plain": [
              "['i feel so unsure.',\n",
              " 'as i take your hand and lead you to the dance floor.',\n",
              " 'as the music dies something in your eyes.',\n",
              " 'calls to mind a silver screen.',\n",
              " 'and all those sad goodbyes.',\n",
              " 'im never gonna dance again.',\n",
              " 'guilty feet have got no rhythm.',\n",
              " 'though its easy to pretend.',\n",
              " 'i know youre not a fool.',\n",
              " 'shouldve known better than to cheat a friend.',\n",
              " 'and waste the chance that ive been given.',\n",
              " 'so im never gonna dance again.',\n",
              " 'the way i danced with you.',\n",
              " 'time can never mend.',\n",
              " 'the careless whispers of a good friend.',\n",
              " 'to the heart and mind.',\n",
              " 'ignorance is kind.',\n",
              " 'theres no comfort in the truth.',\n",
              " 'pain is all youll find.',\n",
              " 'im never gonna dance again.',\n",
              " 'guilty feet have got no rhythm.',\n",
              " 'though its easy to pretend.',\n",
              " 'i know youre not a fool.',\n",
              " 'shouldve known better than to cheat a friend.',\n",
              " 'and waste this chance that ive been given.',\n",
              " 'so im never gonna dance again.',\n",
              " 'the way i danced with you.',\n",
              " 'never without your love.',\n",
              " 'tonight the music seems so loud.',\n",
              " 'i wish that we could lose this crowd.',\n",
              " 'maybe its better this way.',\n",
              " 'wed hurt each other with the things wed want to say.',\n",
              " 'we could have been so good together.',\n",
              " 'we could have lived this dance forever.',\n",
              " 'but now whos gonna dance with me.',\n",
              " 'please stay.',\n",
              " 'and im never gonna dance again.',\n",
              " 'guilty feet have got no rhythm.',\n",
              " 'though its easy to pretend.',\n",
              " 'i know youre not a fool.',\n",
              " 'shouldve known better than to cheat a friend.',\n",
              " 'and waste the chance that ive been given.',\n",
              " 'so im never gonna dance again.',\n",
              " 'the way i danced with you.',\n",
              " 'now that youre gone now that youre gone.',\n",
              " 'now that youre gone what i dids so wrong so wrong.',\n",
              " 'that you had to leave me alone']"
            ]
          },
          "metadata": {},
          "execution_count": 31
        }
      ]
    },
    {
      "cell_type": "code",
      "source": [
        "temp = remove_period_at_end(temp)\n",
        "temp"
      ],
      "metadata": {
        "colab": {
          "base_uri": "https://localhost:8080/"
        },
        "id": "95EPV-a_11Fj",
        "outputId": "8d81e777-1aec-4414-82a6-60a194a2c60d"
      },
      "execution_count": 32,
      "outputs": [
        {
          "output_type": "execute_result",
          "data": {
            "text/plain": [
              "['i feel so unsure',\n",
              " 'as i take your hand and lead you to the dance floor',\n",
              " 'as the music dies something in your eyes',\n",
              " 'calls to mind a silver screen',\n",
              " 'and all those sad goodbyes',\n",
              " 'im never gonna dance again',\n",
              " 'guilty feet have got no rhythm',\n",
              " 'though its easy to pretend',\n",
              " 'i know youre not a fool',\n",
              " 'shouldve known better than to cheat a friend',\n",
              " 'and waste the chance that ive been given',\n",
              " 'so im never gonna dance again',\n",
              " 'the way i danced with you',\n",
              " 'time can never mend',\n",
              " 'the careless whispers of a good friend',\n",
              " 'to the heart and mind',\n",
              " 'ignorance is kind',\n",
              " 'theres no comfort in the truth',\n",
              " 'pain is all youll find',\n",
              " 'im never gonna dance again',\n",
              " 'guilty feet have got no rhythm',\n",
              " 'though its easy to pretend',\n",
              " 'i know youre not a fool',\n",
              " 'shouldve known better than to cheat a friend',\n",
              " 'and waste this chance that ive been given',\n",
              " 'so im never gonna dance again',\n",
              " 'the way i danced with you',\n",
              " 'never without your love',\n",
              " 'tonight the music seems so loud',\n",
              " 'i wish that we could lose this crowd',\n",
              " 'maybe its better this way',\n",
              " 'wed hurt each other with the things wed want to say',\n",
              " 'we could have been so good together',\n",
              " 'we could have lived this dance forever',\n",
              " 'but now whos gonna dance with me',\n",
              " 'please stay',\n",
              " 'and im never gonna dance again',\n",
              " 'guilty feet have got no rhythm',\n",
              " 'though its easy to pretend',\n",
              " 'i know youre not a fool',\n",
              " 'shouldve known better than to cheat a friend',\n",
              " 'and waste the chance that ive been given',\n",
              " 'so im never gonna dance again',\n",
              " 'the way i danced with you',\n",
              " 'now that youre gone now that youre gone',\n",
              " 'now that youre gone what i dids so wrong so wrong',\n",
              " 'that you had to leave me alon']"
            ]
          },
          "metadata": {},
          "execution_count": 32
        }
      ]
    },
    {
      "cell_type": "code",
      "source": [
        "temp = remove_stop_words_and_lemmatize(temp)\n",
        "temp"
      ],
      "metadata": {
        "colab": {
          "base_uri": "https://localhost:8080/"
        },
        "id": "_78aGSWMy-uB",
        "outputId": "52a164e0-5b62-4075-db3d-d30f88f719be"
      },
      "execution_count": 33,
      "outputs": [
        {
          "output_type": "execute_result",
          "data": {
            "text/plain": [
              "[['feel', 'unsure'],\n",
              " ['take', 'hand', 'lead', 'dance', 'floor'],\n",
              " ['music', 'dy', 'something', 'eye'],\n",
              " ['call', 'mind', 'silver', 'screen'],\n",
              " ['sad', 'goodbye'],\n",
              " ['im', 'never', 'gonna', 'dance'],\n",
              " ['guilty', 'foot', 'get', 'rhythm'],\n",
              " ['though', 'easy', 'pretend'],\n",
              " ['know', 'fool'],\n",
              " ['know', 'well', 'cheat', 'friend'],\n",
              " ['waste', 'chance', 'ive', 'give'],\n",
              " ['im', 'never', 'gonna', 'dance'],\n",
              " ['way', 'dance'],\n",
              " ['time', 'never', 'mend'],\n",
              " ['careless', 'whisper', 'good', 'friend'],\n",
              " ['heart', 'mind'],\n",
              " ['ignorance', 'kind'],\n",
              " ['there', 'comfort', 'truth'],\n",
              " ['pain', 'find'],\n",
              " ['im', 'never', 'gonna', 'dance'],\n",
              " ['guilty', 'foot', 'get', 'rhythm'],\n",
              " ['though', 'easy', 'pretend'],\n",
              " ['know', 'fool'],\n",
              " ['know', 'well', 'cheat', 'friend'],\n",
              " ['waste', 'chance', 'ive', 'give'],\n",
              " ['im', 'never', 'gonna', 'dance'],\n",
              " ['way', 'dance'],\n",
              " ['never', 'without', 'love'],\n",
              " ['tonight', 'music', 'seem', 'loud'],\n",
              " ['wish', 'could', 'lose', 'crowd'],\n",
              " ['maybe', 'well', 'way'],\n",
              " ['wed', 'hurt', 'thing', 'wed', 'want', 'say'],\n",
              " ['could', 'good', 'together'],\n",
              " ['could', 'live', 'dance', 'forever'],\n",
              " ['who', 'gonna', 'dance'],\n",
              " ['please', 'stay'],\n",
              " ['im', 'never', 'gonna', 'dance'],\n",
              " ['guilty', 'foot', 'get', 'rhythm'],\n",
              " ['though', 'easy', 'pretend'],\n",
              " ['know', 'fool'],\n",
              " ['know', 'well', 'cheat', 'friend'],\n",
              " ['waste', 'chance', 'ive', 'give'],\n",
              " ['im', 'never', 'gonna', 'dance'],\n",
              " ['way', 'dance'],\n",
              " ['go', 'go'],\n",
              " ['go', 'dids', 'wrong', 'wrong'],\n",
              " ['leave', 'alon']]"
            ]
          },
          "metadata": {},
          "execution_count": 33
        }
      ]
    },
    {
      "cell_type": "code",
      "source": [
        "def preprocessing(song_lyrics):\n",
        "  song_lyrics = convert_to_lowercase(song_lyrics)\n",
        "  song_lyrics = remove_end_of_line(song_lyrics)\n",
        "  song_lyrics = remove_square_brackets(song_lyrics)\n",
        "  song_lyrics_tokenized = sent_tokenize(song_lyrics)\n",
        "  song_lyrics_tokenized = remove_period_at_end(song_lyrics_tokenized)\n",
        "  song_lyrics_tokenized = remove_stop_words_and_lemmatize(song_lyrics_tokenized)\n",
        "  return song_lyrics_tokenized"
      ],
      "metadata": {
        "id": "tU6twBUlxSwD"
      },
      "execution_count": 34,
      "outputs": []
    },
    {
      "cell_type": "code",
      "source": [
        "# read csv file\n",
        "df = pd.read_csv('training_data.csv')"
      ],
      "metadata": {
        "id": "Odl1YcgEC_KN"
      },
      "execution_count": 35,
      "outputs": []
    },
    {
      "cell_type": "code",
      "source": [
        "# started at 10:56 AM SUN\n",
        "df['LyricProcessed'] = df['Lyric'].apply(lambda x: preprocessing(x))\n",
        "\n",
        "df.to_csv('training_data_processed.csv')\n",
        "\n",
        "print(\"SAVING COMPLETE!\")\n",
        "\n",
        "df.head(10)"
      ],
      "metadata": {
        "colab": {
          "base_uri": "https://localhost:8080/",
          "height": 615
        },
        "id": "w_RP0d_eIUOO",
        "outputId": "947d7b00-b040-4ac0-fec2-c0d4bd3b30a8"
      },
      "execution_count": 36,
      "outputs": [
        {
          "output_type": "stream",
          "name": "stdout",
          "text": [
            "SAVING COMPLETE!\n"
          ]
        },
        {
          "output_type": "execute_result",
          "data": {
            "text/plain": [
              "   Unnamed: 0         Artist  \\\n",
              "0           0  Ivete Sangalo   \n",
              "1           1  Ivete Sangalo   \n",
              "2           2  Ivete Sangalo   \n",
              "3           3  Ivete Sangalo   \n",
              "4           4  Ivete Sangalo   \n",
              "5           5  Ivete Sangalo   \n",
              "6           6  Ivete Sangalo   \n",
              "7           7  Ivete Sangalo   \n",
              "8           8  Ivete Sangalo   \n",
              "9           9  Ivete Sangalo   \n",
              "\n",
              "                                               SName  \\\n",
              "0                                   Careless Whisper   \n",
              "1  Could You Be Loved / Citação Musical do Rap: S...   \n",
              "2                             Cruisin' (Part. Saulo)   \n",
              "3                                               Easy   \n",
              "4                  For Your Babies (The Voice cover)   \n",
              "5                                       Human Nature   \n",
              "6     Losing Control (Miss Cady feat. Ivete Sangalo)   \n",
              "7                           Master Blaster (Jammin')   \n",
              "8                                    More Than Words   \n",
              "9                                     Natural Collie   \n",
              "\n",
              "                                               Lyric    Genre  \\\n",
              "0  I feel so unsure\\nAs I take your hand and lead...      pop   \n",
              "1  Don't let them fool, ya\\nOr even try to school...      pop   \n",
              "2  Baby, let's cruise, away from here\\nDon't be c...      pop   \n",
              "3  Know it sounds funny\\nBut, I just can't stand ...      pop   \n",
              "4  You've got that look again\\nThe one I hoped I ...      pop   \n",
              "5  Looking out\\nAcross the night time\\nThe city w...      pop   \n",
              "6  Uh, yeah.\\nGo, go, go.\\nUh, yeah.\\nUh, Uh, Uhh...      pop   \n",
              "7  Everyone's feeling pretty\\nIt's hotter than Ju...      pop   \n",
              "8  Saying 'I Love you'\\nIs not the words I want t...      pop   \n",
              "9  Been down in the valley\\nSmoking natural colli...  spanish   \n",
              "\n",
              "                                      LyricProcessed  \n",
              "0  [[feel, unsure], [take, hand, lead, dance, flo...  \n",
              "1  [[let, fool, ya], [even, try, school, ya, oh],...  \n",
              "2  [[baby, let, cruise, away], [confuse, way, cle...  \n",
              "3  [[know, sound, funny], [cant, stand, pain], [g...  \n",
              "4  [[get, look], [one, hop, lad], [face, beam], [...  \n",
              "5  [[look], [across, night, time], [city, wink, s...  \n",
              "6  [[uh, yeah.., go, go, go.., uh, yeah.., uh, uh...  \n",
              "7  [[everyones, feel, pretty], [hotter, july], [t...  \n",
              "8  [[say, love], [word, want, hear], [want, say],...  \n",
              "9  [[valley], [smoking, natural, collie], [get, i...  "
            ],
            "text/html": [
              "\n",
              "  <div id=\"df-1c3b02d4-fc44-45f9-aae7-f885e164a80a\">\n",
              "    <div class=\"colab-df-container\">\n",
              "      <div>\n",
              "<style scoped>\n",
              "    .dataframe tbody tr th:only-of-type {\n",
              "        vertical-align: middle;\n",
              "    }\n",
              "\n",
              "    .dataframe tbody tr th {\n",
              "        vertical-align: top;\n",
              "    }\n",
              "\n",
              "    .dataframe thead th {\n",
              "        text-align: right;\n",
              "    }\n",
              "</style>\n",
              "<table border=\"1\" class=\"dataframe\">\n",
              "  <thead>\n",
              "    <tr style=\"text-align: right;\">\n",
              "      <th></th>\n",
              "      <th>Unnamed: 0</th>\n",
              "      <th>Artist</th>\n",
              "      <th>SName</th>\n",
              "      <th>Lyric</th>\n",
              "      <th>Genre</th>\n",
              "      <th>LyricProcessed</th>\n",
              "    </tr>\n",
              "  </thead>\n",
              "  <tbody>\n",
              "    <tr>\n",
              "      <th>0</th>\n",
              "      <td>0</td>\n",
              "      <td>Ivete Sangalo</td>\n",
              "      <td>Careless Whisper</td>\n",
              "      <td>I feel so unsure\\nAs I take your hand and lead...</td>\n",
              "      <td>pop</td>\n",
              "      <td>[[feel, unsure], [take, hand, lead, dance, flo...</td>\n",
              "    </tr>\n",
              "    <tr>\n",
              "      <th>1</th>\n",
              "      <td>1</td>\n",
              "      <td>Ivete Sangalo</td>\n",
              "      <td>Could You Be Loved / Citação Musical do Rap: S...</td>\n",
              "      <td>Don't let them fool, ya\\nOr even try to school...</td>\n",
              "      <td>pop</td>\n",
              "      <td>[[let, fool, ya], [even, try, school, ya, oh],...</td>\n",
              "    </tr>\n",
              "    <tr>\n",
              "      <th>2</th>\n",
              "      <td>2</td>\n",
              "      <td>Ivete Sangalo</td>\n",
              "      <td>Cruisin' (Part. Saulo)</td>\n",
              "      <td>Baby, let's cruise, away from here\\nDon't be c...</td>\n",
              "      <td>pop</td>\n",
              "      <td>[[baby, let, cruise, away], [confuse, way, cle...</td>\n",
              "    </tr>\n",
              "    <tr>\n",
              "      <th>3</th>\n",
              "      <td>3</td>\n",
              "      <td>Ivete Sangalo</td>\n",
              "      <td>Easy</td>\n",
              "      <td>Know it sounds funny\\nBut, I just can't stand ...</td>\n",
              "      <td>pop</td>\n",
              "      <td>[[know, sound, funny], [cant, stand, pain], [g...</td>\n",
              "    </tr>\n",
              "    <tr>\n",
              "      <th>4</th>\n",
              "      <td>4</td>\n",
              "      <td>Ivete Sangalo</td>\n",
              "      <td>For Your Babies (The Voice cover)</td>\n",
              "      <td>You've got that look again\\nThe one I hoped I ...</td>\n",
              "      <td>pop</td>\n",
              "      <td>[[get, look], [one, hop, lad], [face, beam], [...</td>\n",
              "    </tr>\n",
              "    <tr>\n",
              "      <th>5</th>\n",
              "      <td>5</td>\n",
              "      <td>Ivete Sangalo</td>\n",
              "      <td>Human Nature</td>\n",
              "      <td>Looking out\\nAcross the night time\\nThe city w...</td>\n",
              "      <td>pop</td>\n",
              "      <td>[[look], [across, night, time], [city, wink, s...</td>\n",
              "    </tr>\n",
              "    <tr>\n",
              "      <th>6</th>\n",
              "      <td>6</td>\n",
              "      <td>Ivete Sangalo</td>\n",
              "      <td>Losing Control (Miss Cady feat. Ivete Sangalo)</td>\n",
              "      <td>Uh, yeah.\\nGo, go, go.\\nUh, yeah.\\nUh, Uh, Uhh...</td>\n",
              "      <td>pop</td>\n",
              "      <td>[[uh, yeah.., go, go, go.., uh, yeah.., uh, uh...</td>\n",
              "    </tr>\n",
              "    <tr>\n",
              "      <th>7</th>\n",
              "      <td>7</td>\n",
              "      <td>Ivete Sangalo</td>\n",
              "      <td>Master Blaster (Jammin')</td>\n",
              "      <td>Everyone's feeling pretty\\nIt's hotter than Ju...</td>\n",
              "      <td>pop</td>\n",
              "      <td>[[everyones, feel, pretty], [hotter, july], [t...</td>\n",
              "    </tr>\n",
              "    <tr>\n",
              "      <th>8</th>\n",
              "      <td>8</td>\n",
              "      <td>Ivete Sangalo</td>\n",
              "      <td>More Than Words</td>\n",
              "      <td>Saying 'I Love you'\\nIs not the words I want t...</td>\n",
              "      <td>pop</td>\n",
              "      <td>[[say, love], [word, want, hear], [want, say],...</td>\n",
              "    </tr>\n",
              "    <tr>\n",
              "      <th>9</th>\n",
              "      <td>9</td>\n",
              "      <td>Ivete Sangalo</td>\n",
              "      <td>Natural Collie</td>\n",
              "      <td>Been down in the valley\\nSmoking natural colli...</td>\n",
              "      <td>spanish</td>\n",
              "      <td>[[valley], [smoking, natural, collie], [get, i...</td>\n",
              "    </tr>\n",
              "  </tbody>\n",
              "</table>\n",
              "</div>\n",
              "      <button class=\"colab-df-convert\" onclick=\"convertToInteractive('df-1c3b02d4-fc44-45f9-aae7-f885e164a80a')\"\n",
              "              title=\"Convert this dataframe to an interactive table.\"\n",
              "              style=\"display:none;\">\n",
              "        \n",
              "  <svg xmlns=\"http://www.w3.org/2000/svg\" height=\"24px\"viewBox=\"0 0 24 24\"\n",
              "       width=\"24px\">\n",
              "    <path d=\"M0 0h24v24H0V0z\" fill=\"none\"/>\n",
              "    <path d=\"M18.56 5.44l.94 2.06.94-2.06 2.06-.94-2.06-.94-.94-2.06-.94 2.06-2.06.94zm-11 1L8.5 8.5l.94-2.06 2.06-.94-2.06-.94L8.5 2.5l-.94 2.06-2.06.94zm10 10l.94 2.06.94-2.06 2.06-.94-2.06-.94-.94-2.06-.94 2.06-2.06.94z\"/><path d=\"M17.41 7.96l-1.37-1.37c-.4-.4-.92-.59-1.43-.59-.52 0-1.04.2-1.43.59L10.3 9.45l-7.72 7.72c-.78.78-.78 2.05 0 2.83L4 21.41c.39.39.9.59 1.41.59.51 0 1.02-.2 1.41-.59l7.78-7.78 2.81-2.81c.8-.78.8-2.07 0-2.86zM5.41 20L4 18.59l7.72-7.72 1.47 1.35L5.41 20z\"/>\n",
              "  </svg>\n",
              "      </button>\n",
              "      \n",
              "  <style>\n",
              "    .colab-df-container {\n",
              "      display:flex;\n",
              "      flex-wrap:wrap;\n",
              "      gap: 12px;\n",
              "    }\n",
              "\n",
              "    .colab-df-convert {\n",
              "      background-color: #E8F0FE;\n",
              "      border: none;\n",
              "      border-radius: 50%;\n",
              "      cursor: pointer;\n",
              "      display: none;\n",
              "      fill: #1967D2;\n",
              "      height: 32px;\n",
              "      padding: 0 0 0 0;\n",
              "      width: 32px;\n",
              "    }\n",
              "\n",
              "    .colab-df-convert:hover {\n",
              "      background-color: #E2EBFA;\n",
              "      box-shadow: 0px 1px 2px rgba(60, 64, 67, 0.3), 0px 1px 3px 1px rgba(60, 64, 67, 0.15);\n",
              "      fill: #174EA6;\n",
              "    }\n",
              "\n",
              "    [theme=dark] .colab-df-convert {\n",
              "      background-color: #3B4455;\n",
              "      fill: #D2E3FC;\n",
              "    }\n",
              "\n",
              "    [theme=dark] .colab-df-convert:hover {\n",
              "      background-color: #434B5C;\n",
              "      box-shadow: 0px 1px 3px 1px rgba(0, 0, 0, 0.15);\n",
              "      filter: drop-shadow(0px 1px 2px rgba(0, 0, 0, 0.3));\n",
              "      fill: #FFFFFF;\n",
              "    }\n",
              "  </style>\n",
              "\n",
              "      <script>\n",
              "        const buttonEl =\n",
              "          document.querySelector('#df-1c3b02d4-fc44-45f9-aae7-f885e164a80a button.colab-df-convert');\n",
              "        buttonEl.style.display =\n",
              "          google.colab.kernel.accessAllowed ? 'block' : 'none';\n",
              "\n",
              "        async function convertToInteractive(key) {\n",
              "          const element = document.querySelector('#df-1c3b02d4-fc44-45f9-aae7-f885e164a80a');\n",
              "          const dataTable =\n",
              "            await google.colab.kernel.invokeFunction('convertToInteractive',\n",
              "                                                     [key], {});\n",
              "          if (!dataTable) return;\n",
              "\n",
              "          const docLinkHtml = 'Like what you see? Visit the ' +\n",
              "            '<a target=\"_blank\" href=https://colab.research.google.com/notebooks/data_table.ipynb>data table notebook</a>'\n",
              "            + ' to learn more about interactive tables.';\n",
              "          element.innerHTML = '';\n",
              "          dataTable['output_type'] = 'display_data';\n",
              "          await google.colab.output.renderOutput(dataTable, element);\n",
              "          const docLink = document.createElement('div');\n",
              "          docLink.innerHTML = docLinkHtml;\n",
              "          element.appendChild(docLink);\n",
              "        }\n",
              "      </script>\n",
              "    </div>\n",
              "  </div>\n",
              "  "
            ]
          },
          "metadata": {},
          "execution_count": 36
        }
      ]
    },
    {
      "cell_type": "code",
      "source": [
        "final_df = df.drop(columns=df.columns[0], axis=1)\n",
        "final_df.head(10)"
      ],
      "metadata": {
        "colab": {
          "base_uri": "https://localhost:8080/",
          "height": 581
        },
        "id": "KEYQX-FAFRCC",
        "outputId": "d7e140a6-0a12-4ea6-ffd4-be75f719d558"
      },
      "execution_count": 37,
      "outputs": [
        {
          "output_type": "execute_result",
          "data": {
            "text/plain": [
              "          Artist                                              SName  \\\n",
              "0  Ivete Sangalo                                   Careless Whisper   \n",
              "1  Ivete Sangalo  Could You Be Loved / Citação Musical do Rap: S...   \n",
              "2  Ivete Sangalo                             Cruisin' (Part. Saulo)   \n",
              "3  Ivete Sangalo                                               Easy   \n",
              "4  Ivete Sangalo                  For Your Babies (The Voice cover)   \n",
              "5  Ivete Sangalo                                       Human Nature   \n",
              "6  Ivete Sangalo     Losing Control (Miss Cady feat. Ivete Sangalo)   \n",
              "7  Ivete Sangalo                           Master Blaster (Jammin')   \n",
              "8  Ivete Sangalo                                    More Than Words   \n",
              "9  Ivete Sangalo                                     Natural Collie   \n",
              "\n",
              "                                               Lyric    Genre  \\\n",
              "0  I feel so unsure\\nAs I take your hand and lead...      pop   \n",
              "1  Don't let them fool, ya\\nOr even try to school...      pop   \n",
              "2  Baby, let's cruise, away from here\\nDon't be c...      pop   \n",
              "3  Know it sounds funny\\nBut, I just can't stand ...      pop   \n",
              "4  You've got that look again\\nThe one I hoped I ...      pop   \n",
              "5  Looking out\\nAcross the night time\\nThe city w...      pop   \n",
              "6  Uh, yeah.\\nGo, go, go.\\nUh, yeah.\\nUh, Uh, Uhh...      pop   \n",
              "7  Everyone's feeling pretty\\nIt's hotter than Ju...      pop   \n",
              "8  Saying 'I Love you'\\nIs not the words I want t...      pop   \n",
              "9  Been down in the valley\\nSmoking natural colli...  spanish   \n",
              "\n",
              "                                      LyricProcessed  \n",
              "0  [[feel, unsure], [take, hand, lead, dance, flo...  \n",
              "1  [[let, fool, ya], [even, try, school, ya, oh],...  \n",
              "2  [[baby, let, cruise, away], [confuse, way, cle...  \n",
              "3  [[know, sound, funny], [cant, stand, pain], [g...  \n",
              "4  [[get, look], [one, hop, lad], [face, beam], [...  \n",
              "5  [[look], [across, night, time], [city, wink, s...  \n",
              "6  [[uh, yeah.., go, go, go.., uh, yeah.., uh, uh...  \n",
              "7  [[everyones, feel, pretty], [hotter, july], [t...  \n",
              "8  [[say, love], [word, want, hear], [want, say],...  \n",
              "9  [[valley], [smoking, natural, collie], [get, i...  "
            ],
            "text/html": [
              "\n",
              "  <div id=\"df-8e476980-439e-4762-9983-049b6926b0f0\">\n",
              "    <div class=\"colab-df-container\">\n",
              "      <div>\n",
              "<style scoped>\n",
              "    .dataframe tbody tr th:only-of-type {\n",
              "        vertical-align: middle;\n",
              "    }\n",
              "\n",
              "    .dataframe tbody tr th {\n",
              "        vertical-align: top;\n",
              "    }\n",
              "\n",
              "    .dataframe thead th {\n",
              "        text-align: right;\n",
              "    }\n",
              "</style>\n",
              "<table border=\"1\" class=\"dataframe\">\n",
              "  <thead>\n",
              "    <tr style=\"text-align: right;\">\n",
              "      <th></th>\n",
              "      <th>Artist</th>\n",
              "      <th>SName</th>\n",
              "      <th>Lyric</th>\n",
              "      <th>Genre</th>\n",
              "      <th>LyricProcessed</th>\n",
              "    </tr>\n",
              "  </thead>\n",
              "  <tbody>\n",
              "    <tr>\n",
              "      <th>0</th>\n",
              "      <td>Ivete Sangalo</td>\n",
              "      <td>Careless Whisper</td>\n",
              "      <td>I feel so unsure\\nAs I take your hand and lead...</td>\n",
              "      <td>pop</td>\n",
              "      <td>[[feel, unsure], [take, hand, lead, dance, flo...</td>\n",
              "    </tr>\n",
              "    <tr>\n",
              "      <th>1</th>\n",
              "      <td>Ivete Sangalo</td>\n",
              "      <td>Could You Be Loved / Citação Musical do Rap: S...</td>\n",
              "      <td>Don't let them fool, ya\\nOr even try to school...</td>\n",
              "      <td>pop</td>\n",
              "      <td>[[let, fool, ya], [even, try, school, ya, oh],...</td>\n",
              "    </tr>\n",
              "    <tr>\n",
              "      <th>2</th>\n",
              "      <td>Ivete Sangalo</td>\n",
              "      <td>Cruisin' (Part. Saulo)</td>\n",
              "      <td>Baby, let's cruise, away from here\\nDon't be c...</td>\n",
              "      <td>pop</td>\n",
              "      <td>[[baby, let, cruise, away], [confuse, way, cle...</td>\n",
              "    </tr>\n",
              "    <tr>\n",
              "      <th>3</th>\n",
              "      <td>Ivete Sangalo</td>\n",
              "      <td>Easy</td>\n",
              "      <td>Know it sounds funny\\nBut, I just can't stand ...</td>\n",
              "      <td>pop</td>\n",
              "      <td>[[know, sound, funny], [cant, stand, pain], [g...</td>\n",
              "    </tr>\n",
              "    <tr>\n",
              "      <th>4</th>\n",
              "      <td>Ivete Sangalo</td>\n",
              "      <td>For Your Babies (The Voice cover)</td>\n",
              "      <td>You've got that look again\\nThe one I hoped I ...</td>\n",
              "      <td>pop</td>\n",
              "      <td>[[get, look], [one, hop, lad], [face, beam], [...</td>\n",
              "    </tr>\n",
              "    <tr>\n",
              "      <th>5</th>\n",
              "      <td>Ivete Sangalo</td>\n",
              "      <td>Human Nature</td>\n",
              "      <td>Looking out\\nAcross the night time\\nThe city w...</td>\n",
              "      <td>pop</td>\n",
              "      <td>[[look], [across, night, time], [city, wink, s...</td>\n",
              "    </tr>\n",
              "    <tr>\n",
              "      <th>6</th>\n",
              "      <td>Ivete Sangalo</td>\n",
              "      <td>Losing Control (Miss Cady feat. Ivete Sangalo)</td>\n",
              "      <td>Uh, yeah.\\nGo, go, go.\\nUh, yeah.\\nUh, Uh, Uhh...</td>\n",
              "      <td>pop</td>\n",
              "      <td>[[uh, yeah.., go, go, go.., uh, yeah.., uh, uh...</td>\n",
              "    </tr>\n",
              "    <tr>\n",
              "      <th>7</th>\n",
              "      <td>Ivete Sangalo</td>\n",
              "      <td>Master Blaster (Jammin')</td>\n",
              "      <td>Everyone's feeling pretty\\nIt's hotter than Ju...</td>\n",
              "      <td>pop</td>\n",
              "      <td>[[everyones, feel, pretty], [hotter, july], [t...</td>\n",
              "    </tr>\n",
              "    <tr>\n",
              "      <th>8</th>\n",
              "      <td>Ivete Sangalo</td>\n",
              "      <td>More Than Words</td>\n",
              "      <td>Saying 'I Love you'\\nIs not the words I want t...</td>\n",
              "      <td>pop</td>\n",
              "      <td>[[say, love], [word, want, hear], [want, say],...</td>\n",
              "    </tr>\n",
              "    <tr>\n",
              "      <th>9</th>\n",
              "      <td>Ivete Sangalo</td>\n",
              "      <td>Natural Collie</td>\n",
              "      <td>Been down in the valley\\nSmoking natural colli...</td>\n",
              "      <td>spanish</td>\n",
              "      <td>[[valley], [smoking, natural, collie], [get, i...</td>\n",
              "    </tr>\n",
              "  </tbody>\n",
              "</table>\n",
              "</div>\n",
              "      <button class=\"colab-df-convert\" onclick=\"convertToInteractive('df-8e476980-439e-4762-9983-049b6926b0f0')\"\n",
              "              title=\"Convert this dataframe to an interactive table.\"\n",
              "              style=\"display:none;\">\n",
              "        \n",
              "  <svg xmlns=\"http://www.w3.org/2000/svg\" height=\"24px\"viewBox=\"0 0 24 24\"\n",
              "       width=\"24px\">\n",
              "    <path d=\"M0 0h24v24H0V0z\" fill=\"none\"/>\n",
              "    <path d=\"M18.56 5.44l.94 2.06.94-2.06 2.06-.94-2.06-.94-.94-2.06-.94 2.06-2.06.94zm-11 1L8.5 8.5l.94-2.06 2.06-.94-2.06-.94L8.5 2.5l-.94 2.06-2.06.94zm10 10l.94 2.06.94-2.06 2.06-.94-2.06-.94-.94-2.06-.94 2.06-2.06.94z\"/><path d=\"M17.41 7.96l-1.37-1.37c-.4-.4-.92-.59-1.43-.59-.52 0-1.04.2-1.43.59L10.3 9.45l-7.72 7.72c-.78.78-.78 2.05 0 2.83L4 21.41c.39.39.9.59 1.41.59.51 0 1.02-.2 1.41-.59l7.78-7.78 2.81-2.81c.8-.78.8-2.07 0-2.86zM5.41 20L4 18.59l7.72-7.72 1.47 1.35L5.41 20z\"/>\n",
              "  </svg>\n",
              "      </button>\n",
              "      \n",
              "  <style>\n",
              "    .colab-df-container {\n",
              "      display:flex;\n",
              "      flex-wrap:wrap;\n",
              "      gap: 12px;\n",
              "    }\n",
              "\n",
              "    .colab-df-convert {\n",
              "      background-color: #E8F0FE;\n",
              "      border: none;\n",
              "      border-radius: 50%;\n",
              "      cursor: pointer;\n",
              "      display: none;\n",
              "      fill: #1967D2;\n",
              "      height: 32px;\n",
              "      padding: 0 0 0 0;\n",
              "      width: 32px;\n",
              "    }\n",
              "\n",
              "    .colab-df-convert:hover {\n",
              "      background-color: #E2EBFA;\n",
              "      box-shadow: 0px 1px 2px rgba(60, 64, 67, 0.3), 0px 1px 3px 1px rgba(60, 64, 67, 0.15);\n",
              "      fill: #174EA6;\n",
              "    }\n",
              "\n",
              "    [theme=dark] .colab-df-convert {\n",
              "      background-color: #3B4455;\n",
              "      fill: #D2E3FC;\n",
              "    }\n",
              "\n",
              "    [theme=dark] .colab-df-convert:hover {\n",
              "      background-color: #434B5C;\n",
              "      box-shadow: 0px 1px 3px 1px rgba(0, 0, 0, 0.15);\n",
              "      filter: drop-shadow(0px 1px 2px rgba(0, 0, 0, 0.3));\n",
              "      fill: #FFFFFF;\n",
              "    }\n",
              "  </style>\n",
              "\n",
              "      <script>\n",
              "        const buttonEl =\n",
              "          document.querySelector('#df-8e476980-439e-4762-9983-049b6926b0f0 button.colab-df-convert');\n",
              "        buttonEl.style.display =\n",
              "          google.colab.kernel.accessAllowed ? 'block' : 'none';\n",
              "\n",
              "        async function convertToInteractive(key) {\n",
              "          const element = document.querySelector('#df-8e476980-439e-4762-9983-049b6926b0f0');\n",
              "          const dataTable =\n",
              "            await google.colab.kernel.invokeFunction('convertToInteractive',\n",
              "                                                     [key], {});\n",
              "          if (!dataTable) return;\n",
              "\n",
              "          const docLinkHtml = 'Like what you see? Visit the ' +\n",
              "            '<a target=\"_blank\" href=https://colab.research.google.com/notebooks/data_table.ipynb>data table notebook</a>'\n",
              "            + ' to learn more about interactive tables.';\n",
              "          element.innerHTML = '';\n",
              "          dataTable['output_type'] = 'display_data';\n",
              "          await google.colab.output.renderOutput(dataTable, element);\n",
              "          const docLink = document.createElement('div');\n",
              "          docLink.innerHTML = docLinkHtml;\n",
              "          element.appendChild(docLink);\n",
              "        }\n",
              "      </script>\n",
              "    </div>\n",
              "  </div>\n",
              "  "
            ]
          },
          "metadata": {},
          "execution_count": 37
        }
      ]
    },
    {
      "cell_type": "code",
      "source": [
        "final_df.to_csv('training_data_processed_final.csv')"
      ],
      "metadata": {
        "id": "askcGv8dvhmN"
      },
      "execution_count": null,
      "outputs": []
    },
    {
      "cell_type": "code",
      "source": [
        "final_df.to_csv('training_data_processed_stop_word_removed.csv')"
      ],
      "metadata": {
        "id": "oK28z3I-vk9H"
      },
      "execution_count": 38,
      "outputs": []
    },
    {
      "cell_type": "code",
      "source": [],
      "metadata": {
        "id": "ek_WxC-6zORl"
      },
      "execution_count": null,
      "outputs": []
    }
  ]
}