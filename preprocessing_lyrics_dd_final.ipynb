{
 "nbformat": 4,
 "nbformat_minor": 0,
 "metadata": {
  "colab": {
   "provenance": []
  },
  "kernelspec": {
   "name": "python3",
   "display_name": "Python 3"
  },
  "language_info": {
   "name": "python"
  }
 },
 "cells": [
  {
   "cell_type": "markdown",
   "source": [
    "## Merging the dataset with genre column"
   ],
   "metadata": {
    "id": "otRyDCW32j0n",
    "pycharm": {
     "name": "#%% md\n"
    }
   }
  },
  {
   "cell_type": "code",
   "source": [
    "# import libraries\n",
    "import pandas as pd\n",
    "import numpy as np\n",
    "import nltk\n",
    "import re\n",
    "from nltk.stem import WordNetLemmatizer\n",
    "from nltk.tokenize import sent_tokenize\n",
    "from nltk.tokenize import word_tokenize\n",
    "from nltk.corpus import wordnet\n",
    "from nltk.corpus import stopwords\n",
    "nltk.download('wordnet')\n",
    "nltk.download('punkt')\n",
    "nltk.download('averaged_perceptron_tagger')\n",
    "nltk.download('stopwords')"
   ],
   "metadata": {
    "colab": {
     "base_uri": "https://localhost:8080/"
    },
    "id": "55j_9L8bs3zY",
    "outputId": "d8d04771-aa89-4e18-f23f-92b6d5ba9652",
    "pycharm": {
     "name": "#%%\n"
    }
   },
   "execution_count": null,
   "outputs": [
    {
     "output_type": "stream",
     "name": "stderr",
     "text": [
      "[nltk_data] Downloading package wordnet to /root/nltk_data...\n",
      "[nltk_data] Downloading package punkt to /root/nltk_data...\n",
      "[nltk_data]   Unzipping tokenizers/punkt.zip.\n",
      "[nltk_data] Downloading package averaged_perceptron_tagger to\n",
      "[nltk_data]     /root/nltk_data...\n",
      "[nltk_data]   Unzipping taggers/averaged_perceptron_tagger.zip.\n",
      "[nltk_data] Downloading package stopwords to /root/nltk_data...\n",
      "[nltk_data]   Unzipping corpora/stopwords.zip.\n"
     ]
    },
    {
     "output_type": "execute_result",
     "data": {
      "text/plain": [
       "True"
      ]
     },
     "metadata": {},
     "execution_count": 1
    }
   ]
  },
  {
   "cell_type": "code",
   "source": [
    "# read csv file\n",
    "df = pd.read_csv('data/training_data.csv')"
   ],
   "metadata": {
    "id": "zuv3JXfutKsh",
    "pycharm": {
     "name": "#%%\n"
    }
   },
   "execution_count": null,
   "outputs": []
  },
  {
   "cell_type": "markdown",
   "source": [
    "### Defining functions for pre-processing"
   ],
   "metadata": {
    "id": "_nrv2T2W2zai",
    "pycharm": {
     "name": "#%% md\n"
    }
   }
  },
  {
   "cell_type": "code",
   "source": [
    "def convert_to_lowercase(song_lyrics):\n",
    "    '''\n",
    "      Convert all lyrics to lower text\n",
    "    '''\n",
    "    return str(song_lyrics.str.lower())"
   ],
   "metadata": {
    "id": "xADBwK7jtnjM",
    "pycharm": {
     "name": "#%%\n"
    }
   },
   "execution_count": null,
   "outputs": []
  },
  {
   "cell_type": "code",
   "source": [
    "# lemmatization \n",
    "def lemmatize(song_lyrics):\n",
    "    '''\n",
    "      Lemmatize words into their lemmas\n",
    "    '''\n",
    "    def get_wordnet_pos(word):\n",
    "      '''\n",
    "        Identify word as Adj, noun or verb. This improves the lemmatization \n",
    "        process.\n",
    "      '''\n",
    "      tag = nltk.pos_tag([word])[0][1][0].upper()\n",
    "      tag_dict = {\"J\": wordnet.ADJ,\n",
    "                  \"N\": wordnet.NOUN,\n",
    "                  \"V\": wordnet.VERB,\n",
    "                  \"R\": wordnet.ADV}\n",
    "\n",
    "      return tag_dict.get(tag, wordnet.NOUN)\n",
    "\n",
    "    res = []\n",
    "    lemmatizer = WordNetLemmatizer()\n",
    "    for sent in song_lyrics:\n",
    "      res.append([lemmatizer.lemmatize(w, get_wordnet_pos(w)) for w in nltk.word_tokenize(sent)])\n",
    "\n",
    "    return res"
   ],
   "metadata": {
    "id": "on2ovdbKtsuF",
    "pycharm": {
     "name": "#%%\n"
    }
   },
   "execution_count": null,
   "outputs": []
  },
  {
   "cell_type": "code",
   "source": [
    "def remove_end_of_line(song_lyrics):\n",
    "  '''\n",
    "    Remove end of line symbol. Remove special characters. \n",
    "  '''\n",
    "  song_lyrics = song_lyrics.replace('\\n\\n','. ')\n",
    "  song_lyrics = re.sub(r'[^\\w\\s\\.]', '', song_lyrics)\n",
    "  return song_lyrics.replace('\\n','. ')"
   ],
   "metadata": {
    "id": "QSiiezvP3GDa",
    "pycharm": {
     "name": "#%%\n"
    }
   },
   "execution_count": null,
   "outputs": []
  },
  {
   "cell_type": "code",
   "source": [
    "# Prepare a set of stop words\n",
    "stop_words = set(stopwords.words('english'))\n",
    "stop_words_without_punct = set()\n",
    "for word in stop_words:\n",
    "  stop_words_without_punct.add(word)\n",
    "  stop_words_without_punct.add(remove_end_of_line(word))"
   ],
   "metadata": {
    "id": "Px_9sBfgx3kt",
    "pycharm": {
     "name": "#%%\n"
    }
   },
   "execution_count": null,
   "outputs": []
  },
  {
   "cell_type": "code",
   "source": [
    "def remove_stop_words_and_lemmatize(song_lyrics):\n",
    "  '''\n",
    "    Remove stop words from lyrics. Combine lemmatization function from above \n",
    "    along with stop word removal.\n",
    "  '''\n",
    "  def get_wordnet_pos(word):\n",
    "      tag = nltk.pos_tag([word])[0][1][0].upper()\n",
    "      tag_dict = {\"J\": wordnet.ADJ,\n",
    "                  \"N\": wordnet.NOUN,\n",
    "                  \"V\": wordnet.VERB,\n",
    "                  \"R\": wordnet.ADV}\n",
    "\n",
    "      return tag_dict.get(tag, wordnet.NOUN)\n",
    "  stop_words = set(stopwords.words('english'))\n",
    "  lemmatizer = WordNetLemmatizer()\n",
    "  res = []\n",
    "  for sent in song_lyrics:\n",
    "    new_sent = []\n",
    "    for word in sent.split():\n",
    "      if word not in stop_words_without_punct:\n",
    "        new_sent.append(lemmatizer.lemmatize(word, get_wordnet_pos(word)))\n",
    "    res.append(new_sent)\n",
    "  return res"
   ],
   "metadata": {
    "id": "oAE_BDIc3CEb",
    "pycharm": {
     "name": "#%%\n"
    }
   },
   "execution_count": null,
   "outputs": []
  },
  {
   "cell_type": "code",
   "source": [
    "def tokenize_each_sent(song_lyrics):\n",
    "  '''\n",
    "    Tokenize each sentence as a list of words.\n",
    "  '''\n",
    "  res = []\n",
    "  for sent in song_lyrics:\n",
    "    tokenized_sent = word_tokenize(sent)\n",
    "    res.append(tokenized_sent)\n",
    "  return res"
   ],
   "metadata": {
    "id": "PLgqD8nGzUZO",
    "pycharm": {
     "name": "#%%\n"
    }
   },
   "execution_count": null,
   "outputs": []
  },
  {
   "cell_type": "code",
   "source": [
    "def remove_square_brackets(song_lyrics):\n",
    "  '''\n",
    "    Some lyrics have lyrics indicators like [Intro] which is not required.\n",
    "    This function removes the square brackets and anything in between them.\n",
    "  '''\n",
    "  pattern = r'\\[.*?\\]'\n",
    "  return re.sub(pattern, '', song_lyrics)"
   ],
   "metadata": {
    "id": "PgJ-lI1_5n6y",
    "pycharm": {
     "name": "#%%\n"
    }
   },
   "execution_count": null,
   "outputs": []
  },
  {
   "cell_type": "code",
   "source": [
    "def remove_period_at_end(song_lyrics):\n",
    "  '''\n",
    "    Remove period at the end of sentences. \n",
    "  '''\n",
    "  res = []\n",
    "  for sent in song_lyrics:\n",
    "    res.append(sent[:-1])\n",
    "  return res"
   ],
   "metadata": {
    "id": "QPPGSXK4ALXL",
    "pycharm": {
     "name": "#%%\n"
    }
   },
   "execution_count": null,
   "outputs": []
  },
  {
   "cell_type": "markdown",
   "source": [
    "### Combine all functions in order"
   ],
   "metadata": {
    "id": "omUOt1R53S8c",
    "pycharm": {
     "name": "#%% md\n"
    }
   }
  },
  {
   "cell_type": "code",
   "source": [
    "def preprocessing(song_lyrics):\n",
    "  '''\n",
    "    Call all the functions based on the order of pre-processing.\n",
    "  '''\n",
    "  song_lyrics = convert_to_lowercase(song_lyrics)\n",
    "  song_lyrics = remove_end_of_line(song_lyrics)\n",
    "  song_lyrics = remove_square_brackets(song_lyrics)\n",
    "  song_lyrics_tokenized = sent_tokenize(song_lyrics)\n",
    "  song_lyrics_tokenized = remove_period_at_end(song_lyrics_tokenized)\n",
    "  song_lyrics_tokenized = remove_stop_words_and_lemmatize(song_lyrics_tokenized)\n",
    "  return song_lyrics_tokenized"
   ],
   "metadata": {
    "id": "tU6twBUlxSwD",
    "pycharm": {
     "name": "#%%\n"
    }
   },
   "execution_count": null,
   "outputs": []
  },
  {
   "cell_type": "markdown",
   "source": [
    "### Apply preprocessing function on the Lyric column"
   ],
   "metadata": {
    "id": "Ppe7UpCJ3WkP",
    "pycharm": {
     "name": "#%% md\n"
    }
   }
  },
  {
   "cell_type": "code",
   "source": [
    "df['LyricProcessed'] = df['Lyric'].apply(lambda x: preprocessing(x))\n",
    "\n",
    "df.to_csv('training_data_processed.csv')\n",
    "\n",
    "print(\"SAVING COMPLETE!\")\n",
    "\n",
    "df.head(10)"
   ],
   "metadata": {
    "colab": {
     "base_uri": "https://localhost:8080/",
     "height": 616
    },
    "id": "w_RP0d_eIUOO",
    "outputId": "947d7b00-b040-4ac0-fec2-c0d4bd3b30a8",
    "pycharm": {
     "name": "#%%\n"
    }
   },
   "execution_count": null,
   "outputs": [
    {
     "output_type": "stream",
     "name": "stdout",
     "text": [
      "SAVING COMPLETE!\n"
     ]
    },
    {
     "output_type": "execute_result",
     "data": {
      "text/plain": [
       "   Unnamed: 0         Artist  \\\n",
       "0           0  Ivete Sangalo   \n",
       "1           1  Ivete Sangalo   \n",
       "2           2  Ivete Sangalo   \n",
       "3           3  Ivete Sangalo   \n",
       "4           4  Ivete Sangalo   \n",
       "5           5  Ivete Sangalo   \n",
       "6           6  Ivete Sangalo   \n",
       "7           7  Ivete Sangalo   \n",
       "8           8  Ivete Sangalo   \n",
       "9           9  Ivete Sangalo   \n",
       "\n",
       "                                               SName  \\\n",
       "0                                   Careless Whisper   \n",
       "1  Could You Be Loved / Citação Musical do Rap: S...   \n",
       "2                             Cruisin' (Part. Saulo)   \n",
       "3                                               Easy   \n",
       "4                  For Your Babies (The Voice cover)   \n",
       "5                                       Human Nature   \n",
       "6     Losing Control (Miss Cady feat. Ivete Sangalo)   \n",
       "7                           Master Blaster (Jammin')   \n",
       "8                                    More Than Words   \n",
       "9                                     Natural Collie   \n",
       "\n",
       "                                               Lyric    Genre  \\\n",
       "0  I feel so unsure\\nAs I take your hand and lead...      pop   \n",
       "1  Don't let them fool, ya\\nOr even try to school...      pop   \n",
       "2  Baby, let's cruise, away from here\\nDon't be c...      pop   \n",
       "3  Know it sounds funny\\nBut, I just can't stand ...      pop   \n",
       "4  You've got that look again\\nThe one I hoped I ...      pop   \n",
       "5  Looking out\\nAcross the night time\\nThe city w...      pop   \n",
       "6  Uh, yeah.\\nGo, go, go.\\nUh, yeah.\\nUh, Uh, Uhh...      pop   \n",
       "7  Everyone's feeling pretty\\nIt's hotter than Ju...      pop   \n",
       "8  Saying 'I Love you'\\nIs not the words I want t...      pop   \n",
       "9  Been down in the valley\\nSmoking natural colli...  spanish   \n",
       "\n",
       "                                      LyricProcessed  \n",
       "0  [[feel, unsure], [take, hand, lead, dance, flo...  \n",
       "1  [[let, fool, ya], [even, try, school, ya, oh],...  \n",
       "2  [[baby, let, cruise, away], [confuse, way, cle...  \n",
       "3  [[know, sound, funny], [cant, stand, pain], [g...  \n",
       "4  [[get, look], [one, hop, lad], [face, beam], [...  \n",
       "5  [[look], [across, night, time], [city, wink, s...  \n",
       "6  [[uh, yeah.., go, go, go.., uh, yeah.., uh, uh...  \n",
       "7  [[everyones, feel, pretty], [hotter, july], [t...  \n",
       "8  [[say, love], [word, want, hear], [want, say],...  \n",
       "9  [[valley], [smoking, natural, collie], [get, i...  "
      ],
      "text/html": [
       "\n",
       "  <div id=\"df-1c3b02d4-fc44-45f9-aae7-f885e164a80a\">\n",
       "    <div class=\"colab-df-container\">\n",
       "      <div>\n",
       "<style scoped>\n",
       "    .dataframe tbody tr th:only-of-type {\n",
       "        vertical-align: middle;\n",
       "    }\n",
       "\n",
       "    .dataframe tbody tr th {\n",
       "        vertical-align: top;\n",
       "    }\n",
       "\n",
       "    .dataframe thead th {\n",
       "        text-align: right;\n",
       "    }\n",
       "</style>\n",
       "<table border=\"1\" class=\"dataframe\">\n",
       "  <thead>\n",
       "    <tr style=\"text-align: right;\">\n",
       "      <th></th>\n",
       "      <th>Unnamed: 0</th>\n",
       "      <th>Artist</th>\n",
       "      <th>SName</th>\n",
       "      <th>Lyric</th>\n",
       "      <th>Genre</th>\n",
       "      <th>LyricProcessed</th>\n",
       "    </tr>\n",
       "  </thead>\n",
       "  <tbody>\n",
       "    <tr>\n",
       "      <th>0</th>\n",
       "      <td>0</td>\n",
       "      <td>Ivete Sangalo</td>\n",
       "      <td>Careless Whisper</td>\n",
       "      <td>I feel so unsure\\nAs I take your hand and lead...</td>\n",
       "      <td>pop</td>\n",
       "      <td>[[feel, unsure], [take, hand, lead, dance, flo...</td>\n",
       "    </tr>\n",
       "    <tr>\n",
       "      <th>1</th>\n",
       "      <td>1</td>\n",
       "      <td>Ivete Sangalo</td>\n",
       "      <td>Could You Be Loved / Citação Musical do Rap: S...</td>\n",
       "      <td>Don't let them fool, ya\\nOr even try to school...</td>\n",
       "      <td>pop</td>\n",
       "      <td>[[let, fool, ya], [even, try, school, ya, oh],...</td>\n",
       "    </tr>\n",
       "    <tr>\n",
       "      <th>2</th>\n",
       "      <td>2</td>\n",
       "      <td>Ivete Sangalo</td>\n",
       "      <td>Cruisin' (Part. Saulo)</td>\n",
       "      <td>Baby, let's cruise, away from here\\nDon't be c...</td>\n",
       "      <td>pop</td>\n",
       "      <td>[[baby, let, cruise, away], [confuse, way, cle...</td>\n",
       "    </tr>\n",
       "    <tr>\n",
       "      <th>3</th>\n",
       "      <td>3</td>\n",
       "      <td>Ivete Sangalo</td>\n",
       "      <td>Easy</td>\n",
       "      <td>Know it sounds funny\\nBut, I just can't stand ...</td>\n",
       "      <td>pop</td>\n",
       "      <td>[[know, sound, funny], [cant, stand, pain], [g...</td>\n",
       "    </tr>\n",
       "    <tr>\n",
       "      <th>4</th>\n",
       "      <td>4</td>\n",
       "      <td>Ivete Sangalo</td>\n",
       "      <td>For Your Babies (The Voice cover)</td>\n",
       "      <td>You've got that look again\\nThe one I hoped I ...</td>\n",
       "      <td>pop</td>\n",
       "      <td>[[get, look], [one, hop, lad], [face, beam], [...</td>\n",
       "    </tr>\n",
       "    <tr>\n",
       "      <th>5</th>\n",
       "      <td>5</td>\n",
       "      <td>Ivete Sangalo</td>\n",
       "      <td>Human Nature</td>\n",
       "      <td>Looking out\\nAcross the night time\\nThe city w...</td>\n",
       "      <td>pop</td>\n",
       "      <td>[[look], [across, night, time], [city, wink, s...</td>\n",
       "    </tr>\n",
       "    <tr>\n",
       "      <th>6</th>\n",
       "      <td>6</td>\n",
       "      <td>Ivete Sangalo</td>\n",
       "      <td>Losing Control (Miss Cady feat. Ivete Sangalo)</td>\n",
       "      <td>Uh, yeah.\\nGo, go, go.\\nUh, yeah.\\nUh, Uh, Uhh...</td>\n",
       "      <td>pop</td>\n",
       "      <td>[[uh, yeah.., go, go, go.., uh, yeah.., uh, uh...</td>\n",
       "    </tr>\n",
       "    <tr>\n",
       "      <th>7</th>\n",
       "      <td>7</td>\n",
       "      <td>Ivete Sangalo</td>\n",
       "      <td>Master Blaster (Jammin')</td>\n",
       "      <td>Everyone's feeling pretty\\nIt's hotter than Ju...</td>\n",
       "      <td>pop</td>\n",
       "      <td>[[everyones, feel, pretty], [hotter, july], [t...</td>\n",
       "    </tr>\n",
       "    <tr>\n",
       "      <th>8</th>\n",
       "      <td>8</td>\n",
       "      <td>Ivete Sangalo</td>\n",
       "      <td>More Than Words</td>\n",
       "      <td>Saying 'I Love you'\\nIs not the words I want t...</td>\n",
       "      <td>pop</td>\n",
       "      <td>[[say, love], [word, want, hear], [want, say],...</td>\n",
       "    </tr>\n",
       "    <tr>\n",
       "      <th>9</th>\n",
       "      <td>9</td>\n",
       "      <td>Ivete Sangalo</td>\n",
       "      <td>Natural Collie</td>\n",
       "      <td>Been down in the valley\\nSmoking natural colli...</td>\n",
       "      <td>spanish</td>\n",
       "      <td>[[valley], [smoking, natural, collie], [get, i...</td>\n",
       "    </tr>\n",
       "  </tbody>\n",
       "</table>\n",
       "</div>\n",
       "      <button class=\"colab-df-convert\" onclick=\"convertToInteractive('df-1c3b02d4-fc44-45f9-aae7-f885e164a80a')\"\n",
       "              title=\"Convert this dataframe to an interactive table.\"\n",
       "              style=\"display:none;\">\n",
       "        \n",
       "  <svg xmlns=\"http://www.w3.org/2000/svg\" height=\"24px\"viewBox=\"0 0 24 24\"\n",
       "       width=\"24px\">\n",
       "    <path d=\"M0 0h24v24H0V0z\" fill=\"none\"/>\n",
       "    <path d=\"M18.56 5.44l.94 2.06.94-2.06 2.06-.94-2.06-.94-.94-2.06-.94 2.06-2.06.94zm-11 1L8.5 8.5l.94-2.06 2.06-.94-2.06-.94L8.5 2.5l-.94 2.06-2.06.94zm10 10l.94 2.06.94-2.06 2.06-.94-2.06-.94-.94-2.06-.94 2.06-2.06.94z\"/><path d=\"M17.41 7.96l-1.37-1.37c-.4-.4-.92-.59-1.43-.59-.52 0-1.04.2-1.43.59L10.3 9.45l-7.72 7.72c-.78.78-.78 2.05 0 2.83L4 21.41c.39.39.9.59 1.41.59.51 0 1.02-.2 1.41-.59l7.78-7.78 2.81-2.81c.8-.78.8-2.07 0-2.86zM5.41 20L4 18.59l7.72-7.72 1.47 1.35L5.41 20z\"/>\n",
       "  </svg>\n",
       "      </button>\n",
       "      \n",
       "  <style>\n",
       "    .colab-df-container {\n",
       "      display:flex;\n",
       "      flex-wrap:wrap;\n",
       "      gap: 12px;\n",
       "    }\n",
       "\n",
       "    .colab-df-convert {\n",
       "      background-color: #E8F0FE;\n",
       "      border: none;\n",
       "      border-radius: 50%;\n",
       "      cursor: pointer;\n",
       "      display: none;\n",
       "      fill: #1967D2;\n",
       "      height: 32px;\n",
       "      padding: 0 0 0 0;\n",
       "      width: 32px;\n",
       "    }\n",
       "\n",
       "    .colab-df-convert:hover {\n",
       "      background-color: #E2EBFA;\n",
       "      box-shadow: 0px 1px 2px rgba(60, 64, 67, 0.3), 0px 1px 3px 1px rgba(60, 64, 67, 0.15);\n",
       "      fill: #174EA6;\n",
       "    }\n",
       "\n",
       "    [theme=dark] .colab-df-convert {\n",
       "      background-color: #3B4455;\n",
       "      fill: #D2E3FC;\n",
       "    }\n",
       "\n",
       "    [theme=dark] .colab-df-convert:hover {\n",
       "      background-color: #434B5C;\n",
       "      box-shadow: 0px 1px 3px 1px rgba(0, 0, 0, 0.15);\n",
       "      filter: drop-shadow(0px 1px 2px rgba(0, 0, 0, 0.3));\n",
       "      fill: #FFFFFF;\n",
       "    }\n",
       "  </style>\n",
       "\n",
       "      <script>\n",
       "        const buttonEl =\n",
       "          document.querySelector('#df-1c3b02d4-fc44-45f9-aae7-f885e164a80a button.colab-df-convert');\n",
       "        buttonEl.style.display =\n",
       "          google.colab.kernel.accessAllowed ? 'block' : 'none';\n",
       "\n",
       "        async function convertToInteractive(key) {\n",
       "          const element = document.querySelector('#df-1c3b02d4-fc44-45f9-aae7-f885e164a80a');\n",
       "          const dataTable =\n",
       "            await google.colab.kernel.invokeFunction('convertToInteractive',\n",
       "                                                     [key], {});\n",
       "          if (!dataTable) return;\n",
       "\n",
       "          const docLinkHtml = 'Like what you see? Visit the ' +\n",
       "            '<a target=\"_blank\" href=https://colab.research.google.com/notebooks/data_table.ipynb>data table notebook</a>'\n",
       "            + ' to learn more about interactive tables.';\n",
       "          element.innerHTML = '';\n",
       "          dataTable['output_type'] = 'display_data';\n",
       "          await google.colab.output.renderOutput(dataTable, element);\n",
       "          const docLink = document.createElement('div');\n",
       "          docLink.innerHTML = docLinkHtml;\n",
       "          element.appendChild(docLink);\n",
       "        }\n",
       "      </script>\n",
       "    </div>\n",
       "  </div>\n",
       "  "
      ]
     },
     "metadata": {},
     "execution_count": 36
    }
   ]
  },
  {
   "cell_type": "code",
   "source": [
    "# drop extra unnamed column\n",
    "final_df = df.drop(columns=df.columns[0], axis=1)\n",
    "final_df.head(10)"
   ],
   "metadata": {
    "colab": {
     "base_uri": "https://localhost:8080/",
     "height": 581
    },
    "id": "KEYQX-FAFRCC",
    "outputId": "d7e140a6-0a12-4ea6-ffd4-be75f719d558",
    "pycharm": {
     "name": "#%%\n"
    }
   },
   "execution_count": null,
   "outputs": [
    {
     "output_type": "execute_result",
     "data": {
      "text/plain": [
       "          Artist                                              SName  \\\n",
       "0  Ivete Sangalo                                   Careless Whisper   \n",
       "1  Ivete Sangalo  Could You Be Loved / Citação Musical do Rap: S...   \n",
       "2  Ivete Sangalo                             Cruisin' (Part. Saulo)   \n",
       "3  Ivete Sangalo                                               Easy   \n",
       "4  Ivete Sangalo                  For Your Babies (The Voice cover)   \n",
       "5  Ivete Sangalo                                       Human Nature   \n",
       "6  Ivete Sangalo     Losing Control (Miss Cady feat. Ivete Sangalo)   \n",
       "7  Ivete Sangalo                           Master Blaster (Jammin')   \n",
       "8  Ivete Sangalo                                    More Than Words   \n",
       "9  Ivete Sangalo                                     Natural Collie   \n",
       "\n",
       "                                               Lyric    Genre  \\\n",
       "0  I feel so unsure\\nAs I take your hand and lead...      pop   \n",
       "1  Don't let them fool, ya\\nOr even try to school...      pop   \n",
       "2  Baby, let's cruise, away from here\\nDon't be c...      pop   \n",
       "3  Know it sounds funny\\nBut, I just can't stand ...      pop   \n",
       "4  You've got that look again\\nThe one I hoped I ...      pop   \n",
       "5  Looking out\\nAcross the night time\\nThe city w...      pop   \n",
       "6  Uh, yeah.\\nGo, go, go.\\nUh, yeah.\\nUh, Uh, Uhh...      pop   \n",
       "7  Everyone's feeling pretty\\nIt's hotter than Ju...      pop   \n",
       "8  Saying 'I Love you'\\nIs not the words I want t...      pop   \n",
       "9  Been down in the valley\\nSmoking natural colli...  spanish   \n",
       "\n",
       "                                      LyricProcessed  \n",
       "0  [[feel, unsure], [take, hand, lead, dance, flo...  \n",
       "1  [[let, fool, ya], [even, try, school, ya, oh],...  \n",
       "2  [[baby, let, cruise, away], [confuse, way, cle...  \n",
       "3  [[know, sound, funny], [cant, stand, pain], [g...  \n",
       "4  [[get, look], [one, hop, lad], [face, beam], [...  \n",
       "5  [[look], [across, night, time], [city, wink, s...  \n",
       "6  [[uh, yeah.., go, go, go.., uh, yeah.., uh, uh...  \n",
       "7  [[everyones, feel, pretty], [hotter, july], [t...  \n",
       "8  [[say, love], [word, want, hear], [want, say],...  \n",
       "9  [[valley], [smoking, natural, collie], [get, i...  "
      ],
      "text/html": [
       "\n",
       "  <div id=\"df-8e476980-439e-4762-9983-049b6926b0f0\">\n",
       "    <div class=\"colab-df-container\">\n",
       "      <div>\n",
       "<style scoped>\n",
       "    .dataframe tbody tr th:only-of-type {\n",
       "        vertical-align: middle;\n",
       "    }\n",
       "\n",
       "    .dataframe tbody tr th {\n",
       "        vertical-align: top;\n",
       "    }\n",
       "\n",
       "    .dataframe thead th {\n",
       "        text-align: right;\n",
       "    }\n",
       "</style>\n",
       "<table border=\"1\" class=\"dataframe\">\n",
       "  <thead>\n",
       "    <tr style=\"text-align: right;\">\n",
       "      <th></th>\n",
       "      <th>Artist</th>\n",
       "      <th>SName</th>\n",
       "      <th>Lyric</th>\n",
       "      <th>Genre</th>\n",
       "      <th>LyricProcessed</th>\n",
       "    </tr>\n",
       "  </thead>\n",
       "  <tbody>\n",
       "    <tr>\n",
       "      <th>0</th>\n",
       "      <td>Ivete Sangalo</td>\n",
       "      <td>Careless Whisper</td>\n",
       "      <td>I feel so unsure\\nAs I take your hand and lead...</td>\n",
       "      <td>pop</td>\n",
       "      <td>[[feel, unsure], [take, hand, lead, dance, flo...</td>\n",
       "    </tr>\n",
       "    <tr>\n",
       "      <th>1</th>\n",
       "      <td>Ivete Sangalo</td>\n",
       "      <td>Could You Be Loved / Citação Musical do Rap: S...</td>\n",
       "      <td>Don't let them fool, ya\\nOr even try to school...</td>\n",
       "      <td>pop</td>\n",
       "      <td>[[let, fool, ya], [even, try, school, ya, oh],...</td>\n",
       "    </tr>\n",
       "    <tr>\n",
       "      <th>2</th>\n",
       "      <td>Ivete Sangalo</td>\n",
       "      <td>Cruisin' (Part. Saulo)</td>\n",
       "      <td>Baby, let's cruise, away from here\\nDon't be c...</td>\n",
       "      <td>pop</td>\n",
       "      <td>[[baby, let, cruise, away], [confuse, way, cle...</td>\n",
       "    </tr>\n",
       "    <tr>\n",
       "      <th>3</th>\n",
       "      <td>Ivete Sangalo</td>\n",
       "      <td>Easy</td>\n",
       "      <td>Know it sounds funny\\nBut, I just can't stand ...</td>\n",
       "      <td>pop</td>\n",
       "      <td>[[know, sound, funny], [cant, stand, pain], [g...</td>\n",
       "    </tr>\n",
       "    <tr>\n",
       "      <th>4</th>\n",
       "      <td>Ivete Sangalo</td>\n",
       "      <td>For Your Babies (The Voice cover)</td>\n",
       "      <td>You've got that look again\\nThe one I hoped I ...</td>\n",
       "      <td>pop</td>\n",
       "      <td>[[get, look], [one, hop, lad], [face, beam], [...</td>\n",
       "    </tr>\n",
       "    <tr>\n",
       "      <th>5</th>\n",
       "      <td>Ivete Sangalo</td>\n",
       "      <td>Human Nature</td>\n",
       "      <td>Looking out\\nAcross the night time\\nThe city w...</td>\n",
       "      <td>pop</td>\n",
       "      <td>[[look], [across, night, time], [city, wink, s...</td>\n",
       "    </tr>\n",
       "    <tr>\n",
       "      <th>6</th>\n",
       "      <td>Ivete Sangalo</td>\n",
       "      <td>Losing Control (Miss Cady feat. Ivete Sangalo)</td>\n",
       "      <td>Uh, yeah.\\nGo, go, go.\\nUh, yeah.\\nUh, Uh, Uhh...</td>\n",
       "      <td>pop</td>\n",
       "      <td>[[uh, yeah.., go, go, go.., uh, yeah.., uh, uh...</td>\n",
       "    </tr>\n",
       "    <tr>\n",
       "      <th>7</th>\n",
       "      <td>Ivete Sangalo</td>\n",
       "      <td>Master Blaster (Jammin')</td>\n",
       "      <td>Everyone's feeling pretty\\nIt's hotter than Ju...</td>\n",
       "      <td>pop</td>\n",
       "      <td>[[everyones, feel, pretty], [hotter, july], [t...</td>\n",
       "    </tr>\n",
       "    <tr>\n",
       "      <th>8</th>\n",
       "      <td>Ivete Sangalo</td>\n",
       "      <td>More Than Words</td>\n",
       "      <td>Saying 'I Love you'\\nIs not the words I want t...</td>\n",
       "      <td>pop</td>\n",
       "      <td>[[say, love], [word, want, hear], [want, say],...</td>\n",
       "    </tr>\n",
       "    <tr>\n",
       "      <th>9</th>\n",
       "      <td>Ivete Sangalo</td>\n",
       "      <td>Natural Collie</td>\n",
       "      <td>Been down in the valley\\nSmoking natural colli...</td>\n",
       "      <td>spanish</td>\n",
       "      <td>[[valley], [smoking, natural, collie], [get, i...</td>\n",
       "    </tr>\n",
       "  </tbody>\n",
       "</table>\n",
       "</div>\n",
       "      <button class=\"colab-df-convert\" onclick=\"convertToInteractive('df-8e476980-439e-4762-9983-049b6926b0f0')\"\n",
       "              title=\"Convert this dataframe to an interactive table.\"\n",
       "              style=\"display:none;\">\n",
       "        \n",
       "  <svg xmlns=\"http://www.w3.org/2000/svg\" height=\"24px\"viewBox=\"0 0 24 24\"\n",
       "       width=\"24px\">\n",
       "    <path d=\"M0 0h24v24H0V0z\" fill=\"none\"/>\n",
       "    <path d=\"M18.56 5.44l.94 2.06.94-2.06 2.06-.94-2.06-.94-.94-2.06-.94 2.06-2.06.94zm-11 1L8.5 8.5l.94-2.06 2.06-.94-2.06-.94L8.5 2.5l-.94 2.06-2.06.94zm10 10l.94 2.06.94-2.06 2.06-.94-2.06-.94-.94-2.06-.94 2.06-2.06.94z\"/><path d=\"M17.41 7.96l-1.37-1.37c-.4-.4-.92-.59-1.43-.59-.52 0-1.04.2-1.43.59L10.3 9.45l-7.72 7.72c-.78.78-.78 2.05 0 2.83L4 21.41c.39.39.9.59 1.41.59.51 0 1.02-.2 1.41-.59l7.78-7.78 2.81-2.81c.8-.78.8-2.07 0-2.86zM5.41 20L4 18.59l7.72-7.72 1.47 1.35L5.41 20z\"/>\n",
       "  </svg>\n",
       "      </button>\n",
       "      \n",
       "  <style>\n",
       "    .colab-df-container {\n",
       "      display:flex;\n",
       "      flex-wrap:wrap;\n",
       "      gap: 12px;\n",
       "    }\n",
       "\n",
       "    .colab-df-convert {\n",
       "      background-color: #E8F0FE;\n",
       "      border: none;\n",
       "      border-radius: 50%;\n",
       "      cursor: pointer;\n",
       "      display: none;\n",
       "      fill: #1967D2;\n",
       "      height: 32px;\n",
       "      padding: 0 0 0 0;\n",
       "      width: 32px;\n",
       "    }\n",
       "\n",
       "    .colab-df-convert:hover {\n",
       "      background-color: #E2EBFA;\n",
       "      box-shadow: 0px 1px 2px rgba(60, 64, 67, 0.3), 0px 1px 3px 1px rgba(60, 64, 67, 0.15);\n",
       "      fill: #174EA6;\n",
       "    }\n",
       "\n",
       "    [theme=dark] .colab-df-convert {\n",
       "      background-color: #3B4455;\n",
       "      fill: #D2E3FC;\n",
       "    }\n",
       "\n",
       "    [theme=dark] .colab-df-convert:hover {\n",
       "      background-color: #434B5C;\n",
       "      box-shadow: 0px 1px 3px 1px rgba(0, 0, 0, 0.15);\n",
       "      filter: drop-shadow(0px 1px 2px rgba(0, 0, 0, 0.3));\n",
       "      fill: #FFFFFF;\n",
       "    }\n",
       "  </style>\n",
       "\n",
       "      <script>\n",
       "        const buttonEl =\n",
       "          document.querySelector('#df-8e476980-439e-4762-9983-049b6926b0f0 button.colab-df-convert');\n",
       "        buttonEl.style.display =\n",
       "          google.colab.kernel.accessAllowed ? 'block' : 'none';\n",
       "\n",
       "        async function convertToInteractive(key) {\n",
       "          const element = document.querySelector('#df-8e476980-439e-4762-9983-049b6926b0f0');\n",
       "          const dataTable =\n",
       "            await google.colab.kernel.invokeFunction('convertToInteractive',\n",
       "                                                     [key], {});\n",
       "          if (!dataTable) return;\n",
       "\n",
       "          const docLinkHtml = 'Like what you see? Visit the ' +\n",
       "            '<a target=\"_blank\" href=https://colab.research.google.com/notebooks/data_table.ipynb>data table notebook</a>'\n",
       "            + ' to learn more about interactive tables.';\n",
       "          element.innerHTML = '';\n",
       "          dataTable['output_type'] = 'display_data';\n",
       "          await google.colab.output.renderOutput(dataTable, element);\n",
       "          const docLink = document.createElement('div');\n",
       "          docLink.innerHTML = docLinkHtml;\n",
       "          element.appendChild(docLink);\n",
       "        }\n",
       "      </script>\n",
       "    </div>\n",
       "  </div>\n",
       "  "
      ]
     },
     "metadata": {},
     "execution_count": 37
    }
   ]
  },
  {
   "cell_type": "markdown",
   "source": [
    "### Save dataset"
   ],
   "metadata": {
    "id": "RyPoOBMM3fHn",
    "pycharm": {
     "name": "#%% md\n"
    }
   }
  },
  {
   "cell_type": "code",
   "source": [
    "final_df.to_csv('data/training_data_processed_stop_word_removed.csv')"
   ],
   "metadata": {
    "id": "oK28z3I-vk9H",
    "pycharm": {
     "name": "#%%\n"
    }
   },
   "execution_count": null,
   "outputs": []
  }
 ]
}