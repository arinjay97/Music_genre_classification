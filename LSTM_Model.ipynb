{
 "nbformat": 4,
 "nbformat_minor": 0,
 "metadata": {
  "colab": {
   "provenance": []
  },
  "kernelspec": {
   "name": "python3",
   "display_name": "Python 3"
  },
  "language_info": {
   "name": "python"
  }
 },
 "cells": [
  {
   "cell_type": "code",
   "execution_count": 2,
   "metadata": {
    "colab": {
     "base_uri": "https://localhost:8080/"
    },
    "id": "NESrHx-uM8lA",
    "outputId": "0b94c847-b76a-4a2d-98aa-60b10ead940f",
    "pycharm": {
     "name": "#%%\n"
    }
   },
   "outputs": [
    {
     "name": "stderr",
     "output_type": "stream",
     "text": [
      "[nltk_data] Downloading package punkt to\n",
      "[nltk_data]     /Users/santoshsaranyan/nltk_data...\n",
      "[nltk_data]   Package punkt is already up-to-date!\n"
     ]
    }
   ],
   "source": [
    "import copy\n",
    "import numpy as np\n",
    "import pandas as pd\n",
    "import nltk\n",
    "nltk.download('punkt')"
   ]
  },
  {
   "cell_type": "code",
   "source": [
    "# Loading the dataset\n",
    "df = pd.read_csv(\"data/Processed_Lyric_Dataset.csv\")\n",
    "df.head()"
   ],
   "metadata": {
    "colab": {
     "base_uri": "https://localhost:8080/",
     "height": 204
    },
    "id": "IYyVl2FrOKUy",
    "outputId": "f7de6a6e-ff7e-44fa-cebe-be18d957ad12",
    "pycharm": {
     "name": "#%%\n"
    }
   },
   "execution_count": 3,
   "outputs": [
    {
     "data": {
      "text/plain": "          Artist                                              SName  \\\n0  Ivete Sangalo                                   Careless Whisper   \n1  Ivete Sangalo  Could You Be Loved / Citação Musical do Rap: S...   \n2  Ivete Sangalo                             Cruisin' (Part. Saulo)   \n3  Ivete Sangalo                                               Easy   \n4  Ivete Sangalo                  For Your Babies (The Voice cover)   \n\n                                               Lyric Genre  \\\n0  I feel so unsure\\nAs I take your hand and lead...   pop   \n1  Don't let them fool, ya\\nOr even try to school...   pop   \n2  Baby, let's cruise, away from here\\nDon't be c...   pop   \n3  Know it sounds funny\\nBut, I just can't stand ...   pop   \n4  You've got that look again\\nThe one I hoped I ...   pop   \n\n                                      LyricProcessed  \n0  [['feel', 'unsure'], ['take', 'hand', 'lead', ...  \n1  [['let', 'fool', 'ya'], ['even', 'try', 'schoo...  \n2  [['baby', 'let', 'cruise', 'away'], ['confuse'...  \n3  [['know', 'sound', 'funny'], ['cant', 'stand',...  \n4  [['get', 'look'], ['one', 'hop', 'lad'], ['fac...  ",
      "text/html": "<div>\n<style scoped>\n    .dataframe tbody tr th:only-of-type {\n        vertical-align: middle;\n    }\n\n    .dataframe tbody tr th {\n        vertical-align: top;\n    }\n\n    .dataframe thead th {\n        text-align: right;\n    }\n</style>\n<table border=\"1\" class=\"dataframe\">\n  <thead>\n    <tr style=\"text-align: right;\">\n      <th></th>\n      <th>Artist</th>\n      <th>SName</th>\n      <th>Lyric</th>\n      <th>Genre</th>\n      <th>LyricProcessed</th>\n    </tr>\n  </thead>\n  <tbody>\n    <tr>\n      <th>0</th>\n      <td>Ivete Sangalo</td>\n      <td>Careless Whisper</td>\n      <td>I feel so unsure\\nAs I take your hand and lead...</td>\n      <td>pop</td>\n      <td>[['feel', 'unsure'], ['take', 'hand', 'lead', ...</td>\n    </tr>\n    <tr>\n      <th>1</th>\n      <td>Ivete Sangalo</td>\n      <td>Could You Be Loved / Citação Musical do Rap: S...</td>\n      <td>Don't let them fool, ya\\nOr even try to school...</td>\n      <td>pop</td>\n      <td>[['let', 'fool', 'ya'], ['even', 'try', 'schoo...</td>\n    </tr>\n    <tr>\n      <th>2</th>\n      <td>Ivete Sangalo</td>\n      <td>Cruisin' (Part. Saulo)</td>\n      <td>Baby, let's cruise, away from here\\nDon't be c...</td>\n      <td>pop</td>\n      <td>[['baby', 'let', 'cruise', 'away'], ['confuse'...</td>\n    </tr>\n    <tr>\n      <th>3</th>\n      <td>Ivete Sangalo</td>\n      <td>Easy</td>\n      <td>Know it sounds funny\\nBut, I just can't stand ...</td>\n      <td>pop</td>\n      <td>[['know', 'sound', 'funny'], ['cant', 'stand',...</td>\n    </tr>\n    <tr>\n      <th>4</th>\n      <td>Ivete Sangalo</td>\n      <td>For Your Babies (The Voice cover)</td>\n      <td>You've got that look again\\nThe one I hoped I ...</td>\n      <td>pop</td>\n      <td>[['get', 'look'], ['one', 'hop', 'lad'], ['fac...</td>\n    </tr>\n  </tbody>\n</table>\n</div>"
     },
     "execution_count": 3,
     "metadata": {},
     "output_type": "execute_result"
    }
   ]
  },
  {
   "cell_type": "code",
   "execution_count": null,
   "outputs": [],
   "source": [
    "# Converting the String column into lists\n",
    "df['LyricsList'] = df.apply(lambda x: eval(x['LyricProcessed']), axis=1)\n",
    "\n",
    "# Converting the list of words into a single string with all words\n",
    "df['LyricsProcessed'] = df['LyricsList'].apply(lambda x: (' '.join(list(map(' '.join, x)))))"
   ],
   "metadata": {
    "collapsed": false,
    "pycharm": {
     "name": "#%%\n"
    }
   }
  },
  {
   "cell_type": "code",
   "execution_count": 8,
   "outputs": [
    {
     "data": {
      "text/plain": "          Artist                                              SName  \\\n0  Ivete Sangalo                                   Careless Whisper   \n1  Ivete Sangalo  Could You Be Loved / Citação Musical do Rap: S...   \n2  Ivete Sangalo                             Cruisin' (Part. Saulo)   \n3  Ivete Sangalo                                               Easy   \n4  Ivete Sangalo                  For Your Babies (The Voice cover)   \n\n                                               Lyric Genre  \\\n0  I feel so unsure\\nAs I take your hand and lead...   pop   \n1  Don't let them fool, ya\\nOr even try to school...   pop   \n2  Baby, let's cruise, away from here\\nDon't be c...   pop   \n3  Know it sounds funny\\nBut, I just can't stand ...   pop   \n4  You've got that look again\\nThe one I hoped I ...   pop   \n\n                                      LyricProcessed  \\\n0  [['feel', 'unsure'], ['take', 'hand', 'lead', ...   \n1  [['let', 'fool', 'ya'], ['even', 'try', 'schoo...   \n2  [['baby', 'let', 'cruise', 'away'], ['confuse'...   \n3  [['know', 'sound', 'funny'], ['cant', 'stand',...   \n4  [['get', 'look'], ['one', 'hop', 'lad'], ['fac...   \n\n                                          LyricsList  \\\n0  [[feel, unsure], [take, hand, lead, dance, flo...   \n1  [[let, fool, ya], [even, try, school, ya, oh],...   \n2  [[baby, let, cruise, away], [confuse, way, cle...   \n3  [[know, sound, funny], [cant, stand, pain], [g...   \n4  [[get, look], [one, hop, lad], [face, beam], [...   \n\n                                     LyricsProcessed  \n0  feel unsure take hand lead dance floor music d...  \n1  let fool ya even try school ya oh weve get min...  \n2  baby let cruise away confuse way clear want ge...  \n3  know sound funny cant stand pain girl im leave...  \n4  get look one hop lad face beam smile get boast...  ",
      "text/html": "<div>\n<style scoped>\n    .dataframe tbody tr th:only-of-type {\n        vertical-align: middle;\n    }\n\n    .dataframe tbody tr th {\n        vertical-align: top;\n    }\n\n    .dataframe thead th {\n        text-align: right;\n    }\n</style>\n<table border=\"1\" class=\"dataframe\">\n  <thead>\n    <tr style=\"text-align: right;\">\n      <th></th>\n      <th>Artist</th>\n      <th>SName</th>\n      <th>Lyric</th>\n      <th>Genre</th>\n      <th>LyricProcessed</th>\n      <th>LyricsList</th>\n      <th>LyricsProcessed</th>\n    </tr>\n  </thead>\n  <tbody>\n    <tr>\n      <th>0</th>\n      <td>Ivete Sangalo</td>\n      <td>Careless Whisper</td>\n      <td>I feel so unsure\\nAs I take your hand and lead...</td>\n      <td>pop</td>\n      <td>[['feel', 'unsure'], ['take', 'hand', 'lead', ...</td>\n      <td>[[feel, unsure], [take, hand, lead, dance, flo...</td>\n      <td>feel unsure take hand lead dance floor music d...</td>\n    </tr>\n    <tr>\n      <th>1</th>\n      <td>Ivete Sangalo</td>\n      <td>Could You Be Loved / Citação Musical do Rap: S...</td>\n      <td>Don't let them fool, ya\\nOr even try to school...</td>\n      <td>pop</td>\n      <td>[['let', 'fool', 'ya'], ['even', 'try', 'schoo...</td>\n      <td>[[let, fool, ya], [even, try, school, ya, oh],...</td>\n      <td>let fool ya even try school ya oh weve get min...</td>\n    </tr>\n    <tr>\n      <th>2</th>\n      <td>Ivete Sangalo</td>\n      <td>Cruisin' (Part. Saulo)</td>\n      <td>Baby, let's cruise, away from here\\nDon't be c...</td>\n      <td>pop</td>\n      <td>[['baby', 'let', 'cruise', 'away'], ['confuse'...</td>\n      <td>[[baby, let, cruise, away], [confuse, way, cle...</td>\n      <td>baby let cruise away confuse way clear want ge...</td>\n    </tr>\n    <tr>\n      <th>3</th>\n      <td>Ivete Sangalo</td>\n      <td>Easy</td>\n      <td>Know it sounds funny\\nBut, I just can't stand ...</td>\n      <td>pop</td>\n      <td>[['know', 'sound', 'funny'], ['cant', 'stand',...</td>\n      <td>[[know, sound, funny], [cant, stand, pain], [g...</td>\n      <td>know sound funny cant stand pain girl im leave...</td>\n    </tr>\n    <tr>\n      <th>4</th>\n      <td>Ivete Sangalo</td>\n      <td>For Your Babies (The Voice cover)</td>\n      <td>You've got that look again\\nThe one I hoped I ...</td>\n      <td>pop</td>\n      <td>[['get', 'look'], ['one', 'hop', 'lad'], ['fac...</td>\n      <td>[[get, look], [one, hop, lad], [face, beam], [...</td>\n      <td>get look one hop lad face beam smile get boast...</td>\n    </tr>\n  </tbody>\n</table>\n</div>"
     },
     "execution_count": 8,
     "metadata": {},
     "output_type": "execute_result"
    }
   ],
   "source": [
    "df.head()"
   ],
   "metadata": {
    "collapsed": false,
    "pycharm": {
     "name": "#%%\n"
    }
   }
  },
  {
   "cell_type": "code",
   "execution_count": 9,
   "outputs": [],
   "source": [
    "from sklearn import preprocessing\n",
    "\n",
    "# Encoding the label\n",
    "LabelEnc = preprocessing.LabelEncoder()\n",
    "df['GenreEncoded'] = LabelEnc.fit_transform(df['Genre'])\n"
   ],
   "metadata": {
    "collapsed": false,
    "pycharm": {
     "name": "#%%\n"
    }
   }
  },
  {
   "cell_type": "code",
   "execution_count": 10,
   "outputs": [
    {
     "data": {
      "text/plain": "          Artist                                              SName  \\\n0  Ivete Sangalo                                   Careless Whisper   \n1  Ivete Sangalo  Could You Be Loved / Citação Musical do Rap: S...   \n2  Ivete Sangalo                             Cruisin' (Part. Saulo)   \n3  Ivete Sangalo                                               Easy   \n4  Ivete Sangalo                  For Your Babies (The Voice cover)   \n\n                                               Lyric Genre  \\\n0  I feel so unsure\\nAs I take your hand and lead...   pop   \n1  Don't let them fool, ya\\nOr even try to school...   pop   \n2  Baby, let's cruise, away from here\\nDon't be c...   pop   \n3  Know it sounds funny\\nBut, I just can't stand ...   pop   \n4  You've got that look again\\nThe one I hoped I ...   pop   \n\n                                      LyricProcessed  \\\n0  [['feel', 'unsure'], ['take', 'hand', 'lead', ...   \n1  [['let', 'fool', 'ya'], ['even', 'try', 'schoo...   \n2  [['baby', 'let', 'cruise', 'away'], ['confuse'...   \n3  [['know', 'sound', 'funny'], ['cant', 'stand',...   \n4  [['get', 'look'], ['one', 'hop', 'lad'], ['fac...   \n\n                                          LyricsList  \\\n0  [[feel, unsure], [take, hand, lead, dance, flo...   \n1  [[let, fool, ya], [even, try, school, ya, oh],...   \n2  [[baby, let, cruise, away], [confuse, way, cle...   \n3  [[know, sound, funny], [cant, stand, pain], [g...   \n4  [[get, look], [one, hop, lad], [face, beam], [...   \n\n                                     LyricsProcessed  GenreEncoded  \n0  feel unsure take hand lead dance floor music d...             9  \n1  let fool ya even try school ya oh weve get min...             9  \n2  baby let cruise away confuse way clear want ge...             9  \n3  know sound funny cant stand pain girl im leave...             9  \n4  get look one hop lad face beam smile get boast...             9  ",
      "text/html": "<div>\n<style scoped>\n    .dataframe tbody tr th:only-of-type {\n        vertical-align: middle;\n    }\n\n    .dataframe tbody tr th {\n        vertical-align: top;\n    }\n\n    .dataframe thead th {\n        text-align: right;\n    }\n</style>\n<table border=\"1\" class=\"dataframe\">\n  <thead>\n    <tr style=\"text-align: right;\">\n      <th></th>\n      <th>Artist</th>\n      <th>SName</th>\n      <th>Lyric</th>\n      <th>Genre</th>\n      <th>LyricProcessed</th>\n      <th>LyricsList</th>\n      <th>LyricsProcessed</th>\n      <th>GenreEncoded</th>\n    </tr>\n  </thead>\n  <tbody>\n    <tr>\n      <th>0</th>\n      <td>Ivete Sangalo</td>\n      <td>Careless Whisper</td>\n      <td>I feel so unsure\\nAs I take your hand and lead...</td>\n      <td>pop</td>\n      <td>[['feel', 'unsure'], ['take', 'hand', 'lead', ...</td>\n      <td>[[feel, unsure], [take, hand, lead, dance, flo...</td>\n      <td>feel unsure take hand lead dance floor music d...</td>\n      <td>9</td>\n    </tr>\n    <tr>\n      <th>1</th>\n      <td>Ivete Sangalo</td>\n      <td>Could You Be Loved / Citação Musical do Rap: S...</td>\n      <td>Don't let them fool, ya\\nOr even try to school...</td>\n      <td>pop</td>\n      <td>[['let', 'fool', 'ya'], ['even', 'try', 'schoo...</td>\n      <td>[[let, fool, ya], [even, try, school, ya, oh],...</td>\n      <td>let fool ya even try school ya oh weve get min...</td>\n      <td>9</td>\n    </tr>\n    <tr>\n      <th>2</th>\n      <td>Ivete Sangalo</td>\n      <td>Cruisin' (Part. Saulo)</td>\n      <td>Baby, let's cruise, away from here\\nDon't be c...</td>\n      <td>pop</td>\n      <td>[['baby', 'let', 'cruise', 'away'], ['confuse'...</td>\n      <td>[[baby, let, cruise, away], [confuse, way, cle...</td>\n      <td>baby let cruise away confuse way clear want ge...</td>\n      <td>9</td>\n    </tr>\n    <tr>\n      <th>3</th>\n      <td>Ivete Sangalo</td>\n      <td>Easy</td>\n      <td>Know it sounds funny\\nBut, I just can't stand ...</td>\n      <td>pop</td>\n      <td>[['know', 'sound', 'funny'], ['cant', 'stand',...</td>\n      <td>[[know, sound, funny], [cant, stand, pain], [g...</td>\n      <td>know sound funny cant stand pain girl im leave...</td>\n      <td>9</td>\n    </tr>\n    <tr>\n      <th>4</th>\n      <td>Ivete Sangalo</td>\n      <td>For Your Babies (The Voice cover)</td>\n      <td>You've got that look again\\nThe one I hoped I ...</td>\n      <td>pop</td>\n      <td>[['get', 'look'], ['one', 'hop', 'lad'], ['fac...</td>\n      <td>[[get, look], [one, hop, lad], [face, beam], [...</td>\n      <td>get look one hop lad face beam smile get boast...</td>\n      <td>9</td>\n    </tr>\n  </tbody>\n</table>\n</div>"
     },
     "execution_count": 10,
     "metadata": {},
     "output_type": "execute_result"
    }
   ],
   "source": [
    "df.head()"
   ],
   "metadata": {
    "collapsed": false,
    "pycharm": {
     "name": "#%%\n"
    }
   }
  },
  {
   "cell_type": "code",
   "execution_count": 24,
   "outputs": [],
   "source": [
    "from gensim import models\n",
    "\n",
    "# Loading the Word2Vec Embeddings\n",
    "w2v_path = 'data/w2v_Embeddings.txt'\n",
    "w2v_model = models.KeyedVectors.load_word2vec_format(w2v_path, binary=False)"
   ],
   "metadata": {
    "collapsed": false,
    "pycharm": {
     "name": "#%%\n"
    }
   }
  },
  {
   "cell_type": "code",
   "execution_count": 22,
   "outputs": [],
   "source": [
    "# Loading the glove embeddings\n",
    "glove_model = models.KeyedVectors.load_word2vec_format(\"data/glove.6B.200d.txt\", binary=False, no_header=True)"
   ],
   "metadata": {
    "collapsed": false,
    "pycharm": {
     "name": "#%%\n"
    }
   }
  },
  {
   "cell_type": "code",
   "execution_count": 25,
   "outputs": [],
   "source": [
    "# To replace the words with their indices in the dataset\n",
    "def token_to_index(token):\n",
    "    try:\n",
    "        return w2v_model.key_to_index[token]\n",
    "    except KeyError:\n",
    "        return 0  # Index of 0 for unknown words"
   ],
   "metadata": {
    "collapsed": false,
    "pycharm": {
     "name": "#%%\n"
    }
   }
  },
  {
   "cell_type": "code",
   "execution_count": 11,
   "outputs": [],
   "source": [
    "def token_to_index_glove(token):\n",
    "    try:\n",
    "        return glove_model.key_to_index[token]\n",
    "    except KeyError:\n",
    "        return 0  # Index of 0 for unknown words"
   ],
   "metadata": {
    "collapsed": false,
    "pycharm": {
     "name": "#%%\n"
    }
   }
  },
  {
   "cell_type": "code",
   "execution_count": 26,
   "outputs": [],
   "source": [
    "from sklearn.model_selection import train_test_split\n",
    "\n",
    "model_selection = \"w2v\"\n",
    "\n",
    "# Splitting the dataset into training, validation and test sets\n",
    "label_final = df['GenreEncoded']\n",
    "label_final = label_final.drop(88392) # Dropping a row with an empty list\n",
    "df_lyrics = df['LyricsProcessed'].apply(lambda x: x.split())\n",
    "df_lyrics = df_lyrics.drop(88392)\n",
    "if model_selection == \"w2v\":\n",
    "    df_indices = df_lyrics.apply(lambda x: [token_to_index(token) for token in x])\n",
    "else:\n",
    "    df_indices = df_lyrics.apply(lambda x: [token_to_index_glove(token) for token in x])\n",
    "df_train_valid, df_test, label_train_valid, label_test = train_test_split(df_indices.to_list(), label_final.to_list(), test_size=0.10, random_state=7)\n",
    "df_train, df_valid, label_train, label_valid = train_test_split(df_train_valid, label_train_valid, test_size=0.10, random_state=7)"
   ],
   "metadata": {
    "collapsed": false,
    "pycharm": {
     "name": "#%%\n"
    }
   }
  },
  {
   "cell_type": "code",
   "execution_count": 27,
   "outputs": [],
   "source": [
    "from torch.utils.data import Dataset\n",
    "# Converting the dataframe into Torch's Text Dataset\n",
    "class TextDataset(Dataset):\n",
    "    def __init__(self, X, y):\n",
    "        self.X = X\n",
    "        self.y = y\n",
    "\n",
    "    def __len__(self):\n",
    "        return len(self.X)\n",
    "\n",
    "    def __getitem__(self, index):\n",
    "        return torch.tensor(self.X[index]), torch.tensor(self.y[index])\n",
    "\n",
    "train_dataset = TextDataset(df_train, label_train)\n",
    "valid_dataset = TextDataset(df_valid, label_valid)\n",
    "test_dataset = TextDataset(df_test, label_test)\n"
   ],
   "metadata": {
    "collapsed": false,
    "pycharm": {
     "name": "#%%\n"
    }
   }
  },
  {
   "cell_type": "code",
   "execution_count": 28,
   "outputs": [],
   "source": [
    "import torch\n",
    "import torch.nn as nn\n",
    "import torch.nn.utils.rnn as rnn_utils\n",
    "from torch.utils.data import DataLoader\n",
    "device = 'cpu'\n",
    "batch_size = 32\n",
    "\n",
    "# Splitting the dataset into batches and padding the vectors for equal length\n",
    "def collate_batch(batch):\n",
    "    X = [torch.tensor(item[0], dtype=torch.long) for item in batch]\n",
    "    y = torch.tensor([item[1] for item in batch], dtype=torch.long)\n",
    "    X_padded = rnn_utils.pad_sequence(X, batch_first=True, padding_value=0)\n",
    "    lengths = torch.LongTensor([len(x) for x in X])\n",
    "    return X_padded.to(device), y.to(device), lengths.to(device)\n",
    "\n",
    "# DataLoader to load the data into the Torch Model\n",
    "train_loader = DataLoader(train_dataset, batch_size=batch_size, shuffle=True, collate_fn=collate_batch)\n",
    "valid_loader = DataLoader(valid_dataset, batch_size=batch_size, collate_fn=collate_batch)\n",
    "test_loader = DataLoader(test_dataset, batch_size=batch_size, collate_fn=collate_batch)\n",
    "\n"
   ],
   "metadata": {
    "collapsed": false,
    "pycharm": {
     "name": "#%%\n"
    }
   }
  },
  {
   "cell_type": "code",
   "execution_count": 29,
   "outputs": [],
   "source": [
    "# Defining the LSTM Model\n",
    "class LSTM(nn.Module):\n",
    "    def __init__(self, given_model, num_classes, hidden_size=64, num_layers=2):\n",
    "        super(LSTM, self).__init__()\n",
    "        self.embedding_dim = given_model.vector_size\n",
    "        self.hidden_size = hidden_size\n",
    "        self.num_layers = num_layers\n",
    "\n",
    "        self.embedding = nn.Embedding.from_pretrained(torch.FloatTensor(given_model.vectors)) # Using the embeddings trained previously\n",
    "        self.lstm = nn.LSTM(self.embedding_dim, self.hidden_size, num_layers=self.num_layers, batch_first=True)\n",
    "        self.fc = nn.Linear(self.hidden_size, num_classes)\n",
    "        self.dropout = nn.Dropout(0.2)\n",
    "\n",
    "    def forward(self, x, lengths):\n",
    "        x = self.embedding(x)\n",
    "        x = self.dropout(x)\n",
    "        #Packing the padded sequences for better computational performance\n",
    "        packed_seq = rnn_utils.pack_padded_sequence(x, lengths, batch_first=True, enforce_sorted=False)\n",
    "        _, (hidden, _) = self.lstm(packed_seq)\n",
    "        output = self.fc(hidden[-1])\n",
    "        return output.squeeze(0)\n"
   ],
   "metadata": {
    "collapsed": false,
    "pycharm": {
     "name": "#%%\n"
    }
   }
  },
  {
   "cell_type": "code",
   "execution_count": 28,
   "outputs": [],
   "source": [
    "# Function to train the LSTM model and choose the best one based on validation performance\n",
    "def train_model(model, num_epochs, adam_optimizer, training_loss_list, loss_fn, validation_loss_list, validation_accuracy_list, best_accuracy=0, best_weights=None):\n",
    "    for epoch in range(num_epochs):\n",
    "        print(\"Epoch :\", epoch)\n",
    "        model.train()\n",
    "        training_loss = 0\n",
    "        current_batch = 0\n",
    "        for inputs, labels, lengths in train_loader:\n",
    "            if current_batch % 500 == 0:\n",
    "                print('Current batch: {} / {}'.format(current_batch + 1, len(train_loader)))\n",
    "            current_batch += 1\n",
    "            adam_optimizer.zero_grad()\n",
    "            outputs = model(inputs, lengths)\n",
    "            loss = loss_fn(outputs, labels)\n",
    "            loss.backward()\n",
    "            adam_optimizer.step()\n",
    "            training_loss = training_loss + (loss.item() * inputs.size(0))\n",
    "        training_loss = training_loss/len(train_loader.dataset)\n",
    "        training_loss_list.append(training_loss)\n",
    "        print(\"Training Loss: \", training_loss)\n",
    "\n",
    "        # Testing performance on validation set\n",
    "        model.eval()\n",
    "        validation_loss = 0\n",
    "        correct = 0\n",
    "        total = 0\n",
    "        current_batch = 0\n",
    "        with torch.no_grad():\n",
    "            for inputs, labels, lengths in valid_loader:\n",
    "                if current_batch % 500 == 0:\n",
    "                    print('Current batch: {} / {}'.format(current_batch+1, len(valid_loader)))\n",
    "                current_batch += 1\n",
    "                outputs = model(inputs, lengths)\n",
    "                loss = loss_fn(outputs, labels)\n",
    "                validation_loss = validation_loss + (loss.item()*inputs.size(0))\n",
    "                _, predicted = outputs.max(1)\n",
    "                total = total + labels.size(0)\n",
    "                correct = correct + predicted.eq(labels).sum().item()\n",
    "        validation_loss = validation_loss/len(valid_loader.dataset)\n",
    "        validation_loss_list.append(validation_loss)\n",
    "        validation_accuracy = correct/total\n",
    "        validation_accuracy_list.append(validation_accuracy)\n",
    "\n",
    "        # Get the best model parameters\n",
    "        if validation_accuracy > best_accuracy:\n",
    "            best_accuracy = validation_accuracy\n",
    "            best_weights = copy.deepcopy(model.state_dict())\n",
    "\n",
    "        print('Epoch [{}/{}], Train Loss: {:.4f}, Val Loss: {:.4f}, Val Acc: {:.2f}%'\n",
    "              .format(epoch+1, num_epochs, training_loss, validation_loss, 100*validation_accuracy))\n",
    "    return best_weights"
   ],
   "metadata": {
    "collapsed": false,
    "pycharm": {
     "name": "#%%\n"
    }
   }
  },
  {
   "cell_type": "code",
   "execution_count": 15,
   "outputs": [
    {
     "name": "stdout",
     "output_type": "stream",
     "text": [
      "Epoch : 0\n",
      "Current batch: 1 / 2904\n"
     ]
    },
    {
     "name": "stderr",
     "output_type": "stream",
     "text": [
      "<ipython-input-13-d4135abbdb5c>:9: UserWarning: To copy construct from a tensor, it is recommended to use sourceTensor.clone().detach() or sourceTensor.clone().detach().requires_grad_(True), rather than torch.tensor(sourceTensor).\n",
      "  X = [torch.tensor(item[0], dtype=torch.long) for item in batch]\n"
     ]
    },
    {
     "name": "stdout",
     "output_type": "stream",
     "text": [
      "Current batch: 501 / 2904\n",
      "Current batch: 1001 / 2904\n",
      "Current batch: 1501 / 2904\n",
      "Current batch: 2001 / 2904\n",
      "Current batch: 2501 / 2904\n",
      "Training Loss:  2.0253612697923162\n",
      "Current batch: 1 / 323\n",
      "Epoch [1/25], Train Loss: 2.0254, Val Loss: 1.9221, Val Acc: 40.62%\n",
      "Epoch : 1\n",
      "Current batch: 1 / 2904\n",
      "Current batch: 501 / 2904\n",
      "Current batch: 1001 / 2904\n",
      "Current batch: 1501 / 2904\n",
      "Current batch: 2001 / 2904\n",
      "Current batch: 2501 / 2904\n",
      "Training Loss:  1.8078923272797611\n",
      "Current batch: 1 / 323\n",
      "Epoch [2/25], Train Loss: 1.8079, Val Loss: 1.7703, Val Acc: 43.08%\n",
      "Epoch : 2\n",
      "Current batch: 1 / 2904\n",
      "Current batch: 501 / 2904\n",
      "Current batch: 1001 / 2904\n",
      "Current batch: 1501 / 2904\n",
      "Current batch: 2001 / 2904\n",
      "Current batch: 2501 / 2904\n",
      "Training Loss:  1.7051726142784807\n",
      "Current batch: 1 / 323\n",
      "Epoch [3/25], Train Loss: 1.7052, Val Loss: 1.6937, Val Acc: 44.37%\n",
      "Epoch : 3\n",
      "Current batch: 1 / 2904\n",
      "Current batch: 501 / 2904\n",
      "Current batch: 1001 / 2904\n",
      "Current batch: 1501 / 2904\n",
      "Current batch: 2001 / 2904\n",
      "Current batch: 2501 / 2904\n",
      "Training Loss:  1.6328703426739195\n",
      "Current batch: 1 / 323\n",
      "Epoch [4/25], Train Loss: 1.6329, Val Loss: 1.6359, Val Acc: 45.61%\n",
      "Epoch : 4\n",
      "Current batch: 1 / 2904\n",
      "Current batch: 501 / 2904\n",
      "Current batch: 1001 / 2904\n",
      "Current batch: 1501 / 2904\n",
      "Current batch: 2001 / 2904\n",
      "Current batch: 2501 / 2904\n",
      "Training Loss:  1.5851506572592233\n",
      "Current batch: 1 / 323\n",
      "Epoch [5/25], Train Loss: 1.5852, Val Loss: 1.6260, Val Acc: 46.43%\n",
      "Epoch : 5\n",
      "Current batch: 1 / 2904\n",
      "Current batch: 501 / 2904\n",
      "Current batch: 1001 / 2904\n",
      "Current batch: 1501 / 2904\n",
      "Current batch: 2001 / 2904\n",
      "Current batch: 2501 / 2904\n",
      "Training Loss:  1.5470389587694195\n",
      "Current batch: 1 / 323\n",
      "Epoch [6/25], Train Loss: 1.5470, Val Loss: 1.6212, Val Acc: 46.02%\n",
      "Epoch : 6\n",
      "Current batch: 1 / 2904\n",
      "Current batch: 501 / 2904\n",
      "Current batch: 1001 / 2904\n",
      "Current batch: 1501 / 2904\n",
      "Current batch: 2001 / 2904\n",
      "Current batch: 2501 / 2904\n",
      "Training Loss:  1.5159541332585582\n",
      "Current batch: 1 / 323\n",
      "Epoch [7/25], Train Loss: 1.5160, Val Loss: 1.5778, Val Acc: 47.76%\n",
      "Epoch : 7\n",
      "Current batch: 1 / 2904\n",
      "Current batch: 501 / 2904\n",
      "Current batch: 1001 / 2904\n",
      "Current batch: 1501 / 2904\n",
      "Current batch: 2001 / 2904\n",
      "Current batch: 2501 / 2904\n",
      "Training Loss:  1.4847410297647323\n",
      "Current batch: 1 / 323\n",
      "Epoch [8/25], Train Loss: 1.4847, Val Loss: 1.5619, Val Acc: 48.16%\n",
      "Epoch : 8\n",
      "Current batch: 1 / 2904\n",
      "Current batch: 501 / 2904\n",
      "Current batch: 1001 / 2904\n",
      "Current batch: 1501 / 2904\n",
      "Current batch: 2001 / 2904\n",
      "Current batch: 2501 / 2904\n",
      "Training Loss:  1.4576092210616123\n",
      "Current batch: 1 / 323\n",
      "Epoch [9/25], Train Loss: 1.4576, Val Loss: 1.5548, Val Acc: 48.12%\n",
      "Epoch : 9\n",
      "Current batch: 1 / 2904\n",
      "Current batch: 501 / 2904\n",
      "Current batch: 1001 / 2904\n",
      "Current batch: 1501 / 2904\n",
      "Current batch: 2001 / 2904\n",
      "Current batch: 2501 / 2904\n",
      "Training Loss:  1.436522795087755\n",
      "Current batch: 1 / 323\n",
      "Epoch [10/25], Train Loss: 1.4365, Val Loss: 1.5654, Val Acc: 48.10%\n",
      "Epoch : 10\n",
      "Current batch: 1 / 2904\n",
      "Current batch: 501 / 2904\n",
      "Current batch: 1001 / 2904\n",
      "Current batch: 1501 / 2904\n",
      "Current batch: 2001 / 2904\n",
      "Current batch: 2501 / 2904\n",
      "Training Loss:  1.4178835644809795\n",
      "Current batch: 1 / 323\n",
      "Epoch [11/25], Train Loss: 1.4179, Val Loss: 1.5510, Val Acc: 48.75%\n",
      "Epoch : 11\n",
      "Current batch: 1 / 2904\n",
      "Current batch: 501 / 2904\n",
      "Current batch: 1001 / 2904\n",
      "Current batch: 1501 / 2904\n",
      "Current batch: 2001 / 2904\n",
      "Current batch: 2501 / 2904\n",
      "Training Loss:  1.3985452795021502\n",
      "Current batch: 1 / 323\n",
      "Epoch [12/25], Train Loss: 1.3985, Val Loss: 1.5635, Val Acc: 48.67%\n",
      "Epoch : 12\n",
      "Current batch: 1 / 2904\n",
      "Current batch: 501 / 2904\n",
      "Current batch: 1001 / 2904\n",
      "Current batch: 1501 / 2904\n",
      "Current batch: 2001 / 2904\n",
      "Current batch: 2501 / 2904\n",
      "Training Loss:  1.3810222504061016\n",
      "Current batch: 1 / 323\n",
      "Epoch [13/25], Train Loss: 1.3810, Val Loss: 1.5593, Val Acc: 48.50%\n",
      "Epoch : 13\n",
      "Current batch: 1 / 2904\n",
      "Current batch: 501 / 2904\n",
      "Current batch: 1001 / 2904\n",
      "Current batch: 1501 / 2904\n",
      "Current batch: 2001 / 2904\n",
      "Current batch: 2501 / 2904\n",
      "Training Loss:  1.3675671493154031\n",
      "Current batch: 1 / 323\n",
      "Epoch [14/25], Train Loss: 1.3676, Val Loss: 1.5616, Val Acc: 48.60%\n",
      "Epoch : 14\n",
      "Current batch: 1 / 2904\n",
      "Current batch: 501 / 2904\n",
      "Current batch: 1001 / 2904\n",
      "Current batch: 1501 / 2904\n",
      "Current batch: 2001 / 2904\n",
      "Current batch: 2501 / 2904\n",
      "Training Loss:  1.3516517429650596\n",
      "Current batch: 1 / 323\n",
      "Epoch [15/25], Train Loss: 1.3517, Val Loss: 1.5701, Val Acc: 48.63%\n",
      "Epoch : 15\n",
      "Current batch: 1 / 2904\n",
      "Current batch: 501 / 2904\n",
      "Current batch: 1001 / 2904\n",
      "Current batch: 1501 / 2904\n",
      "Current batch: 2001 / 2904\n",
      "Current batch: 2501 / 2904\n",
      "Training Loss:  1.3403031878751432\n",
      "Current batch: 1 / 323\n",
      "Epoch [16/25], Train Loss: 1.3403, Val Loss: 1.5445, Val Acc: 49.16%\n",
      "Epoch : 16\n",
      "Current batch: 1 / 2904\n",
      "Current batch: 501 / 2904\n",
      "Current batch: 1001 / 2904\n",
      "Current batch: 1501 / 2904\n",
      "Current batch: 2001 / 2904\n",
      "Current batch: 2501 / 2904\n",
      "Training Loss:  1.330446644745833\n",
      "Current batch: 1 / 323\n",
      "Epoch [17/25], Train Loss: 1.3304, Val Loss: 1.5552, Val Acc: 48.57%\n",
      "Epoch : 17\n",
      "Current batch: 1 / 2904\n",
      "Current batch: 501 / 2904\n",
      "Current batch: 1001 / 2904\n",
      "Current batch: 1501 / 2904\n",
      "Current batch: 2001 / 2904\n",
      "Current batch: 2501 / 2904\n",
      "Training Loss:  1.318628139653302\n",
      "Current batch: 1 / 323\n",
      "Epoch [18/25], Train Loss: 1.3186, Val Loss: 1.5724, Val Acc: 48.16%\n",
      "Epoch : 18\n",
      "Current batch: 1 / 2904\n",
      "Current batch: 501 / 2904\n",
      "Current batch: 1001 / 2904\n",
      "Current batch: 1501 / 2904\n",
      "Current batch: 2001 / 2904\n",
      "Current batch: 2501 / 2904\n",
      "Training Loss:  1.3076973862157537\n",
      "Current batch: 1 / 323\n",
      "Epoch [19/25], Train Loss: 1.3077, Val Loss: 1.5734, Val Acc: 48.77%\n",
      "Epoch : 19\n",
      "Current batch: 1 / 2904\n",
      "Current batch: 501 / 2904\n",
      "Current batch: 1001 / 2904\n",
      "Current batch: 1501 / 2904\n",
      "Current batch: 2001 / 2904\n",
      "Current batch: 2501 / 2904\n",
      "Training Loss:  1.2967809385729525\n",
      "Current batch: 1 / 323\n",
      "Epoch [20/25], Train Loss: 1.2968, Val Loss: 1.5807, Val Acc: 48.64%\n",
      "Epoch : 20\n",
      "Current batch: 1 / 2904\n",
      "Current batch: 501 / 2904\n",
      "Current batch: 1001 / 2904\n",
      "Current batch: 1501 / 2904\n",
      "Current batch: 2001 / 2904\n",
      "Current batch: 2501 / 2904\n",
      "Training Loss:  1.288289756683962\n",
      "Current batch: 1 / 323\n",
      "Epoch [21/25], Train Loss: 1.2883, Val Loss: 1.6090, Val Acc: 48.61%\n",
      "Epoch : 21\n",
      "Current batch: 1 / 2904\n",
      "Current batch: 501 / 2904\n",
      "Current batch: 1001 / 2904\n",
      "Current batch: 1501 / 2904\n",
      "Current batch: 2001 / 2904\n",
      "Current batch: 2501 / 2904\n",
      "Training Loss:  1.2799434382910904\n",
      "Current batch: 1 / 323\n",
      "Epoch [22/25], Train Loss: 1.2799, Val Loss: 1.5846, Val Acc: 48.61%\n",
      "Epoch : 22\n",
      "Current batch: 1 / 2904\n",
      "Current batch: 501 / 2904\n",
      "Current batch: 1001 / 2904\n",
      "Current batch: 1501 / 2904\n",
      "Current batch: 2001 / 2904\n",
      "Current batch: 2501 / 2904\n",
      "Training Loss:  1.2737342740006419\n",
      "Current batch: 1 / 323\n",
      "Epoch [23/25], Train Loss: 1.2737, Val Loss: 1.5748, Val Acc: 48.99%\n",
      "Epoch : 23\n",
      "Current batch: 1 / 2904\n",
      "Current batch: 501 / 2904\n",
      "Current batch: 1001 / 2904\n",
      "Current batch: 1501 / 2904\n",
      "Current batch: 2001 / 2904\n",
      "Current batch: 2501 / 2904\n",
      "Training Loss:  1.2658075528692276\n",
      "Current batch: 1 / 323\n",
      "Epoch [24/25], Train Loss: 1.2658, Val Loss: 1.5987, Val Acc: 48.57%\n",
      "Epoch : 24\n",
      "Current batch: 1 / 2904\n",
      "Current batch: 501 / 2904\n",
      "Current batch: 1001 / 2904\n",
      "Current batch: 1501 / 2904\n",
      "Current batch: 2001 / 2904\n",
      "Current batch: 2501 / 2904\n",
      "Training Loss:  1.2560803665224956\n",
      "Current batch: 1 / 323\n",
      "Epoch [25/25], Train Loss: 1.2561, Val Loss: 1.5975, Val Acc: 47.99%\n"
     ]
    }
   ],
   "source": [
    "import torch.optim as optim\n",
    "# Training model with w2v embeddings\n",
    "learning_rate = 0.001\n",
    "num_epochs = 25\n",
    "hidden_size = 64\n",
    "num_layers = 2\n",
    "num_classes = len(set(label_final))\n",
    "\n",
    "training_loss_list = []\n",
    "validation_loss_list = []\n",
    "validation_accuracy_list = []\n",
    "\n",
    "best_accuracy = 0\n",
    "best_weights = None\n",
    "\n",
    "model = LSTM(w2v_model, num_classes, hidden_size=hidden_size, num_layers=num_layers)\n",
    "adam_optimizer = optim.Adam(model.parameters(), lr=learning_rate)\n",
    "loss_fn = nn.CrossEntropyLoss()\n",
    "\n",
    "best_weights=train_model(model, num_epochs, adam_optimizer, training_loss_list, loss_fn, validation_loss_list, validation_accuracy_list, best_accuracy, best_weights)\n",
    "# Saving the best model parameters\n",
    "model.load_state_dict(best_weights)\n",
    "torch.save(model.state_dict(), 'LSTM_with_w2v.pth')"
   ],
   "metadata": {
    "collapsed": false,
    "pycharm": {
     "name": "#%%\n"
    }
   }
  },
  {
   "cell_type": "code",
   "execution_count": 16,
   "outputs": [
    {
     "data": {
      "text/plain": "<Figure size 432x288 with 1 Axes>",
      "image/png": "[encoded data removed]"
     },
     "metadata": {
      "needs_background": "light"
     },
     "output_type": "display_data"
    },
    {
     "data": {
      "text/plain": "<Figure size 432x288 with 1 Axes>",
      "image/png": "[encoded data removed]"
     },
     "metadata": {
      "needs_background": "light"
     },
     "output_type": "display_data"
    },
    {
     "data": {
      "text/plain": "<Figure size 432x288 with 0 Axes>"
     },
     "metadata": {},
     "output_type": "display_data"
    }
   ],
   "source": [
    "import matplotlib.pyplot as plt\n",
    "\n",
    "plt.plot(training_loss_list, label=\"training\")\n",
    "plt.plot(validation_loss_list, label=\"validation\")\n",
    "plt.xlabel(\"epochs\")\n",
    "plt.ylabel(\"cross entropy\")\n",
    "plt.legend()\n",
    "plt.show()\n",
    "plt.savefig('Loss.png')\n",
    "\n",
    "plt.plot(validation_accuracy_list, label=\"validation\")\n",
    "plt.xlabel(\"epochs\")\n",
    "plt.ylabel(\"accuracy\")\n",
    "plt.legend()\n",
    "plt.show()\n",
    "plt.savefig('Accuracy.png')"
   ],
   "metadata": {
    "collapsed": false,
    "pycharm": {
     "name": "#%%\n"
    }
   }
  },
  {
   "cell_type": "code",
   "execution_count": 29,
   "outputs": [
    {
     "name": "stdout",
     "output_type": "stream",
     "text": [
      "Epoch : 0\n",
      "Current batch: 1 / 2904\n"
     ]
    },
    {
     "name": "stderr",
     "output_type": "stream",
     "text": [
      "<ipython-input-26-d4135abbdb5c>:9: UserWarning: To copy construct from a tensor, it is recommended to use sourceTensor.clone().detach() or sourceTensor.clone().detach().requires_grad_(True), rather than torch.tensor(sourceTensor).\n",
      "  X = [torch.tensor(item[0], dtype=torch.long) for item in batch]\n"
     ]
    },
    {
     "name": "stdout",
     "output_type": "stream",
     "text": [
      "Current batch: 501 / 2904\n",
      "Current batch: 1001 / 2904\n",
      "Current batch: 1501 / 2904\n",
      "Current batch: 2001 / 2904\n",
      "Current batch: 2501 / 2904\n",
      "Training Loss:  2.0037140259912043\n",
      "Current batch: 1 / 323\n",
      "Epoch [1/20], Train Loss: 2.0037, Val Loss: 1.8637, Val Acc: 40.81%\n",
      "Epoch : 1\n",
      "Current batch: 1 / 2904\n",
      "Current batch: 501 / 2904\n",
      "Current batch: 1001 / 2904\n",
      "Current batch: 1501 / 2904\n",
      "Current batch: 2001 / 2904\n",
      "Current batch: 2501 / 2904\n",
      "Training Loss:  1.7815493688507111\n",
      "Current batch: 1 / 323\n",
      "Epoch [2/20], Train Loss: 1.7815, Val Loss: 1.7511, Val Acc: 42.75%\n",
      "Epoch : 2\n",
      "Current batch: 1 / 2904\n",
      "Current batch: 501 / 2904\n",
      "Current batch: 1001 / 2904\n",
      "Current batch: 1501 / 2904\n",
      "Current batch: 2001 / 2904\n",
      "Current batch: 2501 / 2904\n",
      "Training Loss:  1.6853584853918169\n",
      "Current batch: 1 / 323\n",
      "Epoch [3/20], Train Loss: 1.6854, Val Loss: 1.6932, Val Acc: 44.15%\n",
      "Epoch : 3\n",
      "Current batch: 1 / 2904\n",
      "Current batch: 501 / 2904\n",
      "Current batch: 1001 / 2904\n",
      "Current batch: 1501 / 2904\n",
      "Current batch: 2001 / 2904\n",
      "Current batch: 2501 / 2904\n",
      "Training Loss:  1.6254188446608404\n",
      "Current batch: 1 / 323\n",
      "Epoch [4/20], Train Loss: 1.6254, Val Loss: 1.6566, Val Acc: 45.37%\n",
      "Epoch : 4\n",
      "Current batch: 1 / 2904\n",
      "Current batch: 501 / 2904\n",
      "Current batch: 1001 / 2904\n",
      "Current batch: 1501 / 2904\n",
      "Current batch: 2001 / 2904\n",
      "Current batch: 2501 / 2904\n",
      "Training Loss:  1.5818973188295677\n",
      "Current batch: 1 / 323\n",
      "Epoch [5/20], Train Loss: 1.5819, Val Loss: 1.6415, Val Acc: 45.76%\n",
      "Epoch : 5\n",
      "Current batch: 1 / 2904\n",
      "Current batch: 501 / 2904\n",
      "Current batch: 1001 / 2904\n",
      "Current batch: 1501 / 2904\n",
      "Current batch: 2001 / 2904\n",
      "Current batch: 2501 / 2904\n",
      "Training Loss:  1.5466074706825186\n",
      "Current batch: 1 / 323\n",
      "Epoch [6/20], Train Loss: 1.5466, Val Loss: 1.6378, Val Acc: 46.81%\n",
      "Epoch : 6\n",
      "Current batch: 1 / 2904\n",
      "Current batch: 501 / 2904\n",
      "Current batch: 1001 / 2904\n",
      "Current batch: 1501 / 2904\n",
      "Current batch: 2001 / 2904\n",
      "Current batch: 2501 / 2904\n",
      "Training Loss:  1.5164521019078459\n",
      "Current batch: 1 / 323\n",
      "Epoch [7/20], Train Loss: 1.5165, Val Loss: 1.6036, Val Acc: 47.88%\n",
      "Epoch : 7\n",
      "Current batch: 1 / 2904\n",
      "Current batch: 501 / 2904\n",
      "Current batch: 1001 / 2904\n",
      "Current batch: 1501 / 2904\n",
      "Current batch: 2001 / 2904\n",
      "Current batch: 2501 / 2904\n",
      "Training Loss:  1.4880072376796905\n",
      "Current batch: 1 / 323\n",
      "Epoch [8/20], Train Loss: 1.4880, Val Loss: 1.6027, Val Acc: 47.80%\n",
      "Epoch : 8\n",
      "Current batch: 1 / 2904\n",
      "Current batch: 501 / 2904\n",
      "Current batch: 1001 / 2904\n",
      "Current batch: 1501 / 2904\n",
      "Current batch: 2001 / 2904\n",
      "Current batch: 2501 / 2904\n",
      "Training Loss:  1.4659454649370998\n",
      "Current batch: 1 / 323\n",
      "Epoch [9/20], Train Loss: 1.4659, Val Loss: 1.5910, Val Acc: 48.02%\n",
      "Epoch : 9\n",
      "Current batch: 1 / 2904\n",
      "Current batch: 501 / 2904\n",
      "Current batch: 1001 / 2904\n",
      "Current batch: 1501 / 2904\n",
      "Current batch: 2001 / 2904\n",
      "Current batch: 2501 / 2904\n",
      "Training Loss:  1.445649007680979\n",
      "Current batch: 1 / 323\n",
      "Epoch [10/20], Train Loss: 1.4456, Val Loss: 1.6082, Val Acc: 47.86%\n",
      "Epoch : 10\n",
      "Current batch: 1 / 2904\n",
      "Current batch: 501 / 2904\n",
      "Current batch: 1001 / 2904\n",
      "Current batch: 1501 / 2904\n",
      "Current batch: 2001 / 2904\n",
      "Current batch: 2501 / 2904\n",
      "Training Loss:  1.4246525999643\n",
      "Current batch: 1 / 323\n",
      "Epoch [11/20], Train Loss: 1.4247, Val Loss: 1.6095, Val Acc: 47.95%\n",
      "Epoch : 11\n",
      "Current batch: 1 / 2904\n",
      "Current batch: 501 / 2904\n",
      "Current batch: 1001 / 2904\n",
      "Current batch: 1501 / 2904\n",
      "Current batch: 2001 / 2904\n",
      "Current batch: 2501 / 2904\n",
      "Training Loss:  1.4120529041509116\n",
      "Current batch: 1 / 323\n",
      "Epoch [12/20], Train Loss: 1.4121, Val Loss: 1.6062, Val Acc: 48.10%\n",
      "Epoch : 12\n",
      "Current batch: 1 / 2904\n",
      "Current batch: 501 / 2904\n",
      "Current batch: 1001 / 2904\n",
      "Current batch: 1501 / 2904\n",
      "Current batch: 2001 / 2904\n",
      "Current batch: 2501 / 2904\n",
      "Training Loss:  1.395098286839621\n",
      "Current batch: 1 / 323\n",
      "Epoch [13/20], Train Loss: 1.3951, Val Loss: 1.6147, Val Acc: 48.04%\n",
      "Epoch : 13\n",
      "Current batch: 1 / 2904\n",
      "Current batch: 501 / 2904\n",
      "Current batch: 1001 / 2904\n",
      "Current batch: 1501 / 2904\n",
      "Current batch: 2001 / 2904\n",
      "Current batch: 2501 / 2904\n",
      "Training Loss:  1.3836420191288503\n",
      "Current batch: 1 / 323\n",
      "Epoch [14/20], Train Loss: 1.3836, Val Loss: 1.5976, Val Acc: 48.16%\n",
      "Epoch : 14\n",
      "Current batch: 1 / 2904\n",
      "Current batch: 501 / 2904\n",
      "Current batch: 1001 / 2904\n",
      "Current batch: 1501 / 2904\n",
      "Current batch: 2001 / 2904\n",
      "Current batch: 2501 / 2904\n",
      "Training Loss:  1.3725850963782928\n",
      "Current batch: 1 / 323\n",
      "Epoch [15/20], Train Loss: 1.3726, Val Loss: 1.5948, Val Acc: 48.38%\n",
      "Epoch : 15\n",
      "Current batch: 1 / 2904\n",
      "Current batch: 501 / 2904\n",
      "Current batch: 1001 / 2904\n",
      "Current batch: 1501 / 2904\n",
      "Current batch: 2001 / 2904\n",
      "Current batch: 2501 / 2904\n",
      "Training Loss:  1.358659744674545\n",
      "Current batch: 1 / 323\n",
      "Epoch [16/20], Train Loss: 1.3587, Val Loss: 1.5962, Val Acc: 48.16%\n",
      "Epoch : 16\n",
      "Current batch: 1 / 2904\n",
      "Current batch: 501 / 2904\n",
      "Current batch: 1001 / 2904\n",
      "Current batch: 1501 / 2904\n",
      "Current batch: 2001 / 2904\n",
      "Current batch: 2501 / 2904\n",
      "Training Loss:  1.3485349539043139\n",
      "Current batch: 1 / 323\n",
      "Epoch [17/20], Train Loss: 1.3485, Val Loss: 1.6144, Val Acc: 47.77%\n",
      "Epoch : 17\n",
      "Current batch: 1 / 2904\n",
      "Current batch: 501 / 2904\n",
      "Current batch: 1001 / 2904\n",
      "Current batch: 1501 / 2904\n",
      "Current batch: 2001 / 2904\n",
      "Current batch: 2501 / 2904\n",
      "Training Loss:  1.337377131764695\n",
      "Current batch: 1 / 323\n",
      "Epoch [18/20], Train Loss: 1.3374, Val Loss: 1.6176, Val Acc: 48.21%\n",
      "Epoch : 18\n",
      "Current batch: 1 / 2904\n",
      "Current batch: 501 / 2904\n",
      "Current batch: 1001 / 2904\n",
      "Current batch: 1501 / 2904\n",
      "Current batch: 2001 / 2904\n",
      "Current batch: 2501 / 2904\n",
      "Training Loss:  1.3343438827728338\n",
      "Current batch: 1 / 323\n",
      "Epoch [19/20], Train Loss: 1.3343, Val Loss: 1.6135, Val Acc: 47.98%\n",
      "Epoch : 19\n",
      "Current batch: 1 / 2904\n",
      "Current batch: 501 / 2904\n",
      "Current batch: 1001 / 2904\n",
      "Current batch: 1501 / 2904\n",
      "Current batch: 2001 / 2904\n",
      "Current batch: 2501 / 2904\n",
      "Training Loss:  1.3229677573396668\n",
      "Current batch: 1 / 323\n",
      "Epoch [20/20], Train Loss: 1.3230, Val Loss: 1.6302, Val Acc: 48.18%\n"
     ]
    }
   ],
   "source": [
    "import torch.optim as optim\n",
    "# Training model with glove embeddings\n",
    "learning_rate = 0.001\n",
    "num_epochs = 20\n",
    "hidden_size = 64\n",
    "num_layers = 2\n",
    "num_classes = len(set(label_final))\n",
    "\n",
    "training_loss_list = []\n",
    "validation_loss_list = []\n",
    "validation_accuracy_list = []\n",
    "\n",
    "best_accuracy = 0\n",
    "best_weights = None\n",
    "\n",
    "model = LSTM(glove_model, num_classes, hidden_size=hidden_size, num_layers=num_layers)\n",
    "adam_optimizer = optim.Adam(model.parameters(), lr=learning_rate)\n",
    "loss_fn = nn.CrossEntropyLoss()\n",
    "\n",
    "best_weights=train_model(model, num_epochs, adam_optimizer, training_loss_list, loss_fn, validation_loss_list, validation_accuracy_list, best_accuracy, best_weights)\n",
    "# Saving the best model parameters\n",
    "model.load_state_dict(best_weights)\n",
    "torch.save(model.state_dict(), 'LSTM_with_glove.pth')"
   ],
   "metadata": {
    "collapsed": false,
    "pycharm": {
     "name": "#%%\n"
    }
   }
  },
  {
   "cell_type": "code",
   "execution_count": 30,
   "outputs": [
    {
     "data": {
      "text/plain": "<Figure size 432x288 with 1 Axes>",
      "image/png": "[encoded data removed]"
     },
     "metadata": {
      "needs_background": "light"
     },
     "output_type": "display_data"
    },
    {
     "data": {
      "text/plain": "<Figure size 432x288 with 1 Axes>",
      "image/png": "[encoded data removed]"
     },
     "metadata": {
      "needs_background": "light"
     },
     "output_type": "display_data"
    },
    {
     "data": {
      "text/plain": "<Figure size 432x288 with 0 Axes>"
     },
     "metadata": {},
     "output_type": "display_data"
    }
   ],
   "source": [
    "import matplotlib.pyplot as plt\n",
    "\n",
    "plt.plot(training_loss_list, label=\"training\")\n",
    "plt.plot(validation_loss_list, label=\"validation\")\n",
    "plt.xlabel(\"epochs\")\n",
    "plt.ylabel(\"cross entropy\")\n",
    "plt.legend()\n",
    "plt.show()\n",
    "plt.savefig('Loss.png')\n",
    "\n",
    "plt.plot(validation_accuracy_list, label=\"validation\")\n",
    "plt.xlabel(\"epochs\")\n",
    "plt.ylabel(\"accuracy\")\n",
    "plt.legend()\n",
    "plt.show()\n",
    "plt.savefig('Accuracy.png')"
   ],
   "metadata": {
    "collapsed": false,
    "pycharm": {
     "name": "#%%\n"
    }
   }
  },
  {
   "cell_type": "code",
   "execution_count": 22,
   "outputs": [],
   "source": [
    "from sklearn.metrics import precision_recall_fscore_support\n",
    "# Function to evaluate the model performance on the test set\n",
    "def evaluate(model, loss_fn):\n",
    "    model.eval()\n",
    "    test_loss = 0\n",
    "    correct = 0\n",
    "    total = 0\n",
    "    current_batch = 0\n",
    "    predicted_list = []\n",
    "    labels_list = []\n",
    "    with torch.no_grad():\n",
    "        for inputs, labels, lengths in test_loader:\n",
    "            if current_batch % 500 == 0:\n",
    "                print('Current batch: {} / {}'.format(current_batch+1, len(test_loader)))\n",
    "            current_batch += 1\n",
    "            outputs = model(inputs, lengths)\n",
    "            loss = loss_fn(outputs, labels)\n",
    "            test_loss = test_loss + (loss.item()*inputs.size(0))\n",
    "            _, predicted = outputs.max(1)\n",
    "            total = total + labels.size(0)\n",
    "            correct = correct + predicted.eq(labels).sum().item()\n",
    "            predicted_list.extend(predicted.tolist())\n",
    "            labels_list.extend(labels.tolist())\n",
    "    test_loss = test_loss/len(test_loader.dataset)\n",
    "    test_accuracy = correct/total\n",
    "    precision, recall, f1, _ = precision_recall_fscore_support(labels_list, predicted_list, average='weighted')\n",
    "\n",
    "    print(\"Accuracy: \",test_accuracy)\n",
    "    print(\"Precision: \",precision)\n",
    "    print(\"Recall: \",recall)\n",
    "    print(\"F1: \",f1)"
   ],
   "metadata": {
    "collapsed": false,
    "pycharm": {
     "name": "#%%\n"
    }
   }
  },
  {
   "cell_type": "code",
   "execution_count": 30,
   "outputs": [
    {
     "data": {
      "text/plain": "<All keys matched successfully>"
     },
     "execution_count": 30,
     "metadata": {},
     "output_type": "execute_result"
    }
   ],
   "source": [
    "# Testing model with word2vec embeddings\n",
    "hidden_size = 64\n",
    "num_layers = 2\n",
    "num_classes = len(set(label_final))\n",
    "\n",
    "model = LSTM(w2v_model, num_classes, hidden_size=hidden_size, num_layers=num_layers)\n",
    "\n",
    "loss_fn = nn.CrossEntropyLoss()\n",
    "model.load_state_dict(torch.load('LSTM_with_w2v.pth'))"
   ],
   "metadata": {
    "collapsed": false,
    "pycharm": {
     "name": "#%%\n"
    }
   }
  },
  {
   "cell_type": "code",
   "execution_count": 31,
   "outputs": [
    {
     "name": "stderr",
     "output_type": "stream",
     "text": [
      "<ipython-input-28-d4135abbdb5c>:9: UserWarning: To copy construct from a tensor, it is recommended to use sourceTensor.clone().detach() or sourceTensor.clone().detach().requires_grad_(True), rather than torch.tensor(sourceTensor).\n",
      "  X = [torch.tensor(item[0], dtype=torch.long) for item in batch]\n"
     ]
    },
    {
     "name": "stdout",
     "output_type": "stream",
     "text": [
      "Current batch: 1 / 359\n",
      "Accuracy:  0.4941155958504054\n",
      "Precision:  0.4762441866310503\n",
      "Recall:  0.4941155958504054\n",
      "F1:  0.46608393184709224\n"
     ]
    },
    {
     "name": "stderr",
     "output_type": "stream",
     "text": [
      "/Users/santoshsaranyan/opt/anaconda3/lib/python3.8/site-packages/sklearn/metrics/_classification.py:1318: UndefinedMetricWarning: Precision and F-score are ill-defined and being set to 0.0 in labels with no predicted samples. Use `zero_division` parameter to control this behavior.\n",
      "  _warn_prf(average, modifier, msg_start, len(result))\n"
     ]
    }
   ],
   "source": [
    "evaluate(model, loss_fn)"
   ],
   "metadata": {
    "collapsed": false,
    "pycharm": {
     "name": "#%%\n"
    }
   }
  },
  {
   "cell_type": "code",
   "execution_count": 20,
   "outputs": [
    {
     "data": {
      "text/plain": "<All keys matched successfully>"
     },
     "execution_count": 20,
     "metadata": {},
     "output_type": "execute_result"
    }
   ],
   "source": [
    "# Testing model with glove embeddings\n",
    "hidden_size = 64\n",
    "num_layers = 2\n",
    "num_classes = len(set(label_final))\n",
    "\n",
    "model = LSTM(glove_model, num_classes, hidden_size=hidden_size, num_layers=num_layers)\n",
    "\n",
    "loss_fn = nn.CrossEntropyLoss()\n",
    "model.load_state_dict(torch.load('LSTM_with_glove.pth'))"
   ],
   "metadata": {
    "collapsed": false,
    "pycharm": {
     "name": "#%%\n"
    }
   }
  },
  {
   "cell_type": "code",
   "execution_count": 23,
   "outputs": [
    {
     "name": "stderr",
     "output_type": "stream",
     "text": [
      "<ipython-input-14-d4135abbdb5c>:9: UserWarning: To copy construct from a tensor, it is recommended to use sourceTensor.clone().detach() or sourceTensor.clone().detach().requires_grad_(True), rather than torch.tensor(sourceTensor).\n",
      "  X = [torch.tensor(item[0], dtype=torch.long) for item in batch]\n"
     ]
    },
    {
     "name": "stdout",
     "output_type": "stream",
     "text": [
      "Current batch: 1 / 359\n",
      "Accuracy:  0.4874030163019789\n",
      "Precision:  0.46455537962520504\n",
      "Recall:  0.4874030163019789\n",
      "F1:  0.4566966478008274\n"
     ]
    },
    {
     "name": "stderr",
     "output_type": "stream",
     "text": [
      "/Users/santoshsaranyan/opt/anaconda3/lib/python3.8/site-packages/sklearn/metrics/_classification.py:1318: UndefinedMetricWarning: Precision and F-score are ill-defined and being set to 0.0 in labels with no predicted samples. Use `zero_division` parameter to control this behavior.\n",
      "  _warn_prf(average, modifier, msg_start, len(result))\n"
     ]
    }
   ],
   "source": [
    "evaluate(model, loss_fn)"
   ],
   "metadata": {
    "collapsed": false,
    "pycharm": {
     "name": "#%%\n"
    }
   }
  }
 ]
}