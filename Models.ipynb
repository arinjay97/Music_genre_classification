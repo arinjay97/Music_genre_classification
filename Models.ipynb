{
 "cells": [
  {
   "cell_type": "code",
   "execution_count": 1,
   "metadata": {
    "collapsed": true,
    "ExecuteTime": {
     "start_time": "2023-04-14T20:54:14.645244Z",
     "end_time": "2023-04-14T20:54:16.764086Z"
    }
   },
   "outputs": [],
   "source": [
    "import numpy as np\n",
    "import pandas as pd\n",
    "from gensim.models import KeyedVectors\n",
    "from sklearn.naive_bayes import GaussianNB\n",
    "from sklearn.linear_model import LogisticRegression\n",
    "from sklearn.model_selection import train_test_split\n",
    "from sklearn.metrics import accuracy_score\n",
    "import torch.nn as nn\n",
    "import torch\n",
    "import torch.optim as optim\n",
    "import matplotlib.pyplot as plt"
   ]
  },
  {
   "cell_type": "markdown",
   "source": [
    "# Loading Word2Vec and GLoVe embeddings trained on our corpus"
   ],
   "metadata": {
    "collapsed": false
   }
  },
  {
   "cell_type": "code",
   "execution_count": 2,
   "outputs": [],
   "source": [
    "w2v_model = KeyedVectors.load_word2vec_format(\"w2v_embeddings.txt\", binary=False)\n",
    "w2v_word_to_embeddings = {word: w2v_model[word] for word in w2v_model.vocab}"
   ],
   "metadata": {
    "collapsed": false,
    "ExecuteTime": {
     "start_time": "2023-04-14T20:54:16.765550Z",
     "end_time": "2023-04-14T20:54:31.451127Z"
    }
   }
  },
  {
   "cell_type": "code",
   "execution_count": 3,
   "outputs": [],
   "source": [
    "glove_model = KeyedVectors.load_word2vec_format(\"glove_embeddings.txt\", binary=False)\n",
    "glove_word_to_embeddings = {word: glove_model[word] for word in glove_model.vocab}"
   ],
   "metadata": {
    "collapsed": false,
    "ExecuteTime": {
     "start_time": "2023-04-14T20:54:31.451804Z",
     "end_time": "2023-04-14T20:54:46.987770Z"
    }
   }
  },
  {
   "cell_type": "code",
   "execution_count": 4,
   "outputs": [],
   "source": [
    "dataset = pd.read_csv(\"Processed_Lyric_Dataset.csv\")"
   ],
   "metadata": {
    "collapsed": false,
    "ExecuteTime": {
     "start_time": "2023-04-14T20:54:46.989178Z",
     "end_time": "2023-04-14T20:54:52.287781Z"
    }
   }
  },
  {
   "cell_type": "code",
   "execution_count": 5,
   "outputs": [
    {
     "data": {
      "text/plain": "                                               SName Genre  \\\n0                                   Careless Whisper   pop   \n1  Could You Be Loved / Citação Musical do Rap: S...   pop   \n2                             Cruisin' (Part. Saulo)   pop   \n3                                               Easy   pop   \n4                  For Your Babies (The Voice cover)   pop   \n\n                                          LyricsList  \n0  [[feel, unsure], [take, hand, lead, dance, flo...  \n1  [[let, fool, ya], [even, try, school, ya, oh],...  \n2  [[baby, let, cruise, away], [confuse, way, cle...  \n3  [[know, sound, funny], [cant, stand, pain], [g...  \n4  [[get, look], [one, hop, lad], [face, beam], [...  ",
      "text/html": "<div>\n<style scoped>\n    .dataframe tbody tr th:only-of-type {\n        vertical-align: middle;\n    }\n\n    .dataframe tbody tr th {\n        vertical-align: top;\n    }\n\n    .dataframe thead th {\n        text-align: right;\n    }\n</style>\n<table border=\"1\" class=\"dataframe\">\n  <thead>\n    <tr style=\"text-align: right;\">\n      <th></th>\n      <th>SName</th>\n      <th>Genre</th>\n      <th>LyricsList</th>\n    </tr>\n  </thead>\n  <tbody>\n    <tr>\n      <th>0</th>\n      <td>Careless Whisper</td>\n      <td>pop</td>\n      <td>[[feel, unsure], [take, hand, lead, dance, flo...</td>\n    </tr>\n    <tr>\n      <th>1</th>\n      <td>Could You Be Loved / Citação Musical do Rap: S...</td>\n      <td>pop</td>\n      <td>[[let, fool, ya], [even, try, school, ya, oh],...</td>\n    </tr>\n    <tr>\n      <th>2</th>\n      <td>Cruisin' (Part. Saulo)</td>\n      <td>pop</td>\n      <td>[[baby, let, cruise, away], [confuse, way, cle...</td>\n    </tr>\n    <tr>\n      <th>3</th>\n      <td>Easy</td>\n      <td>pop</td>\n      <td>[[know, sound, funny], [cant, stand, pain], [g...</td>\n    </tr>\n    <tr>\n      <th>4</th>\n      <td>For Your Babies (The Voice cover)</td>\n      <td>pop</td>\n      <td>[[get, look], [one, hop, lad], [face, beam], [...</td>\n    </tr>\n  </tbody>\n</table>\n</div>"
     },
     "execution_count": 5,
     "metadata": {},
     "output_type": "execute_result"
    }
   ],
   "source": [
    "dataset = dataset.drop(columns=[\"Unnamed: 0\", \"LyricsList\"], axis=1)\n",
    "dataset[\"LyricsList\"] = dataset.apply(lambda x: eval(x['LyricProcessed']), axis=1)\n",
    "dataset = dataset.drop(columns=[\"Artist\", \"Lyric\", \"LyricProcessed\"])\n",
    "dataset.head(5)"
   ],
   "metadata": {
    "collapsed": false,
    "ExecuteTime": {
     "start_time": "2023-04-14T20:54:52.291363Z",
     "end_time": "2023-04-14T20:55:16.846045Z"
    }
   }
  },
  {
   "cell_type": "code",
   "execution_count": 6,
   "outputs": [
    {
     "data": {
      "text/plain": "rock           29916\nmetal          19420\npop            12812\nhip-hop        10333\nindie           6020\nelectronic      5866\nrap             4535\nrnb             4271\nsoul            3739\npunk            3440\ncountry         3135\njazz            2969\nfolk            2724\nalternative     1994\nblues           1838\nreggae          1697\nName: Genre, dtype: int64"
     },
     "execution_count": 6,
     "metadata": {},
     "output_type": "execute_result"
    }
   ],
   "source": [
    "dataset[\"Genre\"].value_counts()"
   ],
   "metadata": {
    "collapsed": false,
    "ExecuteTime": {
     "start_time": "2023-04-14T20:55:16.854098Z",
     "end_time": "2023-04-14T20:55:16.858331Z"
    }
   }
  },
  {
   "cell_type": "code",
   "execution_count": 7,
   "outputs": [],
   "source": [
    "genres = dataset[\"Genre\"].unique()\n",
    "genre_map = {g: i for i, g in enumerate(genres)}"
   ],
   "metadata": {
    "collapsed": false,
    "ExecuteTime": {
     "start_time": "2023-04-14T20:55:16.862292Z",
     "end_time": "2023-04-14T20:55:16.868793Z"
    }
   }
  },
  {
   "cell_type": "markdown",
   "source": [
    "# Featurizing every song by adding vectors of every word in lyrics and dividing it by the length of the song"
   ],
   "metadata": {
    "collapsed": false
   }
  },
  {
   "cell_type": "code",
   "execution_count": 8,
   "outputs": [],
   "source": [
    "w2v_training_data = []\n",
    "glove_training_data = []\n",
    "training_labels = []\n",
    "\n",
    "for _, row in dataset.iterrows():\n",
    "    label = row[\"Genre\"]\n",
    "    lyrics = row[\"LyricsList\"]\n",
    "    w2v_feature_vector = np.zeros((200,))\n",
    "    glove_feature_vector = np.zeros((100,))\n",
    "    song_length = 0\n",
    "    for line in lyrics:\n",
    "        song_length += len(line)\n",
    "        for word in line:\n",
    "            if word in w2v_word_to_embeddings:\n",
    "                w2v_feature_vector += w2v_word_to_embeddings[word]\n",
    "            if word in glove_word_to_embeddings:\n",
    "                glove_feature_vector += glove_word_to_embeddings[word]\n",
    "    if song_length == 0:\n",
    "        w2v_training_data.append(w2v_feature_vector)\n",
    "        glove_training_data.append(glove_feature_vector)\n",
    "    else:\n",
    "        w2v_training_data.append(w2v_feature_vector/song_length)\n",
    "        glove_training_data.append(glove_feature_vector/song_length)\n",
    "    training_labels.append(genre_map[label])"
   ],
   "metadata": {
    "collapsed": false,
    "ExecuteTime": {
     "start_time": "2023-04-14T20:55:16.868731Z",
     "end_time": "2023-04-14T20:56:04.835199Z"
    }
   }
  },
  {
   "cell_type": "code",
   "execution_count": 9,
   "outputs": [],
   "source": [
    "word2vec_X_train, word2vec_X_test, word2vec_y_train, word2vec_y_test = train_test_split(w2v_training_data, training_labels, test_size=0.2, random_state=42)"
   ],
   "metadata": {
    "collapsed": false,
    "ExecuteTime": {
     "start_time": "2023-04-14T20:56:04.837744Z",
     "end_time": "2023-04-14T20:56:04.879636Z"
    }
   }
  },
  {
   "cell_type": "code",
   "execution_count": 10,
   "outputs": [],
   "source": [
    "glove_X_train, glove_X_test, glove_y_train, glove_y_test = train_test_split(glove_training_data, training_labels, test_size=0.2, random_state=42)"
   ],
   "metadata": {
    "collapsed": false,
    "ExecuteTime": {
     "start_time": "2023-04-14T20:56:04.881669Z",
     "end_time": "2023-04-14T20:56:04.927161Z"
    }
   }
  },
  {
   "cell_type": "markdown",
   "source": [
    "# Baseline Gaussian Naive Bayes classifier"
   ],
   "metadata": {
    "collapsed": false
   }
  },
  {
   "cell_type": "markdown",
   "source": [
    "### Word2Vec Embeddings used for training"
   ],
   "metadata": {
    "collapsed": false
   }
  },
  {
   "cell_type": "code",
   "execution_count": 11,
   "outputs": [
    {
     "data": {
      "text/plain": "GaussianNB()"
     },
     "execution_count": 11,
     "metadata": {},
     "output_type": "execute_result"
    }
   ],
   "source": [
    "word2vec_gaussian_nb = GaussianNB()\n",
    "\n",
    "word2vec_gaussian_nb.fit(word2vec_X_train, word2vec_y_train)"
   ],
   "metadata": {
    "collapsed": false,
    "ExecuteTime": {
     "start_time": "2023-04-14T20:56:04.933784Z",
     "end_time": "2023-04-14T20:56:05.340682Z"
    }
   }
  },
  {
   "cell_type": "code",
   "execution_count": 12,
   "outputs": [
    {
     "name": "stdout",
     "output_type": "stream",
     "text": [
      "Accuracy of the Gaussian Naive Bayes Classifier with Word2Vec embeddings is: 0.26440589312178536\n"
     ]
    }
   ],
   "source": [
    "word2vec_gaussian_y_pred = word2vec_gaussian_nb.predict(word2vec_X_test)\n",
    "\n",
    "word2vec_gaussian_accuracy = accuracy_score(word2vec_y_test, word2vec_gaussian_y_pred)\n",
    "\n",
    "print(\"Accuracy of the Gaussian Naive Bayes Classifier with Word2Vec embeddings is:\", word2vec_gaussian_accuracy)"
   ],
   "metadata": {
    "collapsed": false,
    "ExecuteTime": {
     "start_time": "2023-04-14T20:56:05.344617Z",
     "end_time": "2023-04-14T20:56:05.511021Z"
    }
   }
  },
  {
   "cell_type": "markdown",
   "source": [
    "### GLoVe Embeddings used for Training"
   ],
   "metadata": {
    "collapsed": false
   }
  },
  {
   "cell_type": "code",
   "execution_count": 13,
   "outputs": [
    {
     "data": {
      "text/plain": "GaussianNB()"
     },
     "execution_count": 13,
     "metadata": {},
     "output_type": "execute_result"
    }
   ],
   "source": [
    "glove_gaussian_nb = GaussianNB()\n",
    "\n",
    "glove_gaussian_nb.fit(glove_X_train, glove_y_train)"
   ],
   "metadata": {
    "collapsed": false,
    "ExecuteTime": {
     "start_time": "2023-04-14T20:56:05.517322Z",
     "end_time": "2023-04-14T20:56:05.733951Z"
    }
   }
  },
  {
   "cell_type": "code",
   "execution_count": 14,
   "outputs": [
    {
     "name": "stdout",
     "output_type": "stream",
     "text": [
      "Accuracy of the Gaussian Naive Bayes Classifier with GLoVe embeddings is: 0.1391334670037486\n"
     ]
    }
   ],
   "source": [
    "glove_y_pred = glove_gaussian_nb.predict(glove_X_test)\n",
    "\n",
    "glove_gaussian_accuracy = accuracy_score(glove_y_test, glove_y_pred)\n",
    "\n",
    "print(\"Accuracy of the Gaussian Naive Bayes Classifier with GLoVe embeddings is:\", glove_gaussian_accuracy)"
   ],
   "metadata": {
    "collapsed": false,
    "ExecuteTime": {
     "start_time": "2023-04-14T20:56:05.736338Z",
     "end_time": "2023-04-14T20:56:05.827666Z"
    }
   }
  },
  {
   "cell_type": "markdown",
   "source": [
    "# Logistic Regression Models as classifiers"
   ],
   "metadata": {
    "collapsed": false
   }
  },
  {
   "cell_type": "code",
   "execution_count": 15,
   "outputs": [],
   "source": [
    "def logistic_regression_accuracy(embeddings, penalty='no', C=1.0):\n",
    "\n",
    "    if embeddings == 'word2vec':\n",
    "        word_embeddings = w2v_training_data\n",
    "    elif embeddings == \"glove\":\n",
    "        word_embeddings = glove_training_data\n",
    "\n",
    "    X_train, X_test, y_train, y_test = train_test_split(word_embeddings, training_labels, test_size=0.2, random_state=42)\n",
    "\n",
    "    if penalty == 'no':\n",
    "        logistic_classifier = LogisticRegression(multi_class='multinomial', max_iter=1000)\n",
    "    elif penalty == 'l1':\n",
    "        logistic_classifier = LogisticRegression(multi_class='multinomial', max_iter=1000, penalty='l1', C=C, solver='saga')\n",
    "    elif penalty == 'l2':\n",
    "        logistic_classifier = LogisticRegression(multi_class='multinomial', max_iter=1000, penalty='l2', C=C)\n",
    "    else:\n",
    "        raise ValueError('Invalid penalty type')\n",
    "\n",
    "    logistic_classifier.fit(X_train, y_train)\n",
    "\n",
    "    y_pred = logistic_classifier.predict(X_test)\n",
    "\n",
    "    accuracy = accuracy_score(y_test, y_pred)\n",
    "\n",
    "    print(\"Accuracy for model with\", penalty, \"regularization and\", embeddings, \"word embeddings is\", accuracy)\n",
    "\n",
    "    return accuracy"
   ],
   "metadata": {
    "collapsed": false,
    "ExecuteTime": {
     "start_time": "2023-04-14T20:56:05.840307Z",
     "end_time": "2023-04-14T20:56:05.842022Z"
    }
   }
  },
  {
   "cell_type": "code",
   "execution_count": 16,
   "outputs": [
    {
     "name": "stdout",
     "output_type": "stream",
     "text": [
      "Word2Vec Embeddings\n",
      "Accuracy for model with no regularization and word2vec word embeddings is 0.4301281492459245\n",
      "Accuracy for model with l1 regularization and word2vec word embeddings is 0.4307383837503269\n",
      "Accuracy for model with l2 regularization and word2vec word embeddings is 0.4301281492459245\n"
     ]
    }
   ],
   "source": [
    "print(\"Word2Vec Embeddings\")\n",
    "word2vec_accuracy = logistic_regression_accuracy(\"word2vec\")\n",
    "word2vec_l1_accuracy = logistic_regression_accuracy(\"word2vec\", penalty='l1', C=1.0)\n",
    "word2vec_l2_accuracy = logistic_regression_accuracy(\"word2vec\", penalty='l2', C=1.0)"
   ],
   "metadata": {
    "collapsed": false,
    "ExecuteTime": {
     "start_time": "2023-04-14T20:56:05.844033Z",
     "end_time": "2023-04-14T21:02:34.815465Z"
    }
   }
  },
  {
   "cell_type": "code",
   "execution_count": 17,
   "outputs": [
    {
     "name": "stdout",
     "output_type": "stream",
     "text": [
      "GLoVe Embeddings\n",
      "Accuracy for model with no regularization and glove word embeddings is 0.32704210618080376\n",
      "Accuracy for model with l1 regularization and glove word embeddings is 0.32712928253857554\n",
      "Accuracy for model with l2 regularization and glove word embeddings is 0.32704210618080376\n"
     ]
    }
   ],
   "source": [
    "print(\"GLoVe Embeddings\")\n",
    "glove_accuracy = logistic_regression_accuracy(\"glove\")\n",
    "glove_l1_accuracy = logistic_regression_accuracy(\"glove\", penalty='l1', C=1.0)\n",
    "glove_l2_accuracy = logistic_regression_accuracy(\"glove\", penalty='l2', C=1.0)"
   ],
   "metadata": {
    "collapsed": false,
    "ExecuteTime": {
     "start_time": "2023-04-14T21:02:34.818068Z",
     "end_time": "2023-04-14T21:06:12.773927Z"
    }
   }
  },
  {
   "cell_type": "code",
   "execution_count": 18,
   "outputs": [],
   "source": [
    "class LogReg(nn.Module):\n",
    "    def __init__(self, embeddings = 'word2vec'):\n",
    "        super().__init__()\n",
    "        input_size = 200\n",
    "        if embeddings != 'word2vec':\n",
    "            input_size = 100\n",
    "        self.layer = nn.Linear(input_size, 16)\n",
    "\n",
    "    def forward(self, x):\n",
    "        x = self.layer(x)\n",
    "        return x"
   ],
   "metadata": {
    "collapsed": false,
    "ExecuteTime": {
     "start_time": "2023-04-14T21:06:12.775513Z",
     "end_time": "2023-04-14T21:06:12.778051Z"
    }
   }
  },
  {
   "cell_type": "code",
   "execution_count": 19,
   "outputs": [],
   "source": [
    "def train(model, embeddings, epochs, penalty = 'no', C=1.0, lr = 0.01, verbose=False):\n",
    "    loss_func = nn.CrossEntropyLoss()\n",
    "    if embeddings == 'word2vec':\n",
    "        word_embeddings = w2v_training_data\n",
    "    elif embeddings == \"glove\":\n",
    "        word_embeddings = glove_training_data\n",
    "\n",
    "    X_train, X_test, y_train, y_test = train_test_split(word_embeddings, training_labels, test_size=0.2, random_state=42)\n",
    "\n",
    "    X_train = torch.tensor(X_train, dtype=torch.float)\n",
    "    X_test = torch.tensor(X_test, dtype=torch.float)\n",
    "    y_train = torch.tensor(y_train)\n",
    "    y_test = torch.tensor(y_test)\n",
    "\n",
    "    if penalty == 'no':\n",
    "        optimizer = optim.SGD(model.parameters(), lr=lr)\n",
    "    elif penalty == 'l1':\n",
    "        optimizer = optim.SGD(model.parameters(), lr=lr, weight_decay=C, momentum=0.9)\n",
    "    elif penalty == 'l2':\n",
    "        optimizer = optim.Adam(model.parameters(), lr=lr, weight_decay=C)\n",
    "    else:\n",
    "        raise ValueError('Invalid penalty type')\n",
    "\n",
    "    train_losses = []\n",
    "    val_losses = []\n",
    "    best_accuracy = 0.0\n",
    "    for epoch in range(epochs):\n",
    "        # Training\n",
    "        model.train()\n",
    "        optimizer.zero_grad()\n",
    "        outputs = model(X_train)\n",
    "        loss = loss_func(outputs, y_train)\n",
    "        loss.backward()\n",
    "        optimizer.step()\n",
    "        train_losses.append(loss.item())\n",
    "\n",
    "        # Validation\n",
    "        model.eval()\n",
    "        with torch.no_grad():\n",
    "            outputs = model(X_test)\n",
    "            loss = loss_func(outputs, y_test)\n",
    "            val_losses.append(loss.item())\n",
    "\n",
    "        # Calculate accuracy\n",
    "            _, predicted = torch.max(outputs.data, 1)\n",
    "            accuracy = (predicted == y_test).sum().item() / len(y_test)\n",
    "            if accuracy > best_accuracy:\n",
    "                best_accuracy = accuracy\n",
    "\n",
    "        if verbose:\n",
    "            if int(epochs//3) == 33:\n",
    "                print(\"33% training done.\")\n",
    "            elif int(epochs//6) == 66:\n",
    "                print(\"66% training done.\")\n",
    "\n",
    "    return train_losses, val_losses, best_accuracy"
   ],
   "metadata": {
    "collapsed": false,
    "ExecuteTime": {
     "start_time": "2023-04-14T21:06:12.786218Z",
     "end_time": "2023-04-14T21:06:12.787865Z"
    }
   }
  },
  {
   "cell_type": "code",
   "execution_count": 20,
   "outputs": [],
   "source": [
    "def visualize_validation_training_loss(training_loss, validation_loss):\n",
    "    plt.plot(training_loss, label='Training Loss')\n",
    "    plt.plot(validation_loss, label='Validation Loss')\n",
    "    plt.xlabel('Epoch')\n",
    "    plt.ylabel('Loss')\n",
    "    plt.legend()\n",
    "    plt.show()"
   ],
   "metadata": {
    "collapsed": false,
    "ExecuteTime": {
     "start_time": "2023-04-14T21:06:12.789761Z",
     "end_time": "2023-04-14T21:06:12.795771Z"
    }
   }
  },
  {
   "cell_type": "code",
   "execution_count": 21,
   "outputs": [
    {
     "data": {
      "text/plain": "<Figure size 432x288 with 1 Axes>",
      "image/png": "[encoded data removed]"
     },
     "metadata": {
      "needs_background": "light"
     },
     "output_type": "display_data"
    },
    {
     "data": {
      "text/plain": "0.2604829570220556"
     },
     "execution_count": 21,
     "metadata": {},
     "output_type": "execute_result"
    }
   ],
   "source": [
    "w2v_logistic = LogReg()\n",
    "w2v_training_loss, w2v_testing_loss, best_accuracy = train(w2v_logistic, 'word2vec', 1000)\n",
    "visualize_validation_training_loss(w2v_training_loss, w2v_testing_loss)\n",
    "best_accuracy"
   ],
   "metadata": {
    "collapsed": false,
    "ExecuteTime": {
     "start_time": "2023-04-14T21:06:12.793675Z",
     "end_time": "2023-04-14T21:07:02.492780Z"
    }
   }
  },
  {
   "cell_type": "code",
   "execution_count": 22,
   "outputs": [
    {
     "data": {
      "text/plain": "<Figure size 432x288 with 1 Axes>",
      "image/png": "[encoded data removed]"
     },
     "metadata": {
      "needs_background": "light"
     },
     "output_type": "display_data"
    },
    {
     "data": {
      "text/plain": "0.2620957196408334"
     },
     "execution_count": 22,
     "metadata": {},
     "output_type": "execute_result"
    }
   ],
   "source": [
    "w2v_logistic = LogReg()\n",
    "w2v_training_loss, w2v_testing_loss, best_accuracy = train(w2v_logistic, 'word2vec', 1000, penalty='l1')\n",
    "visualize_validation_training_loss(w2v_training_loss, w2v_testing_loss)\n",
    "best_accuracy"
   ],
   "metadata": {
    "collapsed": false,
    "ExecuteTime": {
     "start_time": "2023-04-14T21:07:02.491711Z",
     "end_time": "2023-04-14T21:07:52.516208Z"
    }
   }
  },
  {
   "cell_type": "code",
   "execution_count": 23,
   "outputs": [
    {
     "data": {
      "text/plain": "<Figure size 432x288 with 1 Axes>",
      "image/png": "[encoded data removed]"
     },
     "metadata": {
      "needs_background": "light"
     },
     "output_type": "display_data"
    },
    {
     "data": {
      "text/plain": "0.2577804899311307"
     },
     "execution_count": 23,
     "metadata": {},
     "output_type": "execute_result"
    }
   ],
   "source": [
    "w2v_logistic = LogReg()\n",
    "w2v_training_loss, w2v_testing_loss, best_accuracy = train(w2v_logistic, 'word2vec', 1000, penalty='l2')\n",
    "visualize_validation_training_loss(w2v_training_loss, w2v_testing_loss)\n",
    "best_accuracy"
   ],
   "metadata": {
    "collapsed": false,
    "ExecuteTime": {
     "start_time": "2023-04-14T21:07:52.517903Z",
     "end_time": "2023-04-14T21:08:41.035587Z"
    }
   }
  },
  {
   "cell_type": "code",
   "execution_count": 24,
   "outputs": [
    {
     "data": {
      "text/plain": "<Figure size 432x288 with 1 Axes>",
      "image/png": "[encoded data removed]"
     },
     "metadata": {
      "needs_background": "light"
     },
     "output_type": "display_data"
    },
    {
     "data": {
      "text/plain": "0.2583471362566472"
     },
     "execution_count": 24,
     "metadata": {},
     "output_type": "execute_result"
    }
   ],
   "source": [
    "glove_logistic = LogReg(embeddings='glove')\n",
    "glove_training_loss, glove_testing_loss, best_accuracy = train(glove_logistic, 'glove', 1000)\n",
    "visualize_validation_training_loss(glove_training_loss, glove_testing_loss)\n",
    "best_accuracy"
   ],
   "metadata": {
    "collapsed": false,
    "ExecuteTime": {
     "start_time": "2023-04-14T21:08:41.037453Z",
     "end_time": "2023-04-14T21:09:25.127219Z"
    }
   }
  },
  {
   "cell_type": "code",
   "execution_count": 25,
   "outputs": [
    {
     "data": {
      "text/plain": "<Figure size 432x288 with 1 Axes>",
      "image/png": "[encoded data removed]"
     },
     "metadata": {
      "needs_background": "light"
     },
     "output_type": "display_data"
    },
    {
     "data": {
      "text/plain": "0.25782407811001656"
     },
     "execution_count": 25,
     "metadata": {},
     "output_type": "execute_result"
    }
   ],
   "source": [
    "glove_logistic = LogReg(embeddings='glove')\n",
    "glove_training_loss, glove_testing_loss, best_accuracy = train(glove_logistic, 'glove', 1000, penalty='l1')\n",
    "visualize_validation_training_loss(glove_training_loss, glove_testing_loss)\n",
    "best_accuracy"
   ],
   "metadata": {
    "collapsed": false,
    "ExecuteTime": {
     "start_time": "2023-04-14T21:09:25.129604Z",
     "end_time": "2023-04-14T21:10:09.535768Z"
    }
   }
  },
  {
   "cell_type": "code",
   "execution_count": 26,
   "outputs": [
    {
     "data": {
      "text/plain": "<Figure size 432x288 with 1 Axes>",
      "image/png": "[encoded data removed]"
     },
     "metadata": {
      "needs_background": "light"
     },
     "output_type": "display_data"
    },
    {
     "data": {
      "text/plain": "0.2598727225176532"
     },
     "execution_count": 26,
     "metadata": {},
     "output_type": "execute_result"
    }
   ],
   "source": [
    "glove_logistic = LogReg(embeddings='glove')\n",
    "glove_training_loss, glove_testing_loss, best_accuracy = train(glove_logistic, 'glove', 1000, penalty='l2')\n",
    "visualize_validation_training_loss(glove_training_loss, glove_testing_loss)\n",
    "best_accuracy"
   ],
   "metadata": {
    "collapsed": false,
    "ExecuteTime": {
     "start_time": "2023-04-14T21:10:09.537668Z",
     "end_time": "2023-04-14T21:10:53.719729Z"
    }
   }
  }
 ],
 "metadata": {
  "kernelspec": {
   "name": "python3613jvsc74a57bd08d232f2b15de367dc78a22b0b211aac5c96cbb4ea76364c0e9451d1f26b7452d",
   "language": "python",
   "display_name": "Python 3.6.13 64-bit ('NLP': conda)"
  },
  "language_info": {
   "codemirror_mode": {
    "name": "ipython",
    "version": 2
   },
   "file_extension": ".py",
   "mimetype": "text/x-python",
   "name": "python",
   "nbconvert_exporter": "python",
   "pygments_lexer": "ipython2",
   "version": "2.7.6"
  }
 },
 "nbformat": 4,
 "nbformat_minor": 0
}
