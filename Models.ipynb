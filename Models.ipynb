{
 "cells": [
  {
   "cell_type": "code",
   "execution_count": 1,
   "metadata": {
    "collapsed": true,
    "ExecuteTime": {
     "start_time": "2023-04-13T19:20:56.099844Z",
     "end_time": "2023-04-13T19:20:57.761470Z"
    }
   },
   "outputs": [],
   "source": [
    "import numpy as np\n",
    "import pandas as pd\n",
    "from gensim.models import KeyedVectors\n",
    "from sklearn.naive_bayes import GaussianNB\n",
    "from sklearn.linear_model import LogisticRegression\n",
    "from sklearn.model_selection import train_test_split\n",
    "from sklearn.metrics import accuracy_score"
   ]
  },
  {
   "cell_type": "markdown",
   "source": [
    "# Loading Word2Vec and GLoVe embeddings trained on our corpus"
   ],
   "metadata": {
    "collapsed": false
   }
  },
  {
   "cell_type": "code",
   "execution_count": 2,
   "outputs": [],
   "source": [
    "w2v_model = KeyedVectors.load_word2vec_format(\"w2v_embeddings.txt\", binary=False)\n",
    "w2v_word_to_embeddings = {word: w2v_model[word] for word in w2v_model.vocab}"
   ],
   "metadata": {
    "collapsed": false,
    "ExecuteTime": {
     "start_time": "2023-04-13T19:20:57.763043Z",
     "end_time": "2023-04-13T19:21:12.047114Z"
    }
   }
  },
  {
   "cell_type": "code",
   "execution_count": 3,
   "outputs": [],
   "source": [
    "glove_model = KeyedVectors.load_word2vec_format(\"glove_embeddings.txt\", binary=False)\n",
    "glove_word_to_embeddings = {word: glove_model[word] for word in glove_model.vocab}"
   ],
   "metadata": {
    "collapsed": false,
    "ExecuteTime": {
     "start_time": "2023-04-13T19:21:12.048962Z",
     "end_time": "2023-04-13T19:21:27.250319Z"
    }
   }
  },
  {
   "cell_type": "code",
   "execution_count": 4,
   "outputs": [],
   "source": [
    "dataset = pd.read_csv(\"Processed_Lyric_Dataset.csv\")"
   ],
   "metadata": {
    "collapsed": false,
    "ExecuteTime": {
     "start_time": "2023-04-13T19:21:27.251449Z",
     "end_time": "2023-04-13T19:21:31.649646Z"
    }
   }
  },
  {
   "cell_type": "code",
   "execution_count": 5,
   "outputs": [
    {
     "data": {
      "text/plain": "                                               SName Genre  \\\n0                                   Careless Whisper   pop   \n1  Could You Be Loved / Citação Musical do Rap: S...   pop   \n2                             Cruisin' (Part. Saulo)   pop   \n3                                               Easy   pop   \n4                  For Your Babies (The Voice cover)   pop   \n\n                                          LyricsList  \n0  [[feel, unsure], [take, hand, lead, dance, flo...  \n1  [[let, fool, ya], [even, try, school, ya, oh],...  \n2  [[baby, let, cruise, away], [confuse, way, cle...  \n3  [[know, sound, funny], [cant, stand, pain], [g...  \n4  [[get, look], [one, hop, lad], [face, beam], [...  ",
      "text/html": "<div>\n<style scoped>\n    .dataframe tbody tr th:only-of-type {\n        vertical-align: middle;\n    }\n\n    .dataframe tbody tr th {\n        vertical-align: top;\n    }\n\n    .dataframe thead th {\n        text-align: right;\n    }\n</style>\n<table border=\"1\" class=\"dataframe\">\n  <thead>\n    <tr style=\"text-align: right;\">\n      <th></th>\n      <th>SName</th>\n      <th>Genre</th>\n      <th>LyricsList</th>\n    </tr>\n  </thead>\n  <tbody>\n    <tr>\n      <th>0</th>\n      <td>Careless Whisper</td>\n      <td>pop</td>\n      <td>[[feel, unsure], [take, hand, lead, dance, flo...</td>\n    </tr>\n    <tr>\n      <th>1</th>\n      <td>Could You Be Loved / Citação Musical do Rap: S...</td>\n      <td>pop</td>\n      <td>[[let, fool, ya], [even, try, school, ya, oh],...</td>\n    </tr>\n    <tr>\n      <th>2</th>\n      <td>Cruisin' (Part. Saulo)</td>\n      <td>pop</td>\n      <td>[[baby, let, cruise, away], [confuse, way, cle...</td>\n    </tr>\n    <tr>\n      <th>3</th>\n      <td>Easy</td>\n      <td>pop</td>\n      <td>[[know, sound, funny], [cant, stand, pain], [g...</td>\n    </tr>\n    <tr>\n      <th>4</th>\n      <td>For Your Babies (The Voice cover)</td>\n      <td>pop</td>\n      <td>[[get, look], [one, hop, lad], [face, beam], [...</td>\n    </tr>\n  </tbody>\n</table>\n</div>"
     },
     "execution_count": 5,
     "metadata": {},
     "output_type": "execute_result"
    }
   ],
   "source": [
    "dataset = dataset.drop(columns=[\"Unnamed: 0\", \"LyricsList\"], axis=1)\n",
    "dataset[\"LyricsList\"] = dataset.apply(lambda x: eval(x['LyricProcessed']), axis=1)\n",
    "dataset = dataset.drop(columns=[\"Artist\", \"Lyric\", \"LyricProcessed\"])\n",
    "dataset.head(5)"
   ],
   "metadata": {
    "collapsed": false,
    "ExecuteTime": {
     "start_time": "2023-04-13T19:21:31.658610Z",
     "end_time": "2023-04-13T19:21:56.018338Z"
    }
   }
  },
  {
   "cell_type": "code",
   "execution_count": 6,
   "outputs": [
    {
     "data": {
      "text/plain": "rock           29916\nmetal          19420\npop            12812\nhip-hop        10333\nindie           6020\nelectronic      5866\nrap             4535\nrnb             4271\nsoul            3739\npunk            3440\ncountry         3135\njazz            2969\nfolk            2724\nalternative     1994\nblues           1838\nreggae          1697\nName: Genre, dtype: int64"
     },
     "execution_count": 6,
     "metadata": {},
     "output_type": "execute_result"
    }
   ],
   "source": [
    "dataset[\"Genre\"].value_counts()"
   ],
   "metadata": {
    "collapsed": false,
    "ExecuteTime": {
     "start_time": "2023-04-13T19:21:56.026785Z",
     "end_time": "2023-04-13T19:21:56.030732Z"
    }
   }
  },
  {
   "cell_type": "markdown",
   "source": [
    "# Featurizing every song by adding vectors of every word in lyrics and dividing it by the length of the song"
   ],
   "metadata": {
    "collapsed": false
   }
  },
  {
   "cell_type": "code",
   "execution_count": 7,
   "outputs": [],
   "source": [
    "w2v_training_data = []\n",
    "w2v_training_labels = []\n",
    "\n",
    "for _, row in dataset.iterrows():\n",
    "    label = row[\"Genre\"]\n",
    "    lyrics = row[\"LyricsList\"]\n",
    "    feature_vector = np.zeros((200,))\n",
    "    song_length = 0\n",
    "    for line in lyrics:\n",
    "        song_length += len(line)\n",
    "        for word in line:\n",
    "            if word in w2v_word_to_embeddings:\n",
    "                feature_vector += w2v_word_to_embeddings[word]\n",
    "    if song_length == 0:\n",
    "        w2v_training_data.append(feature_vector)\n",
    "    else:\n",
    "        w2v_training_data.append(feature_vector/song_length)\n",
    "    w2v_training_labels.append(label)"
   ],
   "metadata": {
    "collapsed": false,
    "ExecuteTime": {
     "start_time": "2023-04-13T19:21:56.033269Z",
     "end_time": "2023-04-13T19:22:23.230494Z"
    }
   }
  },
  {
   "cell_type": "code",
   "execution_count": 8,
   "outputs": [],
   "source": [
    "glove_training_data = []\n",
    "glove_training_labels = []\n",
    "\n",
    "for _, row in dataset.iterrows():\n",
    "    label = row[\"Genre\"]\n",
    "    lyrics = row[\"LyricsList\"]\n",
    "    feature_vector = np.zeros((100,))\n",
    "    song_length = 0\n",
    "    for line in lyrics:\n",
    "        song_length += len(line)\n",
    "        for word in line:\n",
    "            if word in glove_word_to_embeddings:\n",
    "                feature_vector += glove_word_to_embeddings[word]\n",
    "    if song_length == 0:\n",
    "        glove_training_data.append(feature_vector)\n",
    "    else:\n",
    "        glove_training_data.append(feature_vector/song_length)\n",
    "    glove_training_labels.append(label)"
   ],
   "metadata": {
    "collapsed": false,
    "ExecuteTime": {
     "start_time": "2023-04-13T19:22:23.232613Z",
     "end_time": "2023-04-13T19:22:49.178836Z"
    }
   }
  },
  {
   "cell_type": "code",
   "execution_count": 9,
   "outputs": [],
   "source": [
    "word2vec_X_train, word2vec_X_test, word2vec_y_train, word2vec_y_test = train_test_split(w2v_training_data, w2v_training_labels, test_size=0.2, random_state=42)"
   ],
   "metadata": {
    "collapsed": false,
    "ExecuteTime": {
     "start_time": "2023-04-13T19:22:49.182223Z",
     "end_time": "2023-04-13T19:22:49.218539Z"
    }
   }
  },
  {
   "cell_type": "code",
   "execution_count": 10,
   "outputs": [],
   "source": [
    "glove_X_train, glove_X_test, glove_y_train, glove_y_test = train_test_split(glove_training_data, glove_training_labels, test_size=0.2, random_state=42)"
   ],
   "metadata": {
    "collapsed": false,
    "ExecuteTime": {
     "start_time": "2023-04-13T19:22:49.220154Z",
     "end_time": "2023-04-13T19:22:49.263056Z"
    }
   }
  },
  {
   "cell_type": "markdown",
   "source": [
    "# Baseline Gaussian Naive Bayes classifier"
   ],
   "metadata": {
    "collapsed": false
   }
  },
  {
   "cell_type": "markdown",
   "source": [
    "### Word2Vec Embeddings used for training"
   ],
   "metadata": {
    "collapsed": false
   }
  },
  {
   "cell_type": "code",
   "execution_count": 11,
   "outputs": [
    {
     "data": {
      "text/plain": "GaussianNB()"
     },
     "execution_count": 11,
     "metadata": {},
     "output_type": "execute_result"
    }
   ],
   "source": [
    "word2vec_gaussian_nb = GaussianNB()\n",
    "\n",
    "word2vec_gaussian_nb.fit(word2vec_X_train, word2vec_y_train)"
   ],
   "metadata": {
    "collapsed": false,
    "ExecuteTime": {
     "start_time": "2023-04-13T19:22:49.268451Z",
     "end_time": "2023-04-13T19:22:49.639771Z"
    }
   }
  },
  {
   "cell_type": "code",
   "execution_count": 12,
   "outputs": [
    {
     "name": "stdout",
     "output_type": "stream",
     "text": [
      "Accuracy of the Gaussian Naive Bayes Classifier with Word2Vec embeddings is: 0.26440589312178536\n"
     ]
    }
   ],
   "source": [
    "word2vec_gaussian_y_pred = word2vec_gaussian_nb.predict(word2vec_X_test)\n",
    "\n",
    "word2vec_gaussian_accuracy = accuracy_score(word2vec_y_test, word2vec_gaussian_y_pred)\n",
    "\n",
    "print(\"Accuracy of the Gaussian Naive Bayes Classifier with Word2Vec embeddings is:\", word2vec_gaussian_accuracy)"
   ],
   "metadata": {
    "collapsed": false,
    "ExecuteTime": {
     "start_time": "2023-04-13T19:22:49.642017Z",
     "end_time": "2023-04-13T19:22:49.809440Z"
    }
   }
  },
  {
   "cell_type": "markdown",
   "source": [
    "### GLoVe Embeddings used for Training"
   ],
   "metadata": {
    "collapsed": false
   }
  },
  {
   "cell_type": "code",
   "execution_count": 13,
   "outputs": [
    {
     "data": {
      "text/plain": "GaussianNB()"
     },
     "execution_count": 13,
     "metadata": {},
     "output_type": "execute_result"
    }
   ],
   "source": [
    "glove_gaussian_nb = GaussianNB()\n",
    "\n",
    "glove_gaussian_nb.fit(glove_X_train, glove_y_train)"
   ],
   "metadata": {
    "collapsed": false,
    "ExecuteTime": {
     "start_time": "2023-04-13T19:22:49.813583Z",
     "end_time": "2023-04-13T19:22:50.021840Z"
    }
   }
  },
  {
   "cell_type": "code",
   "execution_count": 14,
   "outputs": [
    {
     "name": "stdout",
     "output_type": "stream",
     "text": [
      "Accuracy of the Gaussian Naive Bayes Classifier with GLoVe embeddings is: 0.1391334670037486\n"
     ]
    }
   ],
   "source": [
    "glove_y_pred = glove_gaussian_nb.predict(glove_X_test)\n",
    "\n",
    "glove_gaussian_accuracy = accuracy_score(glove_y_test, glove_y_pred)\n",
    "\n",
    "print(\"Accuracy of the Gaussian Naive Bayes Classifier with GLoVe embeddings is:\", glove_gaussian_accuracy)"
   ],
   "metadata": {
    "collapsed": false,
    "ExecuteTime": {
     "start_time": "2023-04-13T19:22:50.023534Z",
     "end_time": "2023-04-13T19:22:50.110913Z"
    }
   }
  },
  {
   "cell_type": "markdown",
   "source": [
    "# Logistic Regression Models as classifiers"
   ],
   "metadata": {
    "collapsed": false
   }
  },
  {
   "cell_type": "markdown",
   "source": [
    "## Word2Vec Embeddings used for training"
   ],
   "metadata": {
    "collapsed": false
   }
  },
  {
   "cell_type": "markdown",
   "source": [
    "### No regularization"
   ],
   "metadata": {
    "collapsed": false
   }
  },
  {
   "cell_type": "code",
   "execution_count": 15,
   "outputs": [
    {
     "data": {
      "text/plain": "LogisticRegression(max_iter=1000, multi_class='multinomial')"
     },
     "execution_count": 15,
     "metadata": {},
     "output_type": "execute_result"
    }
   ],
   "source": [
    "word2vec_logistic_classifier = LogisticRegression(multi_class='multinomial', max_iter=1000)\n",
    "\n",
    "word2vec_logistic_classifier.fit(word2vec_X_train, word2vec_y_train)"
   ],
   "metadata": {
    "collapsed": false,
    "ExecuteTime": {
     "start_time": "2023-04-13T19:22:50.114980Z",
     "end_time": "2023-04-13T19:23:18.586946Z"
    }
   }
  },
  {
   "cell_type": "code",
   "execution_count": 16,
   "outputs": [
    {
     "name": "stdout",
     "output_type": "stream",
     "text": [
      "Accuracy of the Multiclass Logistic Regression with Word2Vec embeddings is: 0.4301281492459245\n"
     ]
    }
   ],
   "source": [
    "word2vec_logistic_y_pred = word2vec_logistic_classifier.predict(word2vec_X_test)\n",
    "\n",
    "word2vec_logistic_accuracy = accuracy_score(word2vec_y_test, word2vec_logistic_y_pred)\n",
    "\n",
    "print(\"Accuracy of the Multiclass Logistic Regression with Word2Vec embeddings is:\", word2vec_logistic_accuracy)"
   ],
   "metadata": {
    "collapsed": false,
    "ExecuteTime": {
     "start_time": "2023-04-13T19:23:18.588145Z",
     "end_time": "2023-04-13T19:23:18.627174Z"
    }
   }
  },
  {
   "cell_type": "markdown",
   "source": [
    "### Logistic regression model with L1 regularization"
   ],
   "metadata": {
    "collapsed": false
   }
  },
  {
   "cell_type": "code",
   "execution_count": 17,
   "outputs": [
    {
     "data": {
      "text/plain": "LogisticRegression(max_iter=1000, multi_class='multinomial', penalty='l1',\n                   solver='saga')"
     },
     "execution_count": 17,
     "metadata": {},
     "output_type": "execute_result"
    }
   ],
   "source": [
    "word2vec_logistic_classifier_l1_reg = LogisticRegression(multi_class='multinomial', max_iter=1000, penalty='l1', C=1.0, solver='saga')\n",
    "\n",
    "word2vec_logistic_classifier_l1_reg.fit(word2vec_X_train, word2vec_y_train)"
   ],
   "metadata": {
    "collapsed": false,
    "ExecuteTime": {
     "start_time": "2023-04-13T19:23:18.631371Z",
     "end_time": "2023-04-13T19:28:38.318241Z"
    }
   }
  },
  {
   "cell_type": "code",
   "execution_count": 18,
   "outputs": [
    {
     "name": "stdout",
     "output_type": "stream",
     "text": [
      "Accuracy of the Multiclass Logistic Regression with Word2Vec embeddings and L1 regularization is: 0.4307819719292128\n"
     ]
    }
   ],
   "source": [
    "word2vec_logistic_l1_reg_y_pred = word2vec_logistic_classifier_l1_reg.predict(word2vec_X_test)\n",
    "\n",
    "word2vec_logistic_accuracy_l1_reg = accuracy_score(word2vec_y_test, word2vec_logistic_l1_reg_y_pred)\n",
    "\n",
    "print(\"Accuracy of the Multiclass Logistic Regression with Word2Vec embeddings and L1 regularization is:\", word2vec_logistic_accuracy_l1_reg)"
   ],
   "metadata": {
    "collapsed": false,
    "ExecuteTime": {
     "start_time": "2023-04-13T19:28:38.324347Z",
     "end_time": "2023-04-13T19:28:38.388183Z"
    }
   }
  },
  {
   "cell_type": "markdown",
   "source": [
    "### Logistic regression model with L2 regularization"
   ],
   "metadata": {
    "collapsed": false
   }
  },
  {
   "cell_type": "code",
   "execution_count": 19,
   "outputs": [
    {
     "data": {
      "text/plain": "LogisticRegression(max_iter=1000, multi_class='multinomial')"
     },
     "execution_count": 19,
     "metadata": {},
     "output_type": "execute_result"
    }
   ],
   "source": [
    "word2vec_logistic_classifier_l2_reg = LogisticRegression(multi_class='multinomial', max_iter=1000, penalty='l2', C=1.0)\n",
    "\n",
    "word2vec_logistic_classifier_l2_reg.fit(word2vec_X_train, word2vec_y_train)"
   ],
   "metadata": {
    "collapsed": false,
    "ExecuteTime": {
     "start_time": "2023-04-13T19:28:38.392625Z",
     "end_time": "2023-04-13T19:29:06.900236Z"
    }
   }
  },
  {
   "cell_type": "code",
   "execution_count": 20,
   "outputs": [
    {
     "name": "stdout",
     "output_type": "stream",
     "text": [
      "Accuracy of the Multiclass Logistic Regression with Word2Vec embeddings and L2 regularization is: 0.4301281492459245\n"
     ]
    }
   ],
   "source": [
    "word2vec_logistic_l2_reg_y_pred = word2vec_logistic_classifier_l2_reg.predict(word2vec_X_test)\n",
    "\n",
    "word2vec_logistic_accuracy_l2_reg = accuracy_score(word2vec_y_test, word2vec_logistic_l2_reg_y_pred)\n",
    "\n",
    "print(\"Accuracy of the Multiclass Logistic Regression with Word2Vec embeddings and L2 regularization is:\", word2vec_logistic_accuracy_l2_reg)"
   ],
   "metadata": {
    "collapsed": false,
    "ExecuteTime": {
     "start_time": "2023-04-13T19:29:06.902454Z",
     "end_time": "2023-04-13T19:29:06.952200Z"
    }
   }
  },
  {
   "cell_type": "markdown",
   "source": [
    "## GLoVe Embeddings used for training"
   ],
   "metadata": {
    "collapsed": false
   }
  },
  {
   "cell_type": "markdown",
   "source": [
    "### No regularization"
   ],
   "metadata": {
    "collapsed": false
   }
  },
  {
   "cell_type": "code",
   "execution_count": 21,
   "outputs": [
    {
     "data": {
      "text/plain": "LogisticRegression(max_iter=1000, multi_class='multinomial')"
     },
     "execution_count": 21,
     "metadata": {},
     "output_type": "execute_result"
    }
   ],
   "source": [
    "glove_logistic_classifier = LogisticRegression(multi_class='multinomial', max_iter=1000)\n",
    "\n",
    "glove_logistic_classifier.fit(glove_X_train, glove_y_train)"
   ],
   "metadata": {
    "collapsed": false,
    "ExecuteTime": {
     "start_time": "2023-04-13T19:29:06.935418Z",
     "end_time": "2023-04-13T19:29:17.411143Z"
    }
   }
  },
  {
   "cell_type": "code",
   "execution_count": 22,
   "outputs": [
    {
     "name": "stdout",
     "output_type": "stream",
     "text": [
      "Accuracy of the Multiclass Logistic Regression with GLoVe embeddings is: 0.32704210618080376\n"
     ]
    }
   ],
   "source": [
    "glove_logistic_y_pred = glove_logistic_classifier.predict(glove_X_test)\n",
    "\n",
    "glove_logistic_accuracy = accuracy_score(glove_y_test, glove_logistic_y_pred)\n",
    "\n",
    "print(\"Accuracy of the Multiclass Logistic Regression with GLoVe embeddings is:\", glove_logistic_accuracy)"
   ],
   "metadata": {
    "collapsed": false,
    "ExecuteTime": {
     "start_time": "2023-04-13T19:29:17.413849Z",
     "end_time": "2023-04-13T19:29:17.469806Z"
    }
   }
  },
  {
   "cell_type": "markdown",
   "source": [
    "### Logistic regression model with L1 regularization"
   ],
   "metadata": {
    "collapsed": false
   }
  },
  {
   "cell_type": "code",
   "execution_count": 23,
   "outputs": [
    {
     "data": {
      "text/plain": "LogisticRegression(max_iter=1000, multi_class='multinomial', penalty='l1',\n                   solver='saga')"
     },
     "execution_count": 23,
     "metadata": {},
     "output_type": "execute_result"
    }
   ],
   "source": [
    "glove_logistic_classifier_l1_reg = LogisticRegression(multi_class='multinomial', max_iter=1000, penalty='l1', C=1.0, solver='saga')\n",
    "\n",
    "glove_logistic_classifier_l1_reg.fit(glove_X_train, glove_y_train)"
   ],
   "metadata": {
    "collapsed": false,
    "ExecuteTime": {
     "start_time": "2023-04-13T19:29:17.446022Z",
     "end_time": "2023-04-13T19:32:35.214745Z"
    }
   }
  },
  {
   "cell_type": "code",
   "execution_count": 24,
   "outputs": [
    {
     "name": "stdout",
     "output_type": "stream",
     "text": [
      "Accuracy of the Multiclass Logistic Regression with GLoVe embeddings and L1 regularization is: 0.32712928253857554\n"
     ]
    }
   ],
   "source": [
    "glove_logistic_y_pred_l1_reg = glove_logistic_classifier_l1_reg.predict(glove_X_test)\n",
    "\n",
    "glove_logistic_accuracy_l1_reg = accuracy_score(glove_y_test, glove_logistic_y_pred_l1_reg)\n",
    "\n",
    "print(\"Accuracy of the Multiclass Logistic Regression with GLoVe embeddings and L1 regularization is:\", glove_logistic_accuracy_l1_reg)"
   ],
   "metadata": {
    "collapsed": false,
    "ExecuteTime": {
     "start_time": "2023-04-13T19:32:35.216695Z",
     "end_time": "2023-04-13T19:32:35.266772Z"
    }
   }
  },
  {
   "cell_type": "markdown",
   "source": [
    "### Logistic regression model with L2 regularization"
   ],
   "metadata": {
    "collapsed": false
   }
  },
  {
   "cell_type": "code",
   "execution_count": 25,
   "outputs": [
    {
     "data": {
      "text/plain": "LogisticRegression(max_iter=1000, multi_class='multinomial')"
     },
     "execution_count": 25,
     "metadata": {},
     "output_type": "execute_result"
    }
   ],
   "source": [
    "glove_logistic_classifier_l2_reg = LogisticRegression(multi_class='multinomial', max_iter=1000, penalty='l2', C=1.0)\n",
    "\n",
    "glove_logistic_classifier_l2_reg.fit(glove_X_train, glove_y_train)"
   ],
   "metadata": {
    "collapsed": false,
    "ExecuteTime": {
     "start_time": "2023-04-13T19:32:35.253711Z",
     "end_time": "2023-04-13T19:32:45.567306Z"
    }
   }
  },
  {
   "cell_type": "code",
   "execution_count": 26,
   "outputs": [
    {
     "name": "stdout",
     "output_type": "stream",
     "text": [
      "Accuracy of the Multiclass Logistic Regression with GLoVe embeddings and L2 regularization is: 0.32704210618080376\n"
     ]
    }
   ],
   "source": [
    "glove_logistic_y_pred_l2_reg = glove_logistic_classifier_l2_reg.predict(glove_X_test)\n",
    "\n",
    "glove_logistic_accuracy_l2_reg = accuracy_score(glove_y_test, glove_logistic_y_pred_l2_reg)\n",
    "\n",
    "print(\"Accuracy of the Multiclass Logistic Regression with GLoVe embeddings and L2 regularization is:\", glove_logistic_accuracy_l2_reg)"
   ],
   "metadata": {
    "collapsed": false,
    "ExecuteTime": {
     "start_time": "2023-04-13T19:32:45.569961Z",
     "end_time": "2023-04-13T19:32:45.602362Z"
    }
   }
  }
 ],
 "metadata": {
  "kernelspec": {
   "name": "python3613jvsc74a57bd08d232f2b15de367dc78a22b0b211aac5c96cbb4ea76364c0e9451d1f26b7452d",
   "language": "python",
   "display_name": "Python 3.6.13 64-bit ('NLP': conda)"
  },
  "language_info": {
   "codemirror_mode": {
    "name": "ipython",
    "version": 2
   },
   "file_extension": ".py",
   "mimetype": "text/x-python",
   "name": "python",
   "nbconvert_exporter": "python",
   "pygments_lexer": "ipython2",
   "version": "2.7.6"
  }
 },
 "nbformat": 4,
 "nbformat_minor": 0
}
