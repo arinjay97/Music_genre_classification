{
 "cells": [
  {
   "cell_type": "code",
   "execution_count": 1,
   "metadata": {
    "collapsed": true,
    "ExecuteTime": {
     "start_time": "2023-04-13T10:16:48.940008Z",
     "end_time": "2023-04-13T10:16:50.637841Z"
    }
   },
   "outputs": [],
   "source": [
    "import numpy as np\n",
    "import pandas as pd\n",
    "from gensim.models import KeyedVectors\n",
    "from sklearn.naive_bayes import GaussianNB\n",
    "from sklearn.linear_model import LogisticRegression\n",
    "from sklearn.model_selection import train_test_split\n",
    "from sklearn.metrics import accuracy_score"
   ]
  },
  {
   "cell_type": "code",
   "execution_count": 2,
   "outputs": [],
   "source": [
    "w2v_model = KeyedVectors.load_word2vec_format(\"w2v_embeddings.txt\", binary=False)\n",
    "w2v_word_to_embeddings = {word: w2v_model[word] for word in w2v_model.vocab}"
   ],
   "metadata": {
    "collapsed": false,
    "ExecuteTime": {
     "start_time": "2023-04-13T10:16:50.638756Z",
     "end_time": "2023-04-13T10:17:05.611491Z"
    }
   }
  },
  {
   "cell_type": "code",
   "execution_count": 3,
   "outputs": [],
   "source": [
    "glove_model = KeyedVectors.load_word2vec_format(\"glove_embeddings.txt\", binary=False)\n",
    "glove_word_to_embeddings = {word: glove_model[word] for word in glove_model.vocab}"
   ],
   "metadata": {
    "collapsed": false,
    "ExecuteTime": {
     "start_time": "2023-04-13T10:17:05.611726Z",
     "end_time": "2023-04-13T10:17:21.418431Z"
    }
   }
  },
  {
   "cell_type": "code",
   "execution_count": 4,
   "outputs": [],
   "source": [
    "dataset = pd.read_csv(\"Processed_Lyric_Dataset.csv\")"
   ],
   "metadata": {
    "collapsed": false,
    "ExecuteTime": {
     "start_time": "2023-04-13T10:17:21.419532Z",
     "end_time": "2023-04-13T10:17:25.703070Z"
    }
   }
  },
  {
   "cell_type": "code",
   "execution_count": 5,
   "outputs": [
    {
     "data": {
      "text/plain": "                                               SName Genre  \\\n0                                   Careless Whisper   pop   \n1  Could You Be Loved / Citação Musical do Rap: S...   pop   \n2                             Cruisin' (Part. Saulo)   pop   \n3                                               Easy   pop   \n4                  For Your Babies (The Voice cover)   pop   \n\n                                          LyricsList  \n0  [[feel, unsure], [take, hand, lead, dance, flo...  \n1  [[let, fool, ya], [even, try, school, ya, oh],...  \n2  [[baby, let, cruise, away], [confuse, way, cle...  \n3  [[know, sound, funny], [cant, stand, pain], [g...  \n4  [[get, look], [one, hop, lad], [face, beam], [...  ",
      "text/html": "<div>\n<style scoped>\n    .dataframe tbody tr th:only-of-type {\n        vertical-align: middle;\n    }\n\n    .dataframe tbody tr th {\n        vertical-align: top;\n    }\n\n    .dataframe thead th {\n        text-align: right;\n    }\n</style>\n<table border=\"1\" class=\"dataframe\">\n  <thead>\n    <tr style=\"text-align: right;\">\n      <th></th>\n      <th>SName</th>\n      <th>Genre</th>\n      <th>LyricsList</th>\n    </tr>\n  </thead>\n  <tbody>\n    <tr>\n      <th>0</th>\n      <td>Careless Whisper</td>\n      <td>pop</td>\n      <td>[[feel, unsure], [take, hand, lead, dance, flo...</td>\n    </tr>\n    <tr>\n      <th>1</th>\n      <td>Could You Be Loved / Citação Musical do Rap: S...</td>\n      <td>pop</td>\n      <td>[[let, fool, ya], [even, try, school, ya, oh],...</td>\n    </tr>\n    <tr>\n      <th>2</th>\n      <td>Cruisin' (Part. Saulo)</td>\n      <td>pop</td>\n      <td>[[baby, let, cruise, away], [confuse, way, cle...</td>\n    </tr>\n    <tr>\n      <th>3</th>\n      <td>Easy</td>\n      <td>pop</td>\n      <td>[[know, sound, funny], [cant, stand, pain], [g...</td>\n    </tr>\n    <tr>\n      <th>4</th>\n      <td>For Your Babies (The Voice cover)</td>\n      <td>pop</td>\n      <td>[[get, look], [one, hop, lad], [face, beam], [...</td>\n    </tr>\n  </tbody>\n</table>\n</div>"
     },
     "execution_count": 5,
     "metadata": {},
     "output_type": "execute_result"
    }
   ],
   "source": [
    "dataset = dataset.drop(columns=[\"Unnamed: 0\", \"LyricsList\"], axis=1)\n",
    "dataset[\"LyricsList\"] = dataset.apply(lambda x: eval(x['LyricProcessed']), axis=1)\n",
    "dataset = dataset.drop(columns=[\"Artist\", \"Lyric\", \"LyricProcessed\"])\n",
    "dataset.head(5)"
   ],
   "metadata": {
    "collapsed": false,
    "ExecuteTime": {
     "start_time": "2023-04-13T10:17:25.704493Z",
     "end_time": "2023-04-13T10:17:50.759378Z"
    }
   }
  },
  {
   "cell_type": "code",
   "execution_count": 6,
   "outputs": [
    {
     "data": {
      "text/plain": "rock           29916\nmetal          19420\npop            12812\nhip-hop        10333\nindie           6020\nelectronic      5866\nrap             4535\nrnb             4271\nsoul            3739\npunk            3440\ncountry         3135\njazz            2969\nfolk            2724\nalternative     1994\nblues           1838\nreggae          1697\nName: Genre, dtype: int64"
     },
     "execution_count": 6,
     "metadata": {},
     "output_type": "execute_result"
    }
   ],
   "source": [
    "dataset[\"Genre\"].value_counts()"
   ],
   "metadata": {
    "collapsed": false,
    "ExecuteTime": {
     "start_time": "2023-04-13T10:17:50.754856Z",
     "end_time": "2023-04-13T10:17:50.759777Z"
    }
   }
  },
  {
   "cell_type": "code",
   "execution_count": 7,
   "outputs": [],
   "source": [
    "w2v_training_data = []\n",
    "w2v_training_labels = []\n",
    "\n",
    "for _, row in dataset.iterrows():\n",
    "    label = row[\"Genre\"]\n",
    "    lyrics = row[\"LyricsList\"]\n",
    "    feature_vector = np.zeros((200,))\n",
    "    song_length = 0\n",
    "    for line in lyrics:\n",
    "        song_length += len(line)\n",
    "        for word in line:\n",
    "            if word in w2v_word_to_embeddings:\n",
    "                feature_vector += w2v_word_to_embeddings[word]\n",
    "    if song_length == 0:\n",
    "        w2v_training_data.append(feature_vector)\n",
    "    else:\n",
    "        w2v_training_data.append(feature_vector/song_length)\n",
    "    w2v_training_labels.append(label)"
   ],
   "metadata": {
    "collapsed": false,
    "ExecuteTime": {
     "start_time": "2023-04-13T10:17:50.760662Z",
     "end_time": "2023-04-13T10:18:20.457120Z"
    }
   }
  },
  {
   "cell_type": "code",
   "execution_count": 8,
   "outputs": [],
   "source": [
    "glove_training_data = []\n",
    "glove_training_labels = []\n",
    "\n",
    "for _, row in dataset.iterrows():\n",
    "    label = row[\"Genre\"]\n",
    "    lyrics = row[\"LyricsList\"]\n",
    "    feature_vector = np.zeros((100,))\n",
    "    song_length = 0\n",
    "    for line in lyrics:\n",
    "        song_length += len(line)\n",
    "        for word in line:\n",
    "            if word in glove_word_to_embeddings:\n",
    "                feature_vector += glove_word_to_embeddings[word]\n",
    "    if song_length == 0:\n",
    "        glove_training_data.append(feature_vector)\n",
    "    else:\n",
    "        glove_training_data.append(feature_vector/song_length)\n",
    "    glove_training_labels.append(label)"
   ],
   "metadata": {
    "collapsed": false,
    "ExecuteTime": {
     "start_time": "2023-04-13T10:18:20.468031Z",
     "end_time": "2023-04-13T10:18:49.195641Z"
    }
   }
  },
  {
   "cell_type": "code",
   "execution_count": 9,
   "outputs": [],
   "source": [
    "word2vec_X_train, word2vec_X_test, word2vec_y_train, word2vec_y_test = train_test_split(w2v_training_data, w2v_training_labels, test_size=0.2, random_state=42)"
   ],
   "metadata": {
    "collapsed": false,
    "ExecuteTime": {
     "start_time": "2023-04-13T10:18:49.241511Z",
     "end_time": "2023-04-13T10:18:49.256141Z"
    }
   }
  },
  {
   "cell_type": "code",
   "execution_count": 10,
   "outputs": [],
   "source": [
    "glove_X_train, glove_X_test, glove_y_train, glove_y_test = train_test_split(glove_training_data, glove_training_labels, test_size=0.2, random_state=42)"
   ],
   "metadata": {
    "collapsed": false,
    "ExecuteTime": {
     "start_time": "2023-04-13T10:18:49.244291Z",
     "end_time": "2023-04-13T10:18:49.331199Z"
    }
   }
  },
  {
   "cell_type": "code",
   "execution_count": 11,
   "outputs": [
    {
     "name": "stdout",
     "output_type": "stream",
     "text": [
      "[-0.11428045 -0.2247762  -0.16993003  0.10288301 -0.00463599  0.16851274\n",
      " -0.31411238  0.31439397  0.17510919  0.11866679] pop\n",
      "[-0.02343596  0.11188111  0.42710342  0.15697903 -0.00969928  0.1432713\n",
      " -0.02187555  0.03734092  0.20610544  0.09226854] pop\n"
     ]
    }
   ],
   "source": [
    "print(word2vec_X_train[0][:10], word2vec_y_train[0])\n",
    "print(glove_X_train[0][:10], glove_y_train[0])"
   ],
   "metadata": {
    "collapsed": false,
    "ExecuteTime": {
     "start_time": "2023-04-13T10:18:49.291214Z",
     "end_time": "2023-04-13T10:18:49.332488Z"
    }
   }
  },
  {
   "cell_type": "code",
   "execution_count": 12,
   "outputs": [
    {
     "data": {
      "text/plain": "GaussianNB()"
     },
     "execution_count": 12,
     "metadata": {},
     "output_type": "execute_result"
    }
   ],
   "source": [
    "word2vec_gaussian_nb = GaussianNB()\n",
    "\n",
    "word2vec_gaussian_nb.fit(word2vec_X_train, word2vec_y_train)"
   ],
   "metadata": {
    "collapsed": false,
    "ExecuteTime": {
     "start_time": "2023-04-13T10:18:49.296507Z",
     "end_time": "2023-04-13T10:18:49.808981Z"
    }
   }
  },
  {
   "cell_type": "code",
   "execution_count": 13,
   "outputs": [
    {
     "name": "stdout",
     "output_type": "stream",
     "text": [
      "Accuracy of the Gaussian Naive Bayes Classifier with Word2Vec embeddings is: 0.26440589312178536\n"
     ]
    }
   ],
   "source": [
    "word2vec_gaussian_y_pred = word2vec_gaussian_nb.predict(word2vec_X_test)\n",
    "\n",
    "word2vec_gaussian_accuracy = accuracy_score(word2vec_y_test, word2vec_gaussian_y_pred)\n",
    "\n",
    "print(\"Accuracy of the Gaussian Naive Bayes Classifier with Word2Vec embeddings is:\", word2vec_gaussian_accuracy)"
   ],
   "metadata": {
    "collapsed": false,
    "ExecuteTime": {
     "start_time": "2023-04-13T10:18:49.811241Z",
     "end_time": "2023-04-13T10:18:50.000358Z"
    }
   }
  },
  {
   "cell_type": "code",
   "execution_count": 14,
   "outputs": [
    {
     "data": {
      "text/plain": "LogisticRegression(max_iter=1000, multi_class='multinomial')"
     },
     "execution_count": 14,
     "metadata": {},
     "output_type": "execute_result"
    }
   ],
   "source": [
    "word2vec_logistic_classifier = LogisticRegression(multi_class='multinomial', max_iter=1000, )\n",
    "\n",
    "word2vec_logistic_classifier.fit(word2vec_X_train, word2vec_y_train)"
   ],
   "metadata": {
    "collapsed": false,
    "ExecuteTime": {
     "start_time": "2023-04-13T10:18:49.977179Z",
     "end_time": "2023-04-13T10:19:21.941630Z"
    }
   }
  },
  {
   "cell_type": "code",
   "execution_count": 15,
   "outputs": [
    {
     "name": "stdout",
     "output_type": "stream",
     "text": [
      "Accuracy of the Multiclass Logistic Regression with Word2Vec embeddings is: 0.4301281492459245\n"
     ]
    }
   ],
   "source": [
    "word2vec_logistic_y_pred = word2vec_logistic_classifier.predict(word2vec_X_test)\n",
    "\n",
    "word2vec_logistic_accuracy = accuracy_score(word2vec_y_test, word2vec_logistic_y_pred)\n",
    "\n",
    "print(\"Accuracy of the Multiclass Logistic Regression with Word2Vec embeddings is:\", word2vec_logistic_accuracy)"
   ],
   "metadata": {
    "collapsed": false,
    "ExecuteTime": {
     "start_time": "2023-04-13T10:19:21.939690Z",
     "end_time": "2023-04-13T10:19:22.036149Z"
    }
   }
  },
  {
   "cell_type": "code",
   "execution_count": 16,
   "outputs": [
    {
     "data": {
      "text/plain": "GaussianNB()"
     },
     "execution_count": 16,
     "metadata": {},
     "output_type": "execute_result"
    }
   ],
   "source": [
    "glove_gaussian_nb = GaussianNB()\n",
    "\n",
    "glove_gaussian_nb.fit(glove_X_train, glove_y_train)"
   ],
   "metadata": {
    "collapsed": false,
    "ExecuteTime": {
     "start_time": "2023-04-13T10:19:21.984881Z",
     "end_time": "2023-04-13T10:19:22.283199Z"
    }
   }
  },
  {
   "cell_type": "code",
   "execution_count": 17,
   "outputs": [
    {
     "name": "stdout",
     "output_type": "stream",
     "text": [
      "Accuracy of the Gaussian Naive Bayes Classifier with GLoVe embeddings is: 0.1391334670037486\n"
     ]
    }
   ],
   "source": [
    "glove_y_pred = glove_gaussian_nb.predict(glove_X_test)\n",
    "\n",
    "glove_gaussian_accuracy = accuracy_score(glove_y_test, glove_y_pred)\n",
    "\n",
    "print(\"Accuracy of the Gaussian Naive Bayes Classifier with GLoVe embeddings is:\", glove_gaussian_accuracy)"
   ],
   "metadata": {
    "collapsed": false,
    "ExecuteTime": {
     "start_time": "2023-04-13T10:19:22.280060Z",
     "end_time": "2023-04-13T10:19:22.372593Z"
    }
   }
  },
  {
   "cell_type": "code",
   "execution_count": 18,
   "outputs": [
    {
     "data": {
      "text/plain": "LogisticRegression(max_iter=1000, multi_class='multinomial')"
     },
     "execution_count": 18,
     "metadata": {},
     "output_type": "execute_result"
    }
   ],
   "source": [
    "glove_logistic_classifier = LogisticRegression(multi_class='multinomial', max_iter=1000, )\n",
    "\n",
    "glove_logistic_classifier.fit(glove_X_train, glove_y_train)"
   ],
   "metadata": {
    "collapsed": false,
    "ExecuteTime": {
     "start_time": "2023-04-13T10:19:22.373813Z",
     "end_time": "2023-04-13T10:19:33.412028Z"
    }
   }
  },
  {
   "cell_type": "code",
   "execution_count": 19,
   "outputs": [
    {
     "name": "stdout",
     "output_type": "stream",
     "text": [
      "Accuracy of the Multiclass Logistic Regression with GLoVe embeddings is: 0.32704210618080376\n"
     ]
    }
   ],
   "source": [
    "glove_logistic_y_pred = glove_logistic_classifier.predict(glove_X_test)\n",
    "\n",
    "glove_logistic_accuracy = accuracy_score(glove_y_test, glove_logistic_y_pred)\n",
    "\n",
    "print(\"Accuracy of the Multiclass Logistic Regression with GLoVe embeddings is:\", glove_logistic_accuracy)"
   ],
   "metadata": {
    "collapsed": false,
    "ExecuteTime": {
     "start_time": "2023-04-13T10:19:33.404191Z",
     "end_time": "2023-04-13T10:19:33.498001Z"
    }
   }
  }
 ],
 "metadata": {
  "kernelspec": {
   "name": "python3613jvsc74a57bd08d232f2b15de367dc78a22b0b211aac5c96cbb4ea76364c0e9451d1f26b7452d",
   "language": "python",
   "display_name": "Python 3.6.13 64-bit ('NLP': conda)"
  },
  "language_info": {
   "codemirror_mode": {
    "name": "ipython",
    "version": 2
   },
   "file_extension": ".py",
   "mimetype": "text/x-python",
   "name": "python",
   "nbconvert_exporter": "python",
   "pygments_lexer": "ipython2",
   "version": "2.7.6"
  }
 },
 "nbformat": 4,
 "nbformat_minor": 0
}
