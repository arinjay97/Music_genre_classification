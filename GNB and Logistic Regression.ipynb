{
 "cells": [
  {
   "cell_type": "code",
   "execution_count": 1,
   "metadata": {
    "collapsed": true,
    "ExecuteTime": {
     "start_time": "2023-04-16T18:38:53.357810Z",
     "end_time": "2023-04-16T18:38:55.613052Z"
    }
   },
   "outputs": [],
   "source": [
    "import numpy as np\n",
    "import pandas as pd\n",
    "from gensim.models import KeyedVectors\n",
    "from gensim.test.utils import get_tmpfile\n",
    "from gensim.scripts.glove2word2vec import glove2word2vec\n",
    "from sklearn.naive_bayes import GaussianNB\n",
    "from sklearn.linear_model import LogisticRegression\n",
    "from sklearn.model_selection import train_test_split\n",
    "from sklearn.metrics import accuracy_score, precision_recall_fscore_support\n",
    "import torch.nn as nn\n",
    "import torch\n",
    "import torch.optim as optim\n",
    "import matplotlib.pyplot as plt"
   ]
  },
  {
   "cell_type": "markdown",
   "source": [
    "# Loading Word2Vec and GLoVe embeddings trained on our corpus"
   ],
   "metadata": {
    "collapsed": false
   }
  },
  {
   "cell_type": "code",
   "execution_count": 2,
   "outputs": [],
   "source": [
    "# Load in word2vec embeddings\n",
    "\n",
    "w2v_model = KeyedVectors.load_word2vec_format(\"data/w2v_embeddings.txt\", binary=False)\n",
    "w2v_word_to_embeddings = {word: w2v_model[word] for word in w2v_model.vocab}"
   ],
   "metadata": {
    "collapsed": false,
    "ExecuteTime": {
     "start_time": "2023-04-16T18:38:55.614382Z",
     "end_time": "2023-04-16T18:39:10.570095Z"
    }
   }
  },
  {
   "cell_type": "code",
   "execution_count": 3,
   "outputs": [],
   "source": [
    "# Load in GLoVe embeddings\n",
    "\n",
    "glove_file = \"data/glove.6B.200d.txt\"\n",
    "tmp_file = get_tmpfile(\"test_word2vec.txt\")\n",
    "_ = glove2word2vec(glove_file, tmp_file)\n",
    "glove_model = KeyedVectors.load_word2vec_format(tmp_file)\n",
    "# glove_model = KeyedVectors.load_word2vec_format(\"glove.6B.200d.txt\", binary=False)\n",
    "glove_word_to_embeddings = {word: glove_model[word] for word in glove_model.vocab}"
   ],
   "metadata": {
    "collapsed": false,
    "ExecuteTime": {
     "start_time": "2023-04-16T18:39:10.570301Z",
     "end_time": "2023-04-16T18:40:10.284411Z"
    }
   }
  },
  {
   "cell_type": "code",
   "execution_count": 5,
   "outputs": [],
   "source": [
    "# Load in the dataset with processed lyrics\n",
    "\n",
    "dataset = pd.read_csv(\"data/Processed_Lyric_Dataset.csv\")"
   ],
   "metadata": {
    "collapsed": false,
    "ExecuteTime": {
     "start_time": "2023-04-16T18:40:10.284113Z",
     "end_time": "2023-04-16T18:40:14.473873Z"
    }
   }
  },
  {
   "cell_type": "code",
   "execution_count": 6,
   "outputs": [
    {
     "data": {
      "text/plain": "                                               SName Genre  \\\n0                                   Careless Whisper   pop   \n1  Could You Be Loved / Citação Musical do Rap: S...   pop   \n2                             Cruisin' (Part. Saulo)   pop   \n3                                               Easy   pop   \n4                  For Your Babies (The Voice cover)   pop   \n\n                                          LyricsList  \n0  [[feel, unsure], [take, hand, lead, dance, flo...  \n1  [[let, fool, ya], [even, try, school, ya, oh],...  \n2  [[baby, let, cruise, away], [confuse, way, cle...  \n3  [[know, sound, funny], [cant, stand, pain], [g...  \n4  [[get, look], [one, hop, lad], [face, beam], [...  ",
      "text/html": "<div>\n<style scoped>\n    .dataframe tbody tr th:only-of-type {\n        vertical-align: middle;\n    }\n\n    .dataframe tbody tr th {\n        vertical-align: top;\n    }\n\n    .dataframe thead th {\n        text-align: right;\n    }\n</style>\n<table border=\"1\" class=\"dataframe\">\n  <thead>\n    <tr style=\"text-align: right;\">\n      <th></th>\n      <th>SName</th>\n      <th>Genre</th>\n      <th>LyricsList</th>\n    </tr>\n  </thead>\n  <tbody>\n    <tr>\n      <th>0</th>\n      <td>Careless Whisper</td>\n      <td>pop</td>\n      <td>[[feel, unsure], [take, hand, lead, dance, flo...</td>\n    </tr>\n    <tr>\n      <th>1</th>\n      <td>Could You Be Loved / Citação Musical do Rap: S...</td>\n      <td>pop</td>\n      <td>[[let, fool, ya], [even, try, school, ya, oh],...</td>\n    </tr>\n    <tr>\n      <th>2</th>\n      <td>Cruisin' (Part. Saulo)</td>\n      <td>pop</td>\n      <td>[[baby, let, cruise, away], [confuse, way, cle...</td>\n    </tr>\n    <tr>\n      <th>3</th>\n      <td>Easy</td>\n      <td>pop</td>\n      <td>[[know, sound, funny], [cant, stand, pain], [g...</td>\n    </tr>\n    <tr>\n      <th>4</th>\n      <td>For Your Babies (The Voice cover)</td>\n      <td>pop</td>\n      <td>[[get, look], [one, hop, lad], [face, beam], [...</td>\n    </tr>\n  </tbody>\n</table>\n</div>"
     },
     "execution_count": 6,
     "metadata": {},
     "output_type": "execute_result"
    }
   ],
   "source": [
    "# Drop unneeded columns and evaluate the lyrics list to be a python list instead of string\n",
    "\n",
    "dataset = dataset.drop(columns=[\"Unnamed: 0\", \"LyricsList\"], axis=1)\n",
    "dataset[\"LyricsList\"] = dataset.apply(lambda x: eval(x['LyricProcessed']), axis=1)\n",
    "dataset = dataset.drop(columns=[\"Artist\", \"Lyric\", \"LyricProcessed\"])\n",
    "dataset.head(5)"
   ],
   "metadata": {
    "collapsed": false,
    "ExecuteTime": {
     "start_time": "2023-04-16T18:40:14.472193Z",
     "end_time": "2023-04-16T18:40:39.107101Z"
    }
   }
  },
  {
   "cell_type": "code",
   "execution_count": 7,
   "outputs": [
    {
     "data": {
      "text/plain": "rock           29916\nmetal          19420\npop            12812\nhip-hop        10333\nindie           6020\nelectronic      5866\nrap             4535\nrnb             4271\nsoul            3739\npunk            3440\ncountry         3135\njazz            2969\nfolk            2724\nalternative     1994\nblues           1838\nreggae          1697\nName: Genre, dtype: int64"
     },
     "execution_count": 7,
     "metadata": {},
     "output_type": "execute_result"
    }
   ],
   "source": [
    "# Check count of different genres\n",
    "\n",
    "dataset[\"Genre\"].value_counts()"
   ],
   "metadata": {
    "collapsed": false,
    "ExecuteTime": {
     "start_time": "2023-04-16T18:40:39.113461Z",
     "end_time": "2023-04-16T18:40:39.131999Z"
    }
   }
  },
  {
   "cell_type": "code",
   "execution_count": 8,
   "outputs": [],
   "source": [
    "# Create a label map for the genres\n",
    "genres = dataset[\"Genre\"].unique()\n",
    "genre_map = {g: i for i, g in enumerate(genres)}"
   ],
   "metadata": {
    "collapsed": false,
    "ExecuteTime": {
     "start_time": "2023-04-16T18:40:39.122392Z",
     "end_time": "2023-04-16T18:40:39.132686Z"
    }
   }
  },
  {
   "cell_type": "markdown",
   "source": [
    "# Featurizing every song by adding vectors of every word in lyrics and dividing it by the length of the song"
   ],
   "metadata": {
    "collapsed": false
   }
  },
  {
   "cell_type": "code",
   "execution_count": 9,
   "outputs": [],
   "source": [
    "w2v_training_data = []\n",
    "glove_training_data = []\n",
    "training_labels = []\n",
    "\n",
    "for _, row in dataset.iterrows():\n",
    "    label = row[\"Genre\"]\n",
    "    lyrics = row[\"LyricsList\"]\n",
    "    w2v_feature_vector = np.zeros((200,))\n",
    "    glove_feature_vector = np.zeros((200,))\n",
    "    song_length = 0\n",
    "    for line in lyrics:\n",
    "        song_length += len(line)\n",
    "        for word in line:\n",
    "            if word in w2v_word_to_embeddings:\n",
    "                w2v_feature_vector += w2v_word_to_embeddings[word]\n",
    "            if word in glove_word_to_embeddings:\n",
    "                glove_feature_vector += glove_word_to_embeddings[word]\n",
    "    if song_length == 0:\n",
    "        w2v_training_data.append(w2v_feature_vector)\n",
    "        glove_training_data.append(glove_feature_vector)\n",
    "    else:\n",
    "        w2v_training_data.append(w2v_feature_vector/song_length)\n",
    "        glove_training_data.append(glove_feature_vector/song_length)\n",
    "    training_labels.append(genre_map[label])"
   ],
   "metadata": {
    "collapsed": false,
    "ExecuteTime": {
     "start_time": "2023-04-16T18:40:39.129814Z",
     "end_time": "2023-04-16T18:41:30.931260Z"
    }
   }
  },
  {
   "cell_type": "code",
   "execution_count": 10,
   "outputs": [],
   "source": [
    "# Split dataset into training and testing datasets for word2vec embeddings\n",
    "word2vec_X_train, word2vec_X_test, word2vec_y_train, word2vec_y_test = train_test_split(w2v_training_data, training_labels, test_size=0.2, random_state=42)"
   ],
   "metadata": {
    "collapsed": false,
    "ExecuteTime": {
     "start_time": "2023-04-16T18:41:30.935237Z",
     "end_time": "2023-04-16T18:41:31.006534Z"
    }
   }
  },
  {
   "cell_type": "code",
   "execution_count": 11,
   "outputs": [],
   "source": [
    "# Split dataset into training and testing datasets for GLoVe embeddings\n",
    "glove_X_train, glove_X_test, glove_y_train, glove_y_test = train_test_split(glove_training_data, training_labels, test_size=0.2, random_state=42)"
   ],
   "metadata": {
    "collapsed": false,
    "ExecuteTime": {
     "start_time": "2023-04-16T18:41:31.007838Z",
     "end_time": "2023-04-16T18:41:31.056134Z"
    }
   }
  },
  {
   "cell_type": "markdown",
   "source": [
    "# Baseline Gaussian Naive Bayes classifier"
   ],
   "metadata": {
    "collapsed": false
   }
  },
  {
   "cell_type": "markdown",
   "source": [
    "### Word2Vec Embeddings used for training"
   ],
   "metadata": {
    "collapsed": false
   }
  },
  {
   "cell_type": "code",
   "execution_count": 12,
   "outputs": [
    {
     "data": {
      "text/plain": "GaussianNB()"
     },
     "execution_count": 12,
     "metadata": {},
     "output_type": "execute_result"
    }
   ],
   "source": [
    "# Initialize a Gaussian NB\n",
    "word2vec_gaussian_nb = GaussianNB()\n",
    "# Fit it on word2vec training data\n",
    "word2vec_gaussian_nb.fit(word2vec_X_train, word2vec_y_train)"
   ],
   "metadata": {
    "collapsed": false,
    "ExecuteTime": {
     "start_time": "2023-04-16T18:41:31.062768Z",
     "end_time": "2023-04-16T18:41:31.621260Z"
    }
   }
  },
  {
   "cell_type": "code",
   "execution_count": 13,
   "outputs": [
    {
     "name": "stdout",
     "output_type": "stream",
     "text": [
      "Performance metrics for Gaussian Naive Bayes Classifier with Word2Vec embeddings\n",
      "Accuracy: 0.26440589312178536\n",
      "Precision: 0.3116100783669175\n",
      "Recall: 0.26440589312178536\n",
      "F1 Score: 0.24427408416231794\n"
     ]
    }
   ],
   "source": [
    "# Predict outputs by model for test data\n",
    "word2vec_gaussian_y_pred = word2vec_gaussian_nb.predict(word2vec_X_test)\n",
    "\n",
    "# Calculate accuracy, precision, recall and F1 score\n",
    "word2vec_gaussian_accuracy = accuracy_score(word2vec_y_test, word2vec_gaussian_y_pred)\n",
    "w2v_precision, w2v_recall, w2v_f1, _ = precision_recall_fscore_support(word2vec_y_test, word2vec_gaussian_y_pred, average = 'weighted')\n",
    "\n",
    "print(\"Performance metrics for Gaussian Naive Bayes Classifier with Word2Vec embeddings\")\n",
    "print(\"Accuracy:\", word2vec_gaussian_accuracy)\n",
    "print(\"Precision:\", w2v_precision)\n",
    "print(\"Recall:\", w2v_recall)\n",
    "print(\"F1 Score:\", w2v_f1)"
   ],
   "metadata": {
    "collapsed": false,
    "ExecuteTime": {
     "start_time": "2023-04-16T18:41:31.622811Z",
     "end_time": "2023-04-16T18:41:31.816921Z"
    }
   }
  },
  {
   "cell_type": "markdown",
   "source": [
    "### GLoVe Embeddings used for Training"
   ],
   "metadata": {
    "collapsed": false
   }
  },
  {
   "cell_type": "code",
   "execution_count": 14,
   "outputs": [
    {
     "data": {
      "text/plain": "GaussianNB()"
     },
     "execution_count": 14,
     "metadata": {},
     "output_type": "execute_result"
    }
   ],
   "source": [
    "# Initialize a Gaussian NB\n",
    "glove_gaussian_nb = GaussianNB()\n",
    "# Fit it on GLoVe training data\n",
    "glove_gaussian_nb.fit(glove_X_train, glove_y_train)"
   ],
   "metadata": {
    "collapsed": false,
    "ExecuteTime": {
     "start_time": "2023-04-16T18:41:31.822495Z",
     "end_time": "2023-04-16T18:41:32.123803Z"
    }
   }
  },
  {
   "cell_type": "code",
   "execution_count": 15,
   "outputs": [
    {
     "name": "stdout",
     "output_type": "stream",
     "text": [
      "Performance metrics for Gaussian Naive Bayes Classifier with GLoVe embeddings\n",
      "Accuracy: 0.2369453404236771\n",
      "Precision: 0.28311607599003313\n",
      "Recall: 0.2369453404236771\n",
      "F1 Score: 0.21222811303353573\n"
     ]
    }
   ],
   "source": [
    "# Predict outputs by model for test data\n",
    "glove_y_pred = glove_gaussian_nb.predict(glove_X_test)\n",
    "\n",
    "# Calculate accuracy, precision, recall and F1 score\n",
    "glove_gaussian_accuracy = accuracy_score(glove_y_test, glove_y_pred)\n",
    "glove_precision, glove_recall, glove_f1, _ = precision_recall_fscore_support(glove_y_test ,glove_y_pred, average = 'weighted')\n",
    "\n",
    "print(\"Performance metrics for Gaussian Naive Bayes Classifier with GLoVe embeddings\")\n",
    "print(\"Accuracy:\", glove_gaussian_accuracy)\n",
    "print(\"Precision:\", glove_precision)\n",
    "print(\"Recall:\", glove_recall)\n",
    "print(\"F1 Score:\", glove_f1)"
   ],
   "metadata": {
    "collapsed": false,
    "ExecuteTime": {
     "start_time": "2023-04-16T18:41:32.135791Z",
     "end_time": "2023-04-16T18:41:32.293104Z"
    }
   }
  },
  {
   "cell_type": "markdown",
   "source": [
    "# Logistic Regression Models as classifiers"
   ],
   "metadata": {
    "collapsed": false
   }
  },
  {
   "cell_type": "code",
   "execution_count": 16,
   "outputs": [],
   "source": [
    "def logistic_regression_accuracy(embeddings, penalty='no', C=1.0):\n",
    "    \"\"\"\n",
    "    Helper method to implement Logistic Regression models using sklearn and different hyperparameters\n",
    "    :param embeddings: choice between word2vec and GLoVe embeddings\n",
    "    :param penalty: Type of regularization\n",
    "    :param C: Strength of regularization\n",
    "    :return: Accuracy, precision, recall and F1 score of the model\n",
    "    \"\"\"\n",
    "    if embeddings == 'word2vec':\n",
    "        word_embeddings = w2v_training_data\n",
    "    elif embeddings == \"glove\":\n",
    "        word_embeddings = glove_training_data\n",
    "\n",
    "    X_train, X_test, y_train, y_test = train_test_split(word_embeddings, training_labels, test_size=0.2, random_state=42)\n",
    "\n",
    "    if penalty == 'no':\n",
    "        logistic_classifier = LogisticRegression(multi_class='multinomial', max_iter=1000)\n",
    "    elif penalty == 'l1':\n",
    "        logistic_classifier = LogisticRegression(multi_class='multinomial', max_iter=1000, penalty='l1', C=C, solver='saga')\n",
    "    elif penalty == 'l2':\n",
    "        logistic_classifier = LogisticRegression(multi_class='multinomial', max_iter=1000, penalty='l2', C=C)\n",
    "    else:\n",
    "        raise ValueError('Invalid penalty type')\n",
    "\n",
    "    logistic_classifier.fit(X_train, y_train)\n",
    "\n",
    "    y_pred = logistic_classifier.predict(X_test)\n",
    "\n",
    "    accuracy = accuracy_score(y_test, y_pred)\n",
    "    precision, recall, f1, _ = precision_recall_fscore_support(y_test, y_pred, average='weighted')\n",
    "    print(\"Performance metrics for Logistic Regression Classifier with\", embeddings, \"embeddings and\", penalty, \"penalty\")\n",
    "    print(\"Accuracy:\", accuracy)\n",
    "    print(\"Precision:\", precision)\n",
    "    print(\"Recall:\", recall)\n",
    "    print(\"F1 Score:\", f1)\n",
    "    print(\"\")\n",
    "    return accuracy, precision, recall, f1"
   ],
   "metadata": {
    "collapsed": false,
    "ExecuteTime": {
     "start_time": "2023-04-16T18:41:32.291741Z",
     "end_time": "2023-04-16T18:41:32.299074Z"
    }
   }
  },
  {
   "cell_type": "code",
   "execution_count": 17,
   "outputs": [
    {
     "name": "stdout",
     "output_type": "stream",
     "text": [
      "Word2Vec Embeddings\n",
      "Performance metrics for Logistic Regression Classifier with word2vec embeddings and no penalty\n",
      "Accuracy: 0.4301281492459245\n",
      "Precision: 0.4029629873890718\n",
      "Recall: 0.4301281492459245\n",
      "F1 Score: 0.36919746261427183\n",
      "\n",
      "Performance metrics for Logistic Regression Classifier with word2vec embeddings and l1 penalty\n",
      "Accuracy: 0.4307383837503269\n",
      "Precision: 0.4027637004738841\n",
      "Recall: 0.4307383837503269\n",
      "F1 Score: 0.3710428223525167\n",
      "\n",
      "Performance metrics for Logistic Regression Classifier with word2vec embeddings and l2 penalty\n",
      "Accuracy: 0.4301281492459245\n",
      "Precision: 0.4029629873890718\n",
      "Recall: 0.4301281492459245\n",
      "F1 Score: 0.36919746261427183\n",
      "\n"
     ]
    }
   ],
   "source": [
    "print(\"Word2Vec Embeddings\")\n",
    "word2vec_accuracy = logistic_regression_accuracy(\"word2vec\")\n",
    "word2vec_l1_accuracy = logistic_regression_accuracy(\"word2vec\", penalty='l1', C=1.0)\n",
    "word2vec_l2_accuracy = logistic_regression_accuracy(\"word2vec\", penalty='l2', C=1.0)"
   ],
   "metadata": {
    "collapsed": false,
    "ExecuteTime": {
     "start_time": "2023-04-16T18:41:32.300734Z",
     "end_time": "2023-04-16T18:48:03.338013Z"
    }
   }
  },
  {
   "cell_type": "code",
   "execution_count": 18,
   "outputs": [
    {
     "name": "stdout",
     "output_type": "stream",
     "text": [
      "GLoVe Embeddings\n",
      "Performance metrics for Logistic Regression Classifier with glove embeddings and no penalty\n",
      "Accuracy: 0.40929299973847094\n",
      "Precision: 0.37940986320477826\n",
      "Recall: 0.40929299973847094\n",
      "F1 Score: 0.34349756379757873\n",
      "\n",
      "Performance metrics for Logistic Regression Classifier with glove embeddings and l1 penalty\n",
      "Accuracy: 0.41038270421061807\n",
      "Precision: 0.38032277767338246\n",
      "Recall: 0.41038270421061807\n",
      "F1 Score: 0.3454281914558479\n",
      "\n",
      "Performance metrics for Logistic Regression Classifier with glove embeddings and l2 penalty\n",
      "Accuracy: 0.40929299973847094\n",
      "Precision: 0.37940986320477826\n",
      "Recall: 0.40929299973847094\n",
      "F1 Score: 0.34349756379757873\n",
      "\n"
     ]
    }
   ],
   "source": [
    "print(\"GLoVe Embeddings\")\n",
    "glove_accuracy = logistic_regression_accuracy(\"glove\")\n",
    "glove_l1_accuracy = logistic_regression_accuracy(\"glove\", penalty='l1', C=1.0)\n",
    "glove_l2_accuracy = logistic_regression_accuracy(\"glove\", penalty='l2', C=1.0)"
   ],
   "metadata": {
    "collapsed": false,
    "ExecuteTime": {
     "start_time": "2023-04-16T18:48:03.339993Z",
     "end_time": "2023-04-16T18:58:53.113577Z"
    }
   }
  },
  {
   "cell_type": "code",
   "execution_count": 19,
   "outputs": [],
   "source": [
    "class LogReg(nn.Module):\n",
    "    \"\"\"\n",
    "    Class inheriting PyTorch module to create a 1 layer linear neural network for Logistic Regression model.\n",
    "    \"\"\"\n",
    "    def __init__(self):\n",
    "        super().__init__()\n",
    "        self.layer = nn.Linear(200, 16)\n",
    "\n",
    "    def forward(self, x):\n",
    "        x = self.layer(x)\n",
    "        return x"
   ],
   "metadata": {
    "collapsed": false,
    "ExecuteTime": {
     "start_time": "2023-04-16T18:58:53.092672Z",
     "end_time": "2023-04-16T18:58:53.114689Z"
    }
   }
  },
  {
   "cell_type": "code",
   "execution_count": 20,
   "outputs": [],
   "source": [
    "def train(model, embeddings, epochs, penalty = 'no', C=1.0, lr = 0.01, verbose=False):\n",
    "    \"\"\"\n",
    "    Trains a PyTorch implementation of Logistic Regression model\n",
    "    :param model: The logistic regression model\n",
    "    :param embeddings: GLoVe or word2vec embeddings to be used for training\n",
    "    :param epochs: Number of epochs to train model for\n",
    "    :param penalty: Regularization being used\n",
    "    :param C: Strength of regularization\n",
    "    :param lr: Learning rate for gradient descent\n",
    "    :param verbose: Print progress of training\n",
    "    :return: Training losses over epochs, testing losses over epochs, best accuracy and best F1 score\n",
    "    \"\"\"\n",
    "    loss_func = nn.CrossEntropyLoss()\n",
    "    if embeddings == 'word2vec':\n",
    "        word_embeddings = w2v_training_data\n",
    "    elif embeddings == \"glove\":\n",
    "        word_embeddings = glove_training_data\n",
    "\n",
    "    X_train, X_test, y_train, y_test = train_test_split(word_embeddings, training_labels, test_size=0.2, random_state=42)\n",
    "\n",
    "    X_train = torch.tensor(X_train, dtype=torch.float)\n",
    "    X_test = torch.tensor(X_test, dtype=torch.float)\n",
    "    y_train = torch.tensor(y_train)\n",
    "    y_test = torch.tensor(y_test)\n",
    "\n",
    "    if penalty == 'no':\n",
    "        optimizer = optim.SGD(model.parameters(), lr=lr)\n",
    "    elif penalty == 'l1':\n",
    "        optimizer = optim.SGD(model.parameters(), lr=lr, weight_decay=C, momentum=0.9)\n",
    "    elif penalty == 'l2':\n",
    "        optimizer = optim.Adam(model.parameters(), lr=lr, weight_decay=C)\n",
    "    else:\n",
    "        raise ValueError('Invalid penalty type')\n",
    "\n",
    "    train_losses = []\n",
    "    val_losses = []\n",
    "    best_accuracy = 0.0\n",
    "    best_f1_score = 0.0\n",
    "    for epoch in range(epochs):\n",
    "        # Training\n",
    "        model.train()\n",
    "        optimizer.zero_grad()\n",
    "        outputs = model(X_train)\n",
    "        loss = loss_func(outputs, y_train)\n",
    "        loss.backward()\n",
    "        optimizer.step()\n",
    "        train_losses.append(loss.item())\n",
    "\n",
    "        # Validation\n",
    "        model.eval()\n",
    "        with torch.no_grad():\n",
    "            outputs = model(X_test)\n",
    "            loss = loss_func(outputs, y_test)\n",
    "            val_losses.append(loss.item())\n",
    "\n",
    "        # Calculate accuracy\n",
    "            _, predicted = torch.max(outputs.data, 1)\n",
    "            accuracy = (predicted == y_test).sum().item() / len(y_test)\n",
    "            if accuracy > best_accuracy:\n",
    "                best_accuracy = accuracy\n",
    "\n",
    "            precision, recall, f1_score, _ = precision_recall_fscore_support(y_test, predicted, average='weighted', zero_division = 1.0)\n",
    "            if f1_score > best_f1_score:\n",
    "                best_f1_score = f1_score\n",
    "\n",
    "        if verbose:\n",
    "            if int(epochs//3) == 33:\n",
    "                print(\"33% training done.\")\n",
    "            elif int(epochs//6) == 66:\n",
    "                print(\"66% training done.\")\n",
    "\n",
    "    return train_losses, val_losses, best_accuracy, best_f1_score"
   ],
   "metadata": {
    "collapsed": false,
    "ExecuteTime": {
     "start_time": "2023-04-16T18:58:53.111542Z",
     "end_time": "2023-04-16T18:58:53.114779Z"
    }
   }
  },
  {
   "cell_type": "code",
   "execution_count": 21,
   "outputs": [],
   "source": [
    "def visualize_validation_training_loss(training_loss, validation_loss):\n",
    "    \"\"\"\n",
    "    Plots the training and validation losses vs epochs\n",
    "    :param training_loss: List of training losses\n",
    "    :param validation_loss: List of validation losses\n",
    "    :return: None\n",
    "    \"\"\"\n",
    "    plt.plot(training_loss, label='Training Loss')\n",
    "    plt.plot(validation_loss, label='Validation Loss')\n",
    "    plt.xlabel('Epoch')\n",
    "    plt.ylabel('Loss')\n",
    "    plt.legend()\n",
    "    plt.show()"
   ],
   "metadata": {
    "collapsed": false,
    "ExecuteTime": {
     "start_time": "2023-04-16T18:58:53.111769Z",
     "end_time": "2023-04-16T18:58:53.130972Z"
    }
   }
  },
  {
   "cell_type": "code",
   "execution_count": 22,
   "outputs": [
    {
     "data": {
      "text/plain": "<Figure size 432x288 with 1 Axes>",
      "image/png": "[encoded data removed]"
     },
     "metadata": {
      "needs_background": "light"
     },
     "output_type": "display_data"
    },
    {
     "name": "stdout",
     "output_type": "stream",
     "text": [
      "Best accuracy: 0.2577804899311307\n",
      "BEst F1 score: 0.11584690820964878\n"
     ]
    }
   ],
   "source": [
    "w2v_logistic = LogReg()\n",
    "w2v_training_loss, w2v_testing_loss, best_accuracy, best_f1 = train(w2v_logistic, 'word2vec', 150)\n",
    "visualize_validation_training_loss(w2v_training_loss, w2v_testing_loss)\n",
    "print(\"Best accuracy:\", best_accuracy)\n",
    "print(\"BEst F1 score:\", best_f1)"
   ],
   "metadata": {
    "collapsed": false,
    "ExecuteTime": {
     "start_time": "2023-04-16T18:58:53.117531Z",
     "end_time": "2023-04-16T18:59:03.287459Z"
    }
   }
  },
  {
   "cell_type": "code",
   "execution_count": 23,
   "outputs": [
    {
     "data": {
      "text/plain": "<Figure size 432x288 with 1 Axes>",
      "image/png": "[encoded data removed]"
     },
     "metadata": {
      "needs_background": "light"
     },
     "output_type": "display_data"
    },
    {
     "name": "stdout",
     "output_type": "stream",
     "text": [
      "Best accuracy: 0.25782407811001656\n",
      "BEst F1 score: 0.10971816423513804\n"
     ]
    }
   ],
   "source": [
    "w2v_logistic = LogReg()\n",
    "w2v_training_loss, w2v_testing_loss, best_accuracy, best_f1 = train(w2v_logistic, 'word2vec', 150, penalty='l1')\n",
    "visualize_validation_training_loss(w2v_training_loss, w2v_testing_loss)\n",
    "print(\"Best accuracy:\", best_accuracy)\n",
    "print(\"BEst F1 score:\", best_f1)"
   ],
   "metadata": {
    "collapsed": false,
    "ExecuteTime": {
     "start_time": "2023-04-16T18:59:03.263839Z",
     "end_time": "2023-04-16T18:59:12.962084Z"
    }
   }
  },
  {
   "cell_type": "code",
   "execution_count": 24,
   "outputs": [
    {
     "data": {
      "text/plain": "<Figure size 432x288 with 1 Axes>",
      "image/png": "[encoded data removed]"
     },
     "metadata": {
      "needs_background": "light"
     },
     "output_type": "display_data"
    },
    {
     "name": "stdout",
     "output_type": "stream",
     "text": [
      "Best accuracy: 0.2579984308255601\n",
      "BEst F1 score: 0.1086042751126228\n"
     ]
    }
   ],
   "source": [
    "w2v_logistic = LogReg()\n",
    "w2v_training_loss, w2v_testing_loss, best_accuracy, best_f1 = train(w2v_logistic, 'word2vec', 150, penalty='l2')\n",
    "visualize_validation_training_loss(w2v_training_loss, w2v_testing_loss)\n",
    "print(\"Best accuracy:\", best_accuracy)\n",
    "print(\"BEst F1 score:\", best_f1)"
   ],
   "metadata": {
    "collapsed": false,
    "ExecuteTime": {
     "start_time": "2023-04-16T18:59:12.962038Z",
     "end_time": "2023-04-16T18:59:22.967957Z"
    }
   }
  },
  {
   "cell_type": "code",
   "execution_count": 25,
   "outputs": [
    {
     "data": {
      "text/plain": "<Figure size 432x288 with 1 Axes>",
      "image/png": "[encoded data removed]"
     },
     "metadata": {
      "needs_background": "light"
     },
     "output_type": "display_data"
    },
    {
     "name": "stdout",
     "output_type": "stream",
     "text": [
      "Best accuracy: 0.2772644058931218\n",
      "BEst F1 score: 0.14413734847191736\n"
     ]
    }
   ],
   "source": [
    "glove_logistic = LogReg()\n",
    "glove_training_loss, glove_testing_loss, best_accuracy, best_f1 = train(glove_logistic, 'glove', 1000)\n",
    "visualize_validation_training_loss(glove_training_loss, glove_testing_loss)\n",
    "print(\"Best accuracy:\", best_accuracy)\n",
    "print(\"BEst F1 score:\", best_f1)"
   ],
   "metadata": {
    "collapsed": false,
    "ExecuteTime": {
     "start_time": "2023-04-16T18:59:22.954262Z",
     "end_time": "2023-04-16T19:00:16.980894Z"
    }
   }
  },
  {
   "cell_type": "code",
   "execution_count": 26,
   "outputs": [
    {
     "data": {
      "text/plain": "<Figure size 432x288 with 1 Axes>",
      "image/png": "[encoded data removed]"
     },
     "metadata": {
      "needs_background": "light"
     },
     "output_type": "display_data"
    },
    {
     "name": "stdout",
     "output_type": "stream",
     "text": [
      "Best accuracy: 0.25782407811001656\n",
      "BEst F1 score: 0.10713009936674013\n"
     ]
    }
   ],
   "source": [
    "glove_logistic = LogReg()\n",
    "glove_training_loss, glove_testing_loss, best_accuracy, best_f1 = train(glove_logistic, 'glove', 150, penalty='l1')\n",
    "visualize_validation_training_loss(glove_training_loss, glove_testing_loss)\n",
    "print(\"Best accuracy:\", best_accuracy)\n",
    "print(\"BEst F1 score:\", best_f1)"
   ],
   "metadata": {
    "collapsed": false,
    "ExecuteTime": {
     "start_time": "2023-04-16T19:00:16.980558Z",
     "end_time": "2023-04-16T19:00:27.107939Z"
    }
   }
  },
  {
   "cell_type": "code",
   "execution_count": 27,
   "outputs": [
    {
     "data": {
      "text/plain": "<Figure size 432x288 with 1 Axes>",
      "image/png": "[encoded data removed]"
     },
     "metadata": {
      "needs_background": "light"
     },
     "output_type": "display_data"
    },
    {
     "name": "stdout",
     "output_type": "stream",
     "text": [
      "Best accuracy: 0.2778746403975242\n",
      "BEst F1 score: 0.16254116624188553\n"
     ]
    }
   ],
   "source": [
    "glove_logistic = LogReg()\n",
    "glove_training_loss, glove_testing_loss, best_accuracy, best_f1 = train(glove_logistic, 'glove', 150, penalty='l2')\n",
    "visualize_validation_training_loss(glove_training_loss, glove_testing_loss)\n",
    "print(\"Best accuracy:\", best_accuracy)\n",
    "print(\"BEst F1 score:\", best_f1)"
   ],
   "metadata": {
    "collapsed": false,
    "ExecuteTime": {
     "start_time": "2023-04-16T19:00:27.101185Z",
     "end_time": "2023-04-16T19:00:36.769688Z"
    }
   }
  },
  {
   "cell_type": "code",
   "execution_count": 27,
   "outputs": [],
   "source": [],
   "metadata": {
    "collapsed": false,
    "ExecuteTime": {
     "start_time": "2023-04-16T19:00:36.763654Z",
     "end_time": "2023-04-16T19:00:36.770193Z"
    }
   }
  }
 ],
 "metadata": {
  "kernelspec": {
   "name": "python3613jvsc74a57bd08d232f2b15de367dc78a22b0b211aac5c96cbb4ea76364c0e9451d1f26b7452d",
   "language": "python",
   "display_name": "Python 3.6.13 64-bit ('NLP': conda)"
  },
  "language_info": {
   "codemirror_mode": {
    "name": "ipython",
    "version": 2
   },
   "file_extension": ".py",
   "mimetype": "text/x-python",
   "name": "python",
   "nbconvert_exporter": "python",
   "pygments_lexer": "ipython2",
   "version": "2.7.6"
  }
 },
 "nbformat": 4,
 "nbformat_minor": 0
}
